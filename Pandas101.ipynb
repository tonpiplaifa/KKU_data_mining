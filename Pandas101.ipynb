{
  "nbformat": 4,
  "nbformat_minor": 0,
  "metadata": {
    "colab": {
      "name": "Pandas101",
      "provenance": [],
      "authorship_tag": "ABX9TyPQYX2osIgHo23PzCSnbVou",
      "include_colab_link": true
    },
    "kernelspec": {
      "name": "python3",
      "display_name": "Python 3"
    }
  },
  "cells": [
    {
      "cell_type": "markdown",
      "metadata": {
        "id": "view-in-github",
        "colab_type": "text"
      },
      "source": [
        "<a href=\"https://colab.research.google.com/github/tonpiplaifa/KKU_data_mining/blob/master/Pandas101.ipynb\" target=\"_parent\"><img src=\"https://colab.research.google.com/assets/colab-badge.svg\" alt=\"Open In Colab\"/></a>"
      ]
    },
    {
      "cell_type": "code",
      "metadata": {
        "id": "fciwyr08Ws1r",
        "outputId": "4968c82f-0f63-4be7-bf5a-f9ac2804d7a8",
        "colab": {
          "base_uri": "https://localhost:8080/",
          "height": 54
        }
      },
      "source": [
        "from google.colab import drive\n",
        "drive.mount('/content/drive')"
      ],
      "execution_count": 2,
      "outputs": [
        {
          "output_type": "stream",
          "text": [
            "Drive already mounted at /content/drive; to attempt to forcibly remount, call drive.mount(\"/content/drive\", force_remount=True).\n"
          ],
          "name": "stdout"
        }
      ]
    },
    {
      "cell_type": "code",
      "metadata": {
        "id": "yMPBc62PjAlP",
        "outputId": "8d9c9d2e-6eaa-4607-b157-72026246ed95",
        "colab": {
          "base_uri": "https://localhost:8080/",
          "height": 34
        }
      },
      "source": [
        "ls"
      ],
      "execution_count": 3,
      "outputs": [
        {
          "output_type": "stream",
          "text": [
            "\u001b[0m\u001b[01;34mdrive\u001b[0m/  \u001b[01;34msample_data\u001b[0m/\n"
          ],
          "name": "stdout"
        }
      ]
    },
    {
      "cell_type": "code",
      "metadata": {
        "id": "hF12x0wVdo4H"
      },
      "source": [
        "path = '/content/drive/My Drive/DWDM_material'"
      ],
      "execution_count": 4,
      "outputs": []
    },
    {
      "cell_type": "code",
      "metadata": {
        "id": "2MD1gP52cb2F"
      },
      "source": [
        "import pandas"
      ],
      "execution_count": 5,
      "outputs": []
    },
    {
      "cell_type": "code",
      "metadata": {
        "id": "PzaRfQNtcfA-"
      },
      "source": [
        "import os"
      ],
      "execution_count": 6,
      "outputs": []
    },
    {
      "cell_type": "code",
      "metadata": {
        "id": "zMoC4rD8cims"
      },
      "source": [
        "search_click = os.path.join(path,'search_click.csv')\n",
        "w_restaurant = os.path.join(path,'w_restaurant.csv')"
      ],
      "execution_count": 7,
      "outputs": []
    },
    {
      "cell_type": "code",
      "metadata": {
        "id": "3GRyhHbIdjkq"
      },
      "source": [
        "search_click_df = pandas.read_csv(search_click)"
      ],
      "execution_count": 8,
      "outputs": []
    },
    {
      "cell_type": "code",
      "metadata": {
        "id": "fgJ07qaoetLB",
        "outputId": "5077c492-47a4-4fe5-e6f0-9dce7fc4358f",
        "colab": {
          "base_uri": "https://localhost:8080/",
          "height": 204
        }
      },
      "source": [
        "search_click_df.head()"
      ],
      "execution_count": 9,
      "outputs": [
        {
          "output_type": "execute_result",
          "data": {
            "text/html": [
              "<div>\n",
              "<style scoped>\n",
              "    .dataframe tbody tr th:only-of-type {\n",
              "        vertical-align: middle;\n",
              "    }\n",
              "\n",
              "    .dataframe tbody tr th {\n",
              "        vertical-align: top;\n",
              "    }\n",
              "\n",
              "    .dataframe thead th {\n",
              "        text-align: right;\n",
              "    }\n",
              "</style>\n",
              "<table border=\"1\" class=\"dataframe\">\n",
              "  <thead>\n",
              "    <tr style=\"text-align: right;\">\n",
              "      <th></th>\n",
              "      <th>click_timestamp</th>\n",
              "      <th>search_id</th>\n",
              "      <th>business_id</th>\n",
              "      <th>display_position</th>\n",
              "      <th>time_diff_nanos</th>\n",
              "      <th>ads</th>\n",
              "    </tr>\n",
              "  </thead>\n",
              "  <tbody>\n",
              "    <tr>\n",
              "      <th>0</th>\n",
              "      <td>11:38.9</td>\n",
              "      <td>5c004472-5ecc-4159-9698-9f329b8e26e1</td>\n",
              "      <td>298839.0</td>\n",
              "      <td>0</td>\n",
              "      <td>2.222400e+15</td>\n",
              "      <td>True</td>\n",
              "    </tr>\n",
              "    <tr>\n",
              "      <th>1</th>\n",
              "      <td>30:51.3</td>\n",
              "      <td>5f34eca0-c04e-4c10-b600-54aa447dbd8e</td>\n",
              "      <td>171372.0</td>\n",
              "      <td>0</td>\n",
              "      <td>4.608380e+14</td>\n",
              "      <td>True</td>\n",
              "    </tr>\n",
              "    <tr>\n",
              "      <th>2</th>\n",
              "      <td>32:09.6</td>\n",
              "      <td>8dc6d1f0-11f1-4239-9dd2-5c1674c81224</td>\n",
              "      <td>16157.0</td>\n",
              "      <td>0</td>\n",
              "      <td>2.581490e+15</td>\n",
              "      <td>True</td>\n",
              "    </tr>\n",
              "    <tr>\n",
              "      <th>3</th>\n",
              "      <td>00:59.8</td>\n",
              "      <td>1a5810e9-3d1f-44b9-9a2e-26ede21c524b</td>\n",
              "      <td>89741.0</td>\n",
              "      <td>1</td>\n",
              "      <td>1.404580e+15</td>\n",
              "      <td>True</td>\n",
              "    </tr>\n",
              "    <tr>\n",
              "      <th>4</th>\n",
              "      <td>23:36.8</td>\n",
              "      <td>6bc75e0d-fc65-471e-9926-ff6be6708639</td>\n",
              "      <td>189564.0</td>\n",
              "      <td>1</td>\n",
              "      <td>9.333590e+14</td>\n",
              "      <td>True</td>\n",
              "    </tr>\n",
              "  </tbody>\n",
              "</table>\n",
              "</div>"
            ],
            "text/plain": [
              "  click_timestamp                             search_id  ...  time_diff_nanos   ads\n",
              "0         11:38.9  5c004472-5ecc-4159-9698-9f329b8e26e1  ...     2.222400e+15  True\n",
              "1         30:51.3  5f34eca0-c04e-4c10-b600-54aa447dbd8e  ...     4.608380e+14  True\n",
              "2         32:09.6  8dc6d1f0-11f1-4239-9dd2-5c1674c81224  ...     2.581490e+15  True\n",
              "3         00:59.8  1a5810e9-3d1f-44b9-9a2e-26ede21c524b  ...     1.404580e+15  True\n",
              "4         23:36.8  6bc75e0d-fc65-471e-9926-ff6be6708639  ...     9.333590e+14  True\n",
              "\n",
              "[5 rows x 6 columns]"
            ]
          },
          "metadata": {
            "tags": []
          },
          "execution_count": 9
        }
      ]
    },
    {
      "cell_type": "code",
      "metadata": {
        "id": "8-0X7XRpflXn"
      },
      "source": [
        "w_restaurant_df = pandas.read_csv(w_restaurant)"
      ],
      "execution_count": 10,
      "outputs": []
    },
    {
      "cell_type": "code",
      "metadata": {
        "id": "oNKZ85p5gRI8",
        "outputId": "c789fbb7-2d61-471b-e176-30502f970ffa",
        "colab": {
          "base_uri": "https://localhost:8080/",
          "height": 34
        }
      },
      "source": [
        "w_restaurant_df.shape"
      ],
      "execution_count": 11,
      "outputs": [
        {
          "output_type": "execute_result",
          "data": {
            "text/plain": [
              "(246847, 32)"
            ]
          },
          "metadata": {
            "tags": []
          },
          "execution_count": 11
        }
      ]
    },
    {
      "cell_type": "code",
      "metadata": {
        "id": "HKIOzk2xgd63",
        "outputId": "eaa27e4d-4995-4efb-bcb0-6fcbdb1cdde1",
        "colab": {
          "base_uri": "https://localhost:8080/",
          "height": 377
        }
      },
      "source": [
        "w_restaurant_df.head()"
      ],
      "execution_count": 12,
      "outputs": [
        {
          "output_type": "execute_result",
          "data": {
            "text/html": [
              "<div>\n",
              "<style scoped>\n",
              "    .dataframe tbody tr th:only-of-type {\n",
              "        vertical-align: middle;\n",
              "    }\n",
              "\n",
              "    .dataframe tbody tr th {\n",
              "        vertical-align: top;\n",
              "    }\n",
              "\n",
              "    .dataframe thead th {\n",
              "        text-align: right;\n",
              "    }\n",
              "</style>\n",
              "<table border=\"1\" class=\"dataframe\">\n",
              "  <thead>\n",
              "    <tr style=\"text-align: right;\">\n",
              "      <th></th>\n",
              "      <th>id</th>\n",
              "      <th>name</th>\n",
              "      <th>domain_id</th>\n",
              "      <th>closed</th>\n",
              "      <th>city_name</th>\n",
              "      <th>zipcode</th>\n",
              "      <th>geohash</th>\n",
              "      <th>new_open</th>\n",
              "      <th>weighted_average_rating</th>\n",
              "      <th>number_of_chains</th>\n",
              "      <th>number_of_bookmarks</th>\n",
              "      <th>number_of_reviews</th>\n",
              "      <th>number_of_product_tags</th>\n",
              "      <th>total_number_of_views</th>\n",
              "      <th>number_of_checkins</th>\n",
              "      <th>number_of_menu_groups</th>\n",
              "      <th>number_of_menu_photos</th>\n",
              "      <th>category_name</th>\n",
              "      <th>price_range</th>\n",
              "      <th>avg_price</th>\n",
              "      <th>parking</th>\n",
              "      <th>credit_card_accepted</th>\n",
              "      <th>good_for_groups</th>\n",
              "      <th>good_for_kids</th>\n",
              "      <th>bookable</th>\n",
              "      <th>best_of_wongnai</th>\n",
              "      <th>wifi</th>\n",
              "      <th>number_of_seats</th>\n",
              "      <th>music_venue</th>\n",
              "      <th>hotel_restaurant</th>\n",
              "      <th>pet_friendly</th>\n",
              "      <th>delivery</th>\n",
              "    </tr>\n",
              "  </thead>\n",
              "  <tbody>\n",
              "    <tr>\n",
              "      <th>0</th>\n",
              "      <td>2</td>\n",
              "      <td>นครินทร์ทันตกรรม</td>\n",
              "      <td>2</td>\n",
              "      <td>0</td>\n",
              "      <td>Samut Songkhram</td>\n",
              "      <td>75000</td>\n",
              "      <td>w4rh7g3</td>\n",
              "      <td>0</td>\n",
              "      <td>5.000000</td>\n",
              "      <td>NaN</td>\n",
              "      <td>NaN</td>\n",
              "      <td>1</td>\n",
              "      <td>0</td>\n",
              "      <td>3016</td>\n",
              "      <td>0</td>\n",
              "      <td>0</td>\n",
              "      <td>0</td>\n",
              "      <td>Orthodontic</td>\n",
              "      <td>NaN</td>\n",
              "      <td>NaN</td>\n",
              "      <td>3.0</td>\n",
              "      <td>0.0</td>\n",
              "      <td>NaN</td>\n",
              "      <td>NaN</td>\n",
              "      <td>NaN</td>\n",
              "      <td>NaN</td>\n",
              "      <td>NaN</td>\n",
              "      <td>13.0</td>\n",
              "      <td>NaN</td>\n",
              "      <td>NaN</td>\n",
              "      <td>NaN</td>\n",
              "      <td>NaN</td>\n",
              "    </tr>\n",
              "    <tr>\n",
              "      <th>1</th>\n",
              "      <td>4</td>\n",
              "      <td>Corner House</td>\n",
              "      <td>1</td>\n",
              "      <td>0</td>\n",
              "      <td>Bangkok Metropolitan Region</td>\n",
              "      <td>12150</td>\n",
              "      <td>w4rx73h</td>\n",
              "      <td>0</td>\n",
              "      <td>2.000000</td>\n",
              "      <td>NaN</td>\n",
              "      <td>NaN</td>\n",
              "      <td>1</td>\n",
              "      <td>0</td>\n",
              "      <td>321</td>\n",
              "      <td>0</td>\n",
              "      <td>0</td>\n",
              "      <td>1</td>\n",
              "      <td>Quick Meal</td>\n",
              "      <td>1.0</td>\n",
              "      <td>NaN</td>\n",
              "      <td>1.0</td>\n",
              "      <td>NaN</td>\n",
              "      <td>NaN</td>\n",
              "      <td>NaN</td>\n",
              "      <td>NaN</td>\n",
              "      <td>NaN</td>\n",
              "      <td>NaN</td>\n",
              "      <td>NaN</td>\n",
              "      <td>NaN</td>\n",
              "      <td>NaN</td>\n",
              "      <td>NaN</td>\n",
              "      <td>NaN</td>\n",
              "    </tr>\n",
              "    <tr>\n",
              "      <th>2</th>\n",
              "      <td>5</td>\n",
              "      <td>วัดโลกยสุธาราม</td>\n",
              "      <td>4</td>\n",
              "      <td>0</td>\n",
              "      <td>Phra Nakhon Si Ayutthaya</td>\n",
              "      <td>13000</td>\n",
              "      <td>w4x98jk</td>\n",
              "      <td>0</td>\n",
              "      <td>4.000000</td>\n",
              "      <td>NaN</td>\n",
              "      <td>1.0</td>\n",
              "      <td>0</td>\n",
              "      <td>0</td>\n",
              "      <td>167</td>\n",
              "      <td>0</td>\n",
              "      <td>0</td>\n",
              "      <td>0</td>\n",
              "      <td>Historical/Religion</td>\n",
              "      <td>NaN</td>\n",
              "      <td>NaN</td>\n",
              "      <td>1.0</td>\n",
              "      <td>NaN</td>\n",
              "      <td>NaN</td>\n",
              "      <td>NaN</td>\n",
              "      <td>NaN</td>\n",
              "      <td>NaN</td>\n",
              "      <td>NaN</td>\n",
              "      <td>NaN</td>\n",
              "      <td>NaN</td>\n",
              "      <td>NaN</td>\n",
              "      <td>NaN</td>\n",
              "      <td>NaN</td>\n",
              "    </tr>\n",
              "    <tr>\n",
              "      <th>3</th>\n",
              "      <td>6</td>\n",
              "      <td>นันท์คาราโอเกะ</td>\n",
              "      <td>1</td>\n",
              "      <td>0</td>\n",
              "      <td>Bangkok Metropolitan Region</td>\n",
              "      <td>10700</td>\n",
              "      <td>w4rqw9q</td>\n",
              "      <td>0</td>\n",
              "      <td>0.000000</td>\n",
              "      <td>NaN</td>\n",
              "      <td>NaN</td>\n",
              "      <td>0</td>\n",
              "      <td>0</td>\n",
              "      <td>901</td>\n",
              "      <td>0</td>\n",
              "      <td>0</td>\n",
              "      <td>0</td>\n",
              "      <td>Karaoke</td>\n",
              "      <td>NaN</td>\n",
              "      <td>NaN</td>\n",
              "      <td>NaN</td>\n",
              "      <td>NaN</td>\n",
              "      <td>NaN</td>\n",
              "      <td>NaN</td>\n",
              "      <td>NaN</td>\n",
              "      <td>NaN</td>\n",
              "      <td>NaN</td>\n",
              "      <td>NaN</td>\n",
              "      <td>NaN</td>\n",
              "      <td>NaN</td>\n",
              "      <td>NaN</td>\n",
              "      <td>NaN</td>\n",
              "    </tr>\n",
              "    <tr>\n",
              "      <th>4</th>\n",
              "      <td>7</td>\n",
              "      <td>Buono Caffe</td>\n",
              "      <td>1</td>\n",
              "      <td>0</td>\n",
              "      <td>Bangkok Metropolitan Region</td>\n",
              "      <td>10220</td>\n",
              "      <td>w4rx4gd</td>\n",
              "      <td>0</td>\n",
              "      <td>3.738462</td>\n",
              "      <td>NaN</td>\n",
              "      <td>15.0</td>\n",
              "      <td>3</td>\n",
              "      <td>0</td>\n",
              "      <td>2360</td>\n",
              "      <td>1</td>\n",
              "      <td>0</td>\n",
              "      <td>2</td>\n",
              "      <td>Café/Coffee Shop</td>\n",
              "      <td>1.0</td>\n",
              "      <td>NaN</td>\n",
              "      <td>1.0</td>\n",
              "      <td>0.0</td>\n",
              "      <td>NaN</td>\n",
              "      <td>NaN</td>\n",
              "      <td>NaN</td>\n",
              "      <td>NaN</td>\n",
              "      <td>1.0</td>\n",
              "      <td>2.0</td>\n",
              "      <td>NaN</td>\n",
              "      <td>NaN</td>\n",
              "      <td>NaN</td>\n",
              "      <td>NaN</td>\n",
              "    </tr>\n",
              "  </tbody>\n",
              "</table>\n",
              "</div>"
            ],
            "text/plain": [
              "   id              name  domain_id  ...  hotel_restaurant pet_friendly delivery\n",
              "0   2  นครินทร์ทันตกรรม          2  ...               NaN          NaN      NaN\n",
              "1   4      Corner House          1  ...               NaN          NaN      NaN\n",
              "2   5    วัดโลกยสุธาราม          4  ...               NaN          NaN      NaN\n",
              "3   6    นันท์คาราโอเกะ          1  ...               NaN          NaN      NaN\n",
              "4   7       Buono Caffe          1  ...               NaN          NaN      NaN\n",
              "\n",
              "[5 rows x 32 columns]"
            ]
          },
          "metadata": {
            "tags": []
          },
          "execution_count": 12
        }
      ]
    },
    {
      "cell_type": "markdown",
      "metadata": {
        "id": "ll1s2hEamchp"
      },
      "source": [
        "## การชี้ข้อมูลในตาราง"
      ]
    },
    {
      "cell_type": "code",
      "metadata": {
        "id": "MJlXVE93nJVw",
        "outputId": "49462246-86be-4cf4-acc1-0a712124d34a",
        "colab": {
          "base_uri": "https://localhost:8080/",
          "height": 221
        }
      },
      "source": [
        "search_click_df['search_id']"
      ],
      "execution_count": 13,
      "outputs": [
        {
          "output_type": "execute_result",
          "data": {
            "text/plain": [
              "0          5c004472-5ecc-4159-9698-9f329b8e26e1\n",
              "1          5f34eca0-c04e-4c10-b600-54aa447dbd8e\n",
              "2          8dc6d1f0-11f1-4239-9dd2-5c1674c81224\n",
              "3          1a5810e9-3d1f-44b9-9a2e-26ede21c524b\n",
              "4          6bc75e0d-fc65-471e-9926-ff6be6708639\n",
              "                           ...                 \n",
              "1048570    99aab616-6fc5-4fbf-994b-4aebee7bb360\n",
              "1048571    d70a2c5d-ee94-4e4c-9f7c-c5faac6db12a\n",
              "1048572    4c1de7fe-300e-41aa-9d01-914344fc3753\n",
              "1048573    2ec0ddec-e450-4b98-9779-42b77aa7eda5\n",
              "1048574    5741d9cf-b9f1-441d-aa83-d2b0179bf874\n",
              "Name: search_id, Length: 1048575, dtype: object"
            ]
          },
          "metadata": {
            "tags": []
          },
          "execution_count": 13
        }
      ]
    },
    {
      "cell_type": "code",
      "metadata": {
        "id": "Cdqpxc2umzxN",
        "outputId": "e12c2d00-b6c8-4b34-da28-e84c2e3eddff",
        "colab": {
          "base_uri": "https://localhost:8080/",
          "height": 35
        }
      },
      "source": [
        "search_click_df['search_id'][0]"
      ],
      "execution_count": 14,
      "outputs": [
        {
          "output_type": "execute_result",
          "data": {
            "application/vnd.google.colaboratory.intrinsic+json": {
              "type": "string"
            },
            "text/plain": [
              "'5c004472-5ecc-4159-9698-9f329b8e26e1'"
            ]
          },
          "metadata": {
            "tags": []
          },
          "execution_count": 14
        }
      ]
    },
    {
      "cell_type": "markdown",
      "metadata": {
        "id": "Y-_GvsvAnawW"
      },
      "source": [
        "### .iloc"
      ]
    },
    {
      "cell_type": "code",
      "metadata": {
        "id": "minfx1XgnG3o",
        "outputId": "8f6a1927-190e-4a99-a5ef-92faa1f64862",
        "colab": {
          "base_uri": "https://localhost:8080/",
          "height": 35
        }
      },
      "source": [
        "search_click_df.iloc[0,1]"
      ],
      "execution_count": 15,
      "outputs": [
        {
          "output_type": "execute_result",
          "data": {
            "application/vnd.google.colaboratory.intrinsic+json": {
              "type": "string"
            },
            "text/plain": [
              "'5c004472-5ecc-4159-9698-9f329b8e26e1'"
            ]
          },
          "metadata": {
            "tags": []
          },
          "execution_count": 15
        }
      ]
    },
    {
      "cell_type": "code",
      "metadata": {
        "id": "_PUaiwxmnYUT",
        "outputId": "4ebca7a5-e5c0-4595-cb74-f103d051cd01",
        "colab": {
          "base_uri": "https://localhost:8080/",
          "height": 359
        }
      },
      "source": [
        "search_click_df.iloc[:10,:2]"
      ],
      "execution_count": 16,
      "outputs": [
        {
          "output_type": "execute_result",
          "data": {
            "text/html": [
              "<div>\n",
              "<style scoped>\n",
              "    .dataframe tbody tr th:only-of-type {\n",
              "        vertical-align: middle;\n",
              "    }\n",
              "\n",
              "    .dataframe tbody tr th {\n",
              "        vertical-align: top;\n",
              "    }\n",
              "\n",
              "    .dataframe thead th {\n",
              "        text-align: right;\n",
              "    }\n",
              "</style>\n",
              "<table border=\"1\" class=\"dataframe\">\n",
              "  <thead>\n",
              "    <tr style=\"text-align: right;\">\n",
              "      <th></th>\n",
              "      <th>click_timestamp</th>\n",
              "      <th>search_id</th>\n",
              "    </tr>\n",
              "  </thead>\n",
              "  <tbody>\n",
              "    <tr>\n",
              "      <th>0</th>\n",
              "      <td>11:38.9</td>\n",
              "      <td>5c004472-5ecc-4159-9698-9f329b8e26e1</td>\n",
              "    </tr>\n",
              "    <tr>\n",
              "      <th>1</th>\n",
              "      <td>30:51.3</td>\n",
              "      <td>5f34eca0-c04e-4c10-b600-54aa447dbd8e</td>\n",
              "    </tr>\n",
              "    <tr>\n",
              "      <th>2</th>\n",
              "      <td>32:09.6</td>\n",
              "      <td>8dc6d1f0-11f1-4239-9dd2-5c1674c81224</td>\n",
              "    </tr>\n",
              "    <tr>\n",
              "      <th>3</th>\n",
              "      <td>00:59.8</td>\n",
              "      <td>1a5810e9-3d1f-44b9-9a2e-26ede21c524b</td>\n",
              "    </tr>\n",
              "    <tr>\n",
              "      <th>4</th>\n",
              "      <td>23:36.8</td>\n",
              "      <td>6bc75e0d-fc65-471e-9926-ff6be6708639</td>\n",
              "    </tr>\n",
              "    <tr>\n",
              "      <th>5</th>\n",
              "      <td>48:16.7</td>\n",
              "      <td>92ea02ba-2c89-4efd-973c-e23526c531de</td>\n",
              "    </tr>\n",
              "    <tr>\n",
              "      <th>6</th>\n",
              "      <td>39:18.4</td>\n",
              "      <td>79d61918-fb3e-4181-99b6-7a7abddfcdb1</td>\n",
              "    </tr>\n",
              "    <tr>\n",
              "      <th>7</th>\n",
              "      <td>33:39.0</td>\n",
              "      <td>7f8b2b57-dea1-4fe1-84c8-5a7d63750e47</td>\n",
              "    </tr>\n",
              "    <tr>\n",
              "      <th>8</th>\n",
              "      <td>07:48.3</td>\n",
              "      <td>3d9217bb-3eae-42b5-8cf3-a756efae2cfa</td>\n",
              "    </tr>\n",
              "    <tr>\n",
              "      <th>9</th>\n",
              "      <td>41:25.4</td>\n",
              "      <td>a2cb0d41-6e1f-4169-9140-cb671fbb41dc</td>\n",
              "    </tr>\n",
              "  </tbody>\n",
              "</table>\n",
              "</div>"
            ],
            "text/plain": [
              "  click_timestamp                             search_id\n",
              "0         11:38.9  5c004472-5ecc-4159-9698-9f329b8e26e1\n",
              "1         30:51.3  5f34eca0-c04e-4c10-b600-54aa447dbd8e\n",
              "2         32:09.6  8dc6d1f0-11f1-4239-9dd2-5c1674c81224\n",
              "3         00:59.8  1a5810e9-3d1f-44b9-9a2e-26ede21c524b\n",
              "4         23:36.8  6bc75e0d-fc65-471e-9926-ff6be6708639\n",
              "5         48:16.7  92ea02ba-2c89-4efd-973c-e23526c531de\n",
              "6         39:18.4  79d61918-fb3e-4181-99b6-7a7abddfcdb1\n",
              "7         33:39.0  7f8b2b57-dea1-4fe1-84c8-5a7d63750e47\n",
              "8         07:48.3  3d9217bb-3eae-42b5-8cf3-a756efae2cfa\n",
              "9         41:25.4  a2cb0d41-6e1f-4169-9140-cb671fbb41dc"
            ]
          },
          "metadata": {
            "tags": []
          },
          "execution_count": 16
        }
      ]
    },
    {
      "cell_type": "code",
      "metadata": {
        "id": "chwq-VmuoEU6",
        "outputId": "001c2e10-75e6-4a80-c55f-1439f9c00abb",
        "colab": {
          "base_uri": "https://localhost:8080/",
          "height": 538
        }
      },
      "source": [
        "w_restaurant_df[['name','city_name','weighted_average_rating']]"
      ],
      "execution_count": 17,
      "outputs": [
        {
          "output_type": "execute_result",
          "data": {
            "text/html": [
              "<div>\n",
              "<style scoped>\n",
              "    .dataframe tbody tr th:only-of-type {\n",
              "        vertical-align: middle;\n",
              "    }\n",
              "\n",
              "    .dataframe tbody tr th {\n",
              "        vertical-align: top;\n",
              "    }\n",
              "\n",
              "    .dataframe thead th {\n",
              "        text-align: right;\n",
              "    }\n",
              "</style>\n",
              "<table border=\"1\" class=\"dataframe\">\n",
              "  <thead>\n",
              "    <tr style=\"text-align: right;\">\n",
              "      <th></th>\n",
              "      <th>name</th>\n",
              "      <th>city_name</th>\n",
              "      <th>weighted_average_rating</th>\n",
              "    </tr>\n",
              "  </thead>\n",
              "  <tbody>\n",
              "    <tr>\n",
              "      <th>0</th>\n",
              "      <td>นครินทร์ทันตกรรม</td>\n",
              "      <td>Samut Songkhram</td>\n",
              "      <td>5.000000</td>\n",
              "    </tr>\n",
              "    <tr>\n",
              "      <th>1</th>\n",
              "      <td>Corner House</td>\n",
              "      <td>Bangkok Metropolitan Region</td>\n",
              "      <td>2.000000</td>\n",
              "    </tr>\n",
              "    <tr>\n",
              "      <th>2</th>\n",
              "      <td>วัดโลกยสุธาราม</td>\n",
              "      <td>Phra Nakhon Si Ayutthaya</td>\n",
              "      <td>4.000000</td>\n",
              "    </tr>\n",
              "    <tr>\n",
              "      <th>3</th>\n",
              "      <td>นันท์คาราโอเกะ</td>\n",
              "      <td>Bangkok Metropolitan Region</td>\n",
              "      <td>0.000000</td>\n",
              "    </tr>\n",
              "    <tr>\n",
              "      <th>4</th>\n",
              "      <td>Buono Caffe</td>\n",
              "      <td>Bangkok Metropolitan Region</td>\n",
              "      <td>3.738462</td>\n",
              "    </tr>\n",
              "    <tr>\n",
              "      <th>...</th>\n",
              "      <td>...</td>\n",
              "      <td>...</td>\n",
              "      <td>...</td>\n",
              "    </tr>\n",
              "    <tr>\n",
              "      <th>246842</th>\n",
              "      <td>Sushi Tama</td>\n",
              "      <td>Bangkok Metropolitan Region</td>\n",
              "      <td>3.663522</td>\n",
              "    </tr>\n",
              "    <tr>\n",
              "      <th>246843</th>\n",
              "      <td>สะบายดี คาราโอเกะ</td>\n",
              "      <td>Bangkok Metropolitan Region</td>\n",
              "      <td>0.000000</td>\n",
              "    </tr>\n",
              "    <tr>\n",
              "      <th>246844</th>\n",
              "      <td>สเต็กแม่&amp;กาแฟลูก</td>\n",
              "      <td>Bangkok Metropolitan Region</td>\n",
              "      <td>4.000000</td>\n",
              "    </tr>\n",
              "    <tr>\n",
              "      <th>246845</th>\n",
              "      <td>Mom Made</td>\n",
              "      <td>Nakhon Si Thammarat</td>\n",
              "      <td>5.000000</td>\n",
              "    </tr>\n",
              "    <tr>\n",
              "      <th>246846</th>\n",
              "      <td>ก๋วยเตี๋ยวหมูน้ำตก ก๋วยเตี๋ยวเรือทอง</td>\n",
              "      <td>Suphan Buri</td>\n",
              "      <td>3.000000</td>\n",
              "    </tr>\n",
              "  </tbody>\n",
              "</table>\n",
              "<p>246847 rows × 3 columns</p>\n",
              "</div>"
            ],
            "text/plain": [
              "                                        name  ... weighted_average_rating\n",
              "0                           นครินทร์ทันตกรรม  ...                5.000000\n",
              "1                               Corner House  ...                2.000000\n",
              "2                             วัดโลกยสุธาราม  ...                4.000000\n",
              "3                             นันท์คาราโอเกะ  ...                0.000000\n",
              "4                                Buono Caffe  ...                3.738462\n",
              "...                                      ...  ...                     ...\n",
              "246842                            Sushi Tama  ...                3.663522\n",
              "246843                     สะบายดี คาราโอเกะ  ...                0.000000\n",
              "246844                      สเต็กแม่&กาแฟลูก  ...                4.000000\n",
              "246845                              Mom Made  ...                5.000000\n",
              "246846  ก๋วยเตี๋ยวหมูน้ำตก ก๋วยเตี๋ยวเรือทอง  ...                3.000000\n",
              "\n",
              "[246847 rows x 3 columns]"
            ]
          },
          "metadata": {
            "tags": []
          },
          "execution_count": 17
        }
      ]
    },
    {
      "cell_type": "markdown",
      "metadata": {
        "id": "t8e1Se3nq_qq"
      },
      "source": [
        "## Missing Values"
      ]
    },
    {
      "cell_type": "code",
      "metadata": {
        "id": "EHUPHat5q9sN",
        "outputId": "76fd9b7d-1af8-4bf4-da49-7f22564d4ce4",
        "colab": {
          "base_uri": "https://localhost:8080/",
          "height": 0
        }
      },
      "source": [
        "search_click_df.isnull()"
      ],
      "execution_count": 18,
      "outputs": [
        {
          "output_type": "execute_result",
          "data": {
            "text/html": [
              "<div>\n",
              "<style scoped>\n",
              "    .dataframe tbody tr th:only-of-type {\n",
              "        vertical-align: middle;\n",
              "    }\n",
              "\n",
              "    .dataframe tbody tr th {\n",
              "        vertical-align: top;\n",
              "    }\n",
              "\n",
              "    .dataframe thead th {\n",
              "        text-align: right;\n",
              "    }\n",
              "</style>\n",
              "<table border=\"1\" class=\"dataframe\">\n",
              "  <thead>\n",
              "    <tr style=\"text-align: right;\">\n",
              "      <th></th>\n",
              "      <th>click_timestamp</th>\n",
              "      <th>search_id</th>\n",
              "      <th>business_id</th>\n",
              "      <th>display_position</th>\n",
              "      <th>time_diff_nanos</th>\n",
              "      <th>ads</th>\n",
              "    </tr>\n",
              "  </thead>\n",
              "  <tbody>\n",
              "    <tr>\n",
              "      <th>0</th>\n",
              "      <td>False</td>\n",
              "      <td>False</td>\n",
              "      <td>False</td>\n",
              "      <td>False</td>\n",
              "      <td>False</td>\n",
              "      <td>False</td>\n",
              "    </tr>\n",
              "    <tr>\n",
              "      <th>1</th>\n",
              "      <td>False</td>\n",
              "      <td>False</td>\n",
              "      <td>False</td>\n",
              "      <td>False</td>\n",
              "      <td>False</td>\n",
              "      <td>False</td>\n",
              "    </tr>\n",
              "    <tr>\n",
              "      <th>2</th>\n",
              "      <td>False</td>\n",
              "      <td>False</td>\n",
              "      <td>False</td>\n",
              "      <td>False</td>\n",
              "      <td>False</td>\n",
              "      <td>False</td>\n",
              "    </tr>\n",
              "    <tr>\n",
              "      <th>3</th>\n",
              "      <td>False</td>\n",
              "      <td>False</td>\n",
              "      <td>False</td>\n",
              "      <td>False</td>\n",
              "      <td>False</td>\n",
              "      <td>False</td>\n",
              "    </tr>\n",
              "    <tr>\n",
              "      <th>4</th>\n",
              "      <td>False</td>\n",
              "      <td>False</td>\n",
              "      <td>False</td>\n",
              "      <td>False</td>\n",
              "      <td>False</td>\n",
              "      <td>False</td>\n",
              "    </tr>\n",
              "    <tr>\n",
              "      <th>...</th>\n",
              "      <td>...</td>\n",
              "      <td>...</td>\n",
              "      <td>...</td>\n",
              "      <td>...</td>\n",
              "      <td>...</td>\n",
              "      <td>...</td>\n",
              "    </tr>\n",
              "    <tr>\n",
              "      <th>1048570</th>\n",
              "      <td>False</td>\n",
              "      <td>False</td>\n",
              "      <td>False</td>\n",
              "      <td>False</td>\n",
              "      <td>False</td>\n",
              "      <td>False</td>\n",
              "    </tr>\n",
              "    <tr>\n",
              "      <th>1048571</th>\n",
              "      <td>False</td>\n",
              "      <td>False</td>\n",
              "      <td>False</td>\n",
              "      <td>False</td>\n",
              "      <td>False</td>\n",
              "      <td>False</td>\n",
              "    </tr>\n",
              "    <tr>\n",
              "      <th>1048572</th>\n",
              "      <td>False</td>\n",
              "      <td>False</td>\n",
              "      <td>False</td>\n",
              "      <td>False</td>\n",
              "      <td>False</td>\n",
              "      <td>False</td>\n",
              "    </tr>\n",
              "    <tr>\n",
              "      <th>1048573</th>\n",
              "      <td>False</td>\n",
              "      <td>False</td>\n",
              "      <td>False</td>\n",
              "      <td>False</td>\n",
              "      <td>False</td>\n",
              "      <td>False</td>\n",
              "    </tr>\n",
              "    <tr>\n",
              "      <th>1048574</th>\n",
              "      <td>False</td>\n",
              "      <td>False</td>\n",
              "      <td>False</td>\n",
              "      <td>False</td>\n",
              "      <td>False</td>\n",
              "      <td>False</td>\n",
              "    </tr>\n",
              "  </tbody>\n",
              "</table>\n",
              "<p>1048575 rows × 6 columns</p>\n",
              "</div>"
            ],
            "text/plain": [
              "         click_timestamp  search_id  ...  time_diff_nanos    ads\n",
              "0                  False      False  ...            False  False\n",
              "1                  False      False  ...            False  False\n",
              "2                  False      False  ...            False  False\n",
              "3                  False      False  ...            False  False\n",
              "4                  False      False  ...            False  False\n",
              "...                  ...        ...  ...              ...    ...\n",
              "1048570            False      False  ...            False  False\n",
              "1048571            False      False  ...            False  False\n",
              "1048572            False      False  ...            False  False\n",
              "1048573            False      False  ...            False  False\n",
              "1048574            False      False  ...            False  False\n",
              "\n",
              "[1048575 rows x 6 columns]"
            ]
          },
          "metadata": {
            "tags": []
          },
          "execution_count": 18
        }
      ]
    },
    {
      "cell_type": "code",
      "metadata": {
        "id": "46JaIw4UrNFS",
        "outputId": "c63f0fcb-12bb-406a-e1f8-c2f320b730c5",
        "colab": {
          "base_uri": "https://localhost:8080/",
          "height": 0
        }
      },
      "source": [
        "search_click_df.isnull().any()"
      ],
      "execution_count": 19,
      "outputs": [
        {
          "output_type": "execute_result",
          "data": {
            "text/plain": [
              "click_timestamp     False\n",
              "search_id            True\n",
              "business_id          True\n",
              "display_position    False\n",
              "time_diff_nanos     False\n",
              "ads                 False\n",
              "dtype: bool"
            ]
          },
          "metadata": {
            "tags": []
          },
          "execution_count": 19
        }
      ]
    },
    {
      "cell_type": "code",
      "metadata": {
        "id": "_vpu9GG-riuF",
        "outputId": "832394c1-9ba7-46ce-e532-8e135bace6d3",
        "colab": {
          "base_uri": "https://localhost:8080/",
          "height": 0
        }
      },
      "source": [
        "search_click_df.isnull().any().any()"
      ],
      "execution_count": 20,
      "outputs": [
        {
          "output_type": "execute_result",
          "data": {
            "text/plain": [
              "True"
            ]
          },
          "metadata": {
            "tags": []
          },
          "execution_count": 20
        }
      ]
    },
    {
      "cell_type": "code",
      "metadata": {
        "id": "8810BJYFsxRy"
      },
      "source": [
        ""
      ],
      "execution_count": 20,
      "outputs": []
    },
    {
      "cell_type": "markdown",
      "metadata": {
        "id": "Xx9xR5AQtATE"
      },
      "source": [
        "## การจัดการ missing"
      ]
    },
    {
      "cell_type": "code",
      "metadata": {
        "id": "iVigAb3dtHMM"
      },
      "source": [
        "search_click_df_nm = search_click_df.dropna()"
      ],
      "execution_count": 21,
      "outputs": []
    },
    {
      "cell_type": "code",
      "metadata": {
        "id": "9mRked7Ut_9-",
        "outputId": "4e220155-0976-48fb-91ab-34f53216ed5f",
        "colab": {
          "base_uri": "https://localhost:8080/",
          "height": 0
        }
      },
      "source": [
        "search_click_df_nm.isnull().any().any()"
      ],
      "execution_count": 22,
      "outputs": [
        {
          "output_type": "execute_result",
          "data": {
            "text/plain": [
              "False"
            ]
          },
          "metadata": {
            "tags": []
          },
          "execution_count": 22
        }
      ]
    },
    {
      "cell_type": "code",
      "metadata": {
        "id": "IKnEdLofuB-4",
        "outputId": "35c4343e-e323-4ced-a5b5-01d06e3194bc",
        "colab": {
          "base_uri": "https://localhost:8080/",
          "height": 0
        }
      },
      "source": [
        "print(search_click_df.shape)\n",
        "print(search_click_df_nm.shape)"
      ],
      "execution_count": 23,
      "outputs": [
        {
          "output_type": "stream",
          "text": [
            "(1048575, 6)\n",
            "(1048206, 6)\n"
          ],
          "name": "stdout"
        }
      ]
    },
    {
      "cell_type": "code",
      "metadata": {
        "id": "LOQupHq8uYYF"
      },
      "source": [
        ""
      ],
      "execution_count": 23,
      "outputs": []
    },
    {
      "cell_type": "markdown",
      "metadata": {
        "id": "7au_qVzPuah6"
      },
      "source": [
        "## Excercise 1 ตารางตรวจสอบว่าการลบข้อมูล missing ออก จากตาราง w_restaurant จะทำให้ข้อมูลลดลงกี่ %"
      ]
    },
    {
      "cell_type": "code",
      "metadata": {
        "id": "GBqAuMREusJs"
      },
      "source": [
        "w_restaurant_df_nm = w_restaurant_df.dropna()"
      ],
      "execution_count": 24,
      "outputs": []
    },
    {
      "cell_type": "code",
      "metadata": {
        "id": "jGealQL1vBu6",
        "outputId": "cca83995-13a4-4d17-de98-b0a4051b3e13",
        "colab": {
          "base_uri": "https://localhost:8080/",
          "height": 0
        }
      },
      "source": [
        "size_before_drop = w_restaurant_df.shape[0]\n",
        "size_after_drop = w_restaurant_df.dropna().shape[0]\n",
        "print(f'size before drop = {size_before_drop} \\nsize after drop = {size_after_drop} \\nwhich is {100*((size_before_drop-size_after_drop)/size_before_drop)}')"
      ],
      "execution_count": 25,
      "outputs": [
        {
          "output_type": "stream",
          "text": [
            "size before drop = 246847 \n",
            "size after drop = 4 \n",
            "which is 99.99837956304918\n"
          ],
          "name": "stdout"
        }
      ]
    },
    {
      "cell_type": "markdown",
      "metadata": {
        "id": "61sBLF3JyV2P"
      },
      "source": [
        "วิธีที่ 1.5\n"
      ]
    },
    {
      "cell_type": "code",
      "metadata": {
        "id": "ekadQjMwwFpj",
        "outputId": "f1cdfec0-7b4d-44ec-aba6-f50de795dceb",
        "colab": {
          "base_uri": "https://localhost:8080/",
          "height": 0
        }
      },
      "source": [
        "w_restaurant_df.isnull().any()"
      ],
      "execution_count": 26,
      "outputs": [
        {
          "output_type": "execute_result",
          "data": {
            "text/plain": [
              "id                         False\n",
              "name                       False\n",
              "domain_id                  False\n",
              "closed                     False\n",
              "city_name                  False\n",
              "zipcode                     True\n",
              "geohash                    False\n",
              "new_open                   False\n",
              "weighted_average_rating    False\n",
              "number_of_chains            True\n",
              "number_of_bookmarks         True\n",
              "number_of_reviews          False\n",
              "number_of_product_tags     False\n",
              "total_number_of_views      False\n",
              "number_of_checkins         False\n",
              "number_of_menu_groups      False\n",
              "number_of_menu_photos      False\n",
              "category_name              False\n",
              "price_range                 True\n",
              "avg_price                   True\n",
              "parking                     True\n",
              "credit_card_accepted        True\n",
              "good_for_groups             True\n",
              "good_for_kids               True\n",
              "bookable                    True\n",
              "best_of_wongnai             True\n",
              "wifi                        True\n",
              "number_of_seats             True\n",
              "music_venue                 True\n",
              "hotel_restaurant            True\n",
              "pet_friendly                True\n",
              "delivery                    True\n",
              "dtype: bool"
            ]
          },
          "metadata": {
            "tags": []
          },
          "execution_count": 26
        }
      ]
    },
    {
      "cell_type": "code",
      "metadata": {
        "id": "4IUGUklhynGs",
        "outputId": "d10e576a-4879-4774-efa0-bbf9795e963d",
        "colab": {
          "base_uri": "https://localhost:8080/",
          "height": 0
        }
      },
      "source": [
        "w_restaurant_df.dropna(subset=['id','name','price_range']).shape"
      ],
      "execution_count": 27,
      "outputs": [
        {
          "output_type": "execute_result",
          "data": {
            "text/plain": [
              "(180972, 32)"
            ]
          },
          "metadata": {
            "tags": []
          },
          "execution_count": 27
        }
      ]
    },
    {
      "cell_type": "markdown",
      "metadata": {
        "id": "ymXfu4u00R9Q"
      },
      "source": [
        "วิธีที่ 2 การนำค่าที่เหมาะสมมาแทนที่"
      ]
    },
    {
      "cell_type": "code",
      "metadata": {
        "id": "cJkEWQtBzU9H"
      },
      "source": [
        "w_restaurant_df[['number_of_chains']] = w_restaurant_df[['number_of_chains']].fillna(0)"
      ],
      "execution_count": 28,
      "outputs": []
    },
    {
      "cell_type": "code",
      "metadata": {
        "id": "i0cjP8vR3Kh_",
        "outputId": "7d8467c1-99ae-4399-ac7f-090098b6b7ca",
        "colab": {
          "base_uri": "https://localhost:8080/",
          "height": 0
        }
      },
      "source": [
        "w_restaurant_df.isnull().any()"
      ],
      "execution_count": 29,
      "outputs": [
        {
          "output_type": "execute_result",
          "data": {
            "text/plain": [
              "id                         False\n",
              "name                       False\n",
              "domain_id                  False\n",
              "closed                     False\n",
              "city_name                  False\n",
              "zipcode                     True\n",
              "geohash                    False\n",
              "new_open                   False\n",
              "weighted_average_rating    False\n",
              "number_of_chains           False\n",
              "number_of_bookmarks         True\n",
              "number_of_reviews          False\n",
              "number_of_product_tags     False\n",
              "total_number_of_views      False\n",
              "number_of_checkins         False\n",
              "number_of_menu_groups      False\n",
              "number_of_menu_photos      False\n",
              "category_name              False\n",
              "price_range                 True\n",
              "avg_price                   True\n",
              "parking                     True\n",
              "credit_card_accepted        True\n",
              "good_for_groups             True\n",
              "good_for_kids               True\n",
              "bookable                    True\n",
              "best_of_wongnai             True\n",
              "wifi                        True\n",
              "number_of_seats             True\n",
              "music_venue                 True\n",
              "hotel_restaurant            True\n",
              "pet_friendly                True\n",
              "delivery                    True\n",
              "dtype: bool"
            ]
          },
          "metadata": {
            "tags": []
          },
          "execution_count": 29
        }
      ]
    },
    {
      "cell_type": "markdown",
      "metadata": {
        "id": "mysnIDmRpG1N"
      },
      "source": [
        "### วิธีที่ 2.1 replace with unknown value"
      ]
    },
    {
      "cell_type": "code",
      "metadata": {
        "id": "L_Iy40n33WWR"
      },
      "source": [
        ""
      ],
      "execution_count": 29,
      "outputs": []
    },
    {
      "cell_type": "markdown",
      "metadata": {
        "id": "TZbWuPsEqseA"
      },
      "source": [
        "## วิธีที่ 3 เติมค่าที่เหมาะสมตามกลุ่มของมัน\n"
      ]
    },
    {
      "cell_type": "code",
      "metadata": {
        "id": "GGEdxkn0sXvU",
        "outputId": "cdc7f6d1-aae0-4e72-9e82-7cb7e8ce608a",
        "colab": {
          "base_uri": "https://localhost:8080/",
          "height": 129
        }
      },
      "source": [
        "|w_restaurant_df.head()"
      ],
      "execution_count": 30,
      "outputs": [
        {
          "output_type": "error",
          "ename": "SyntaxError",
          "evalue": "ignored",
          "traceback": [
            "\u001b[0;36m  File \u001b[0;32m\"<ipython-input-30-5eec03358f09>\"\u001b[0;36m, line \u001b[0;32m1\u001b[0m\n\u001b[0;31m    |w_restaurant_df.head()\u001b[0m\n\u001b[0m    ^\u001b[0m\n\u001b[0;31mSyntaxError\u001b[0m\u001b[0;31m:\u001b[0m invalid syntax\n"
          ]
        }
      ]
    },
    {
      "cell_type": "code",
      "metadata": {
        "id": "nFvXE491u7GQ"
      },
      "source": [
        "w_restaurant_df[['name','city_name','avg_price']]"
      ],
      "execution_count": null,
      "outputs": []
    },
    {
      "cell_type": "code",
      "metadata": {
        "id": "_jcGv0eDqwWE"
      },
      "source": [
        "new_table = w_restaurant_df[['name','city_name','avg_price']]"
      ],
      "execution_count": null,
      "outputs": []
    },
    {
      "cell_type": "markdown",
      "metadata": {
        "id": "JQT4AYtvteWr"
      },
      "source": [
        "### [pandas] select data"
      ]
    },
    {
      "cell_type": "code",
      "metadata": {
        "id": "W-eiS6SBuEN2"
      },
      "source": [
        "new_table['city_name'] == 'Bangkok Metropolitan Region'"
      ],
      "execution_count": null,
      "outputs": []
    },
    {
      "cell_type": "code",
      "metadata": {
        "id": "9GhtwaGkr7bf"
      },
      "source": [
        "new_table[new_table['city_name']=='Bangkok Metropolitan Region']"
      ],
      "execution_count": null,
      "outputs": []
    },
    {
      "cell_type": "code",
      "metadata": {
        "id": "fmI-yKvAtcrZ"
      },
      "source": [
        "selected_list = new_table['city_name'] == 'Bangkok Metropolitan Region'\n",
        "selected_list"
      ],
      "execution_count": null,
      "outputs": []
    },
    {
      "cell_type": "code",
      "metadata": {
        "id": "_i4Wa11IvGpX"
      },
      "source": [
        "selected_list = new_table['city_name'] == 'Khon Kaen'\n",
        "selected_list"
      ],
      "execution_count": null,
      "outputs": []
    },
    {
      "cell_type": "code",
      "metadata": {
        "id": "MujF4TKPvSQn"
      },
      "source": [
        "new_table[selected_list]"
      ],
      "execution_count": null,
      "outputs": []
    },
    {
      "cell_type": "code",
      "metadata": {
        "id": "l7yfe4devV_7"
      },
      "source": [
        "new_table[new_table['city_name'] == 'Bangkok Metropolitan Region'].dropna()['avg_price'].mean()"
      ],
      "execution_count": null,
      "outputs": []
    },
    {
      "cell_type": "code",
      "metadata": {
        "id": "YL-LRULYyHkD"
      },
      "source": [
        "bkk_table = new_table[new_table['city_name']=='Bangkok Metropolitan Region']\n",
        "bkk_table.head()"
      ],
      "execution_count": null,
      "outputs": []
    },
    {
      "cell_type": "code",
      "metadata": {
        "id": "J_A59FUkzzR2"
      },
      "source": [
        "bkk_table_dp = bkk_table.dropna()\n",
        "bkk_table_dp.head()"
      ],
      "execution_count": null,
      "outputs": []
    },
    {
      "cell_type": "code",
      "metadata": {
        "id": "apbECAOyz7zM"
      },
      "source": [
        "bkk_table_dp_avg_price = bkk_table_dp['avg_price']\n",
        "bkk_table_dp_avg_price"
      ],
      "execution_count": null,
      "outputs": []
    },
    {
      "cell_type": "code",
      "metadata": {
        "id": "5K15IA08z5D1"
      },
      "source": [
        "bkk_table_dp_avg_price.mean()"
      ],
      "execution_count": null,
      "outputs": []
    },
    {
      "cell_type": "markdown",
      "metadata": {
        "id": "Gwz4dYBn23fE"
      },
      "source": [
        "### เติมค่าที่เหมาะสมตามกลุ่มของมัน"
      ]
    },
    {
      "cell_type": "code",
      "metadata": {
        "id": "2sF6KngT2uxm"
      },
      "source": [
        "bkk_table[['avg_price']]=bkk_table[['avg_price']].fillna(bkk_table_dp_avg_price.mean())\n",
        "bkk_table.head()"
      ],
      "execution_count": null,
      "outputs": []
    },
    {
      "cell_type": "code",
      "metadata": {
        "id": "C2xdNOV-6XPw"
      },
      "source": [
        "#bkk_table[['avg_price']]=bkk_table[['avg_price']].fillna(bkk_table_dp_avg_price.mean(),inplace=True)\n",
        "#bkk_table.head()"
      ],
      "execution_count": null,
      "outputs": []
    },
    {
      "cell_type": "markdown",
      "metadata": {
        "id": "N8oC18UUvdcl"
      },
      "source": [
        "## EX 9 หาว่าราคาเฉลี่ยของร้านในเชียงใหม่เท่ากับกี่บ้าน"
      ]
    },
    {
      "cell_type": "markdown",
      "metadata": {
        "id": "_iuZ2leU1wc0"
      },
      "source": [
        "--------------------------------------- เชียงใหม่ -----------------------------------------------"
      ]
    },
    {
      "cell_type": "code",
      "metadata": {
        "id": "PyIB_8zo2HAX"
      },
      "source": [
        "new_table[new_table['city_name']=='Chiang Mai'].dropna()['avg_price'].mean()"
      ],
      "execution_count": null,
      "outputs": []
    },
    {
      "cell_type": "code",
      "metadata": {
        "id": "GRZBFAAw8Iec"
      },
      "source": [
        "cm_table = new_table[new_table['city_name']=='Chiang Mai']\n",
        "cm_table.head()"
      ],
      "execution_count": null,
      "outputs": []
    },
    {
      "cell_type": "code",
      "metadata": {
        "id": "MMKZb36b8Ieg"
      },
      "source": [
        "cm_table_dp = cm_table.dropna()\n",
        "cm_table_dp.head()"
      ],
      "execution_count": null,
      "outputs": []
    },
    {
      "cell_type": "code",
      "metadata": {
        "id": "JzvGombX8Iek"
      },
      "source": [
        "cm_table_dp_avg_price = cm_table_dp['avg_price']\n",
        "cm_table_dp_avg_price"
      ],
      "execution_count": null,
      "outputs": []
    },
    {
      "cell_type": "code",
      "metadata": {
        "id": "KyOx1ukk8Ien"
      },
      "source": [
        "cm_table_dp_avg_price.mean()"
      ],
      "execution_count": null,
      "outputs": []
    },
    {
      "cell_type": "markdown",
      "metadata": {
        "id": "fyqO4UzJ2WeB"
      },
      "source": [
        "**สรุป **ราคาเฉลี่ยของแต่ละร้านในเชียงใหม่ถูกกว่ากรุงเทพ"
      ]
    },
    {
      "cell_type": "markdown",
      "metadata": {
        "id": "rPT-BGbx8a4P"
      },
      "source": [
        " **แก้ไข missing**"
      ]
    },
    {
      "cell_type": "code",
      "metadata": {
        "id": "DjpPh_Rp8jgK"
      },
      "source": [
        "cm_table[['avg_price']]=cm_table[['avg_price']].fillna(cm_table_dp_avg_price.mean())\n",
        "cm_table.head()"
      ],
      "execution_count": null,
      "outputs": []
    },
    {
      "cell_type": "markdown",
      "metadata": {
        "id": "Mf0n-3fg6tRL"
      },
      "source": [
        "**[pandas] ต่อตารางในแนวแกน Y (เพิ่มจำนวน data ) pd.concat**"
      ]
    },
    {
      "cell_type": "code",
      "metadata": {
        "id": "T-1LgEcU0yYM"
      },
      "source": [
        ""
      ],
      "execution_count": null,
      "outputs": []
    },
    {
      "cell_type": "code",
      "metadata": {
        "id": "1cZyhjk55-52"
      },
      "source": [
        "pd_concat = pandas.concat([bkk_table,cm_table])\n",
        "pd_concat"
      ],
      "execution_count": null,
      "outputs": []
    },
    {
      "cell_type": "markdown",
      "metadata": {
        "id": "3pwG3OCJ2hKy"
      },
      "source": [
        "##วิธีที่ 3 Looping (concat)"
      ]
    },
    {
      "cell_type": "markdown",
      "metadata": {
        "id": "vvquoEa42r7k"
      },
      "source": [
        "1. ดึงจังหวัดที่มีอยู่ทั้งหมดในตารางออกมา"
      ]
    },
    {
      "cell_type": "code",
      "metadata": {
        "id": "T7phzcOl8_IQ"
      },
      "source": [
        "new_table['city_name']"
      ],
      "execution_count": null,
      "outputs": []
    },
    {
      "cell_type": "code",
      "metadata": {
        "id": "j1An9il83PzS"
      },
      "source": [
        "all_cities = set(new_table['city_name'])\n",
        "len(all_cities)"
      ],
      "execution_count": null,
      "outputs": []
    },
    {
      "cell_type": "code",
      "metadata": {
        "id": "9bR2GBMG4QIk"
      },
      "source": [
        "all_mean = new_table.dropna(subset=['avg_price'])['avg_price'].mean()\n",
        "all_mean"
      ],
      "execution_count": null,
      "outputs": []
    },
    {
      "cell_type": "code",
      "metadata": {
        "id": "-Q4b9Uaa4s8j"
      },
      "source": [
        "all_cities_list = []\n",
        "for each_city in list(all_cities):\n",
        "\n",
        "    # cm_table = new_table[new_table['city_name']=='Chiang Mai']\n",
        "    # cm_table[['avg_price']] = cm_table[['avg_price']].fillna(new_table[new_table['city_name']=='Chiang Mai'].dropna()['avg_price'].mean())\n",
        " \n",
        "    temp_table = new_table[new_table['city_name']==each_city].copy()\n",
        "    temp_table[['avg_price']] = temp_table[['avg_price']].fillna(new_table[new_table['city_name']==each_city].dropna()['avg_price'].mean())\n",
        "    all_cities_list.append(temp_table)"
      ],
      "execution_count": null,
      "outputs": []
    },
    {
      "cell_type": "markdown",
      "metadata": {
        "id": "lvZVkSE98yfa"
      },
      "source": [
        "##สร้างตารางจาก list ของตารางด้วย pd concat"
      ]
    },
    {
      "cell_type": "code",
      "metadata": {
        "id": "dSin9SfR8BiD"
      },
      "source": [
        "all_no_missing = pandas.concat(all_cities_list)\n",
        "all_no_missing"
      ],
      "execution_count": null,
      "outputs": []
    },
    {
      "cell_type": "markdown",
      "metadata": {
        "id": "DzXXKScf_JIm"
      },
      "source": [
        "# 5. เติมค่า mean ของทั้งตารางให้กับจังหวัดที่ไม่มี mean"
      ]
    },
    {
      "cell_type": "code",
      "metadata": {
        "id": "20iAbV2h-Hp4"
      },
      "source": [
        "all_no_missing = all_no_missing.fillna(all_mean)\n",
        "all_no_missing.isnull().any()"
      ],
      "execution_count": null,
      "outputs": []
    },
    {
      "cell_type": "markdown",
      "metadata": {
        "id": "mocc9aH0_3oz"
      },
      "source": [
        "## Remove Outlier (boxplot)"
      ]
    },
    {
      "cell_type": "markdown",
      "metadata": {
        "id": "R8tT1GtAAmOO"
      },
      "source": [
        "### Quiz วาด Boxblot ของค่า 'avg_price' ของตาราง all_no_missing"
      ]
    },
    {
      "cell_type": "code",
      "metadata": {
        "id": "vTxra1ib__JY"
      },
      "source": [
        "from matplotlib import pyplot as plt"
      ],
      "execution_count": null,
      "outputs": []
    },
    {
      "cell_type": "code",
      "metadata": {
        "id": "BR6CclEbDAOt"
      },
      "source": [
        "plt.boxplot(all_no_missing['avg_price'])"
      ],
      "execution_count": null,
      "outputs": []
    },
    {
      "cell_type": "code",
      "metadata": {
        "id": "cMf_qr4JBmMx"
      },
      "source": [
        "ret= plt.boxplot(all_no_missing['avg_price'],vert = False)"
      ],
      "execution_count": null,
      "outputs": []
    },
    {
      "cell_type": "code",
      "metadata": {
        "id": "q0cTf_Q-Fyj0"
      },
      "source": [
        "print(ret['whiskers'][0].get_xdata()[1])\n",
        "print(ret['whiskers'][1].get_xdata()[1])"
      ],
      "execution_count": null,
      "outputs": []
    },
    {
      "cell_type": "code",
      "metadata": {
        "id": "1M11b-AaKYkA"
      },
      "source": [
        "nooutlier_nomissing = all_no_missing[all_no_missing]"
      ],
      "execution_count": null,
      "outputs": []
    },
    {
      "cell_type": "markdown",
      "metadata": {
        "id": "SoW2LS50nZXG"
      },
      "source": [
        "##Data"
      ]
    },
    {
      "cell_type": "markdown",
      "metadata": {
        "id": "zu1eKLManqqH"
      },
      "source": [
        "### 1. Adding a field from other table"
      ]
    },
    {
      "cell_type": "markdown",
      "metadata": {
        "id": "9ARJTgFdnfQm"
      },
      "source": [
        "or merge the entire tables https://www.kaggle.com/crawford/python-merge-tutorial/#"
      ]
    },
    {
      "cell_type": "markdown",
      "metadata": {
        "id": "VmeiPkV9oSZQ"
      },
      "source": [
        "### one selected column\n",
        ".map() copy a column from other table"
      ]
    },
    {
      "cell_type": "code",
      "metadata": {
        "id": "NQKnsur-ohJi"
      },
      "source": [
        "search_click_df['bu_name'] = search_click_df['business_id'].map(w_restaurant_df.set_index('id')['name'])"
      ],
      "execution_count": 33,
      "outputs": []
    },
    {
      "cell_type": "code",
      "metadata": {
        "id": "Lt9Ge03Connt",
        "outputId": "5709f6dc-6d22-4368-9a15-f508f9f2a4a1",
        "colab": {
          "base_uri": "https://localhost:8080/",
          "height": 606
        }
      },
      "source": [
        "search_click_df"
      ],
      "execution_count": 34,
      "outputs": [
        {
          "output_type": "execute_result",
          "data": {
            "text/html": [
              "<div>\n",
              "<style scoped>\n",
              "    .dataframe tbody tr th:only-of-type {\n",
              "        vertical-align: middle;\n",
              "    }\n",
              "\n",
              "    .dataframe tbody tr th {\n",
              "        vertical-align: top;\n",
              "    }\n",
              "\n",
              "    .dataframe thead th {\n",
              "        text-align: right;\n",
              "    }\n",
              "</style>\n",
              "<table border=\"1\" class=\"dataframe\">\n",
              "  <thead>\n",
              "    <tr style=\"text-align: right;\">\n",
              "      <th></th>\n",
              "      <th>click_timestamp</th>\n",
              "      <th>search_id</th>\n",
              "      <th>business_id</th>\n",
              "      <th>display_position</th>\n",
              "      <th>time_diff_nanos</th>\n",
              "      <th>ads</th>\n",
              "      <th>bu_name</th>\n",
              "    </tr>\n",
              "  </thead>\n",
              "  <tbody>\n",
              "    <tr>\n",
              "      <th>0</th>\n",
              "      <td>11:38.9</td>\n",
              "      <td>5c004472-5ecc-4159-9698-9f329b8e26e1</td>\n",
              "      <td>298839.0</td>\n",
              "      <td>0</td>\n",
              "      <td>2.222400e+15</td>\n",
              "      <td>True</td>\n",
              "      <td>ปูดองอันยอง Eight</td>\n",
              "    </tr>\n",
              "    <tr>\n",
              "      <th>1</th>\n",
              "      <td>30:51.3</td>\n",
              "      <td>5f34eca0-c04e-4c10-b600-54aa447dbd8e</td>\n",
              "      <td>171372.0</td>\n",
              "      <td>0</td>\n",
              "      <td>4.608380e+14</td>\n",
              "      <td>True</td>\n",
              "      <td>Yoshinoya</td>\n",
              "    </tr>\n",
              "    <tr>\n",
              "      <th>2</th>\n",
              "      <td>32:09.6</td>\n",
              "      <td>8dc6d1f0-11f1-4239-9dd2-5c1674c81224</td>\n",
              "      <td>16157.0</td>\n",
              "      <td>0</td>\n",
              "      <td>2.581490e+15</td>\n",
              "      <td>True</td>\n",
              "      <td>The Hub Cafe and Eatery</td>\n",
              "    </tr>\n",
              "    <tr>\n",
              "      <th>3</th>\n",
              "      <td>00:59.8</td>\n",
              "      <td>1a5810e9-3d1f-44b9-9a2e-26ede21c524b</td>\n",
              "      <td>89741.0</td>\n",
              "      <td>1</td>\n",
              "      <td>1.404580e+15</td>\n",
              "      <td>True</td>\n",
              "      <td>ซั่งไห่ เสี่ยวหลงเปา</td>\n",
              "    </tr>\n",
              "    <tr>\n",
              "      <th>4</th>\n",
              "      <td>23:36.8</td>\n",
              "      <td>6bc75e0d-fc65-471e-9926-ff6be6708639</td>\n",
              "      <td>189564.0</td>\n",
              "      <td>1</td>\n",
              "      <td>9.333590e+14</td>\n",
              "      <td>True</td>\n",
              "      <td>Yoshinoya</td>\n",
              "    </tr>\n",
              "    <tr>\n",
              "      <th>...</th>\n",
              "      <td>...</td>\n",
              "      <td>...</td>\n",
              "      <td>...</td>\n",
              "      <td>...</td>\n",
              "      <td>...</td>\n",
              "      <td>...</td>\n",
              "      <td>...</td>\n",
              "    </tr>\n",
              "    <tr>\n",
              "      <th>1048570</th>\n",
              "      <td>05:28.8</td>\n",
              "      <td>99aab616-6fc5-4fbf-994b-4aebee7bb360</td>\n",
              "      <td>278479.0</td>\n",
              "      <td>8</td>\n",
              "      <td>2.072630e+11</td>\n",
              "      <td>False</td>\n",
              "      <td>เสกแจ่วฮ้อน</td>\n",
              "    </tr>\n",
              "    <tr>\n",
              "      <th>1048571</th>\n",
              "      <td>15:28.8</td>\n",
              "      <td>d70a2c5d-ee94-4e4c-9f7c-c5faac6db12a</td>\n",
              "      <td>321885.0</td>\n",
              "      <td>8</td>\n",
              "      <td>6.931413e+10</td>\n",
              "      <td>False</td>\n",
              "      <td>ก๋วยเตี๋ยวหมูหน่อกะลา</td>\n",
              "    </tr>\n",
              "    <tr>\n",
              "      <th>1048572</th>\n",
              "      <td>11:49.4</td>\n",
              "      <td>4c1de7fe-300e-41aa-9d01-914344fc3753</td>\n",
              "      <td>221035.0</td>\n",
              "      <td>8</td>\n",
              "      <td>3.105162e+10</td>\n",
              "      <td>False</td>\n",
              "      <td>Laemcharoen Seafood</td>\n",
              "    </tr>\n",
              "    <tr>\n",
              "      <th>1048573</th>\n",
              "      <td>10:33.7</td>\n",
              "      <td>2ec0ddec-e450-4b98-9779-42b77aa7eda5</td>\n",
              "      <td>220572.0</td>\n",
              "      <td>8</td>\n",
              "      <td>7.848904e+10</td>\n",
              "      <td>False</td>\n",
              "      <td>เอี่ยวไถ่ สุกี้โบราณ</td>\n",
              "    </tr>\n",
              "    <tr>\n",
              "      <th>1048574</th>\n",
              "      <td>13:51.4</td>\n",
              "      <td>5741d9cf-b9f1-441d-aa83-d2b0179bf874</td>\n",
              "      <td>310448.0</td>\n",
              "      <td>8</td>\n",
              "      <td>3.157757e+10</td>\n",
              "      <td>False</td>\n",
              "      <td>Icy-me</td>\n",
              "    </tr>\n",
              "  </tbody>\n",
              "</table>\n",
              "<p>1048575 rows × 7 columns</p>\n",
              "</div>"
            ],
            "text/plain": [
              "        click_timestamp  ...                  bu_name\n",
              "0               11:38.9  ...        ปูดองอันยอง Eight\n",
              "1               30:51.3  ...                Yoshinoya\n",
              "2               32:09.6  ...  The Hub Cafe and Eatery\n",
              "3               00:59.8  ...     ซั่งไห่ เสี่ยวหลงเปา\n",
              "4               23:36.8  ...                Yoshinoya\n",
              "...                 ...  ...                      ...\n",
              "1048570         05:28.8  ...              เสกแจ่วฮ้อน\n",
              "1048571         15:28.8  ...    ก๋วยเตี๋ยวหมูหน่อกะลา\n",
              "1048572         11:49.4  ...      Laemcharoen Seafood\n",
              "1048573         10:33.7  ...     เอี่ยวไถ่ สุกี้โบราณ\n",
              "1048574         13:51.4  ...                  Icy-me \n",
              "\n",
              "[1048575 rows x 7 columns]"
            ]
          },
          "metadata": {
            "tags": []
          },
          "execution_count": 34
        }
      ]
    },
    {
      "cell_type": "code",
      "metadata": {
        "id": "DAJ3VixGqNFL",
        "outputId": "a295147b-097e-4c33-9278-0ce8c4b63be7",
        "colab": {
          "base_uri": "https://localhost:8080/",
          "height": 932
        }
      },
      "source": [
        "search_click_df['city'] = search_click_df['business_id'].map(w_restaurant_df.set_index('id')['city_name'])\n",
        "search_click_df"
      ],
      "execution_count": 36,
      "outputs": [
        {
          "output_type": "execute_result",
          "data": {
            "text/html": [
              "<div>\n",
              "<style scoped>\n",
              "    .dataframe tbody tr th:only-of-type {\n",
              "        vertical-align: middle;\n",
              "    }\n",
              "\n",
              "    .dataframe tbody tr th {\n",
              "        vertical-align: top;\n",
              "    }\n",
              "\n",
              "    .dataframe thead th {\n",
              "        text-align: right;\n",
              "    }\n",
              "</style>\n",
              "<table border=\"1\" class=\"dataframe\">\n",
              "  <thead>\n",
              "    <tr style=\"text-align: right;\">\n",
              "      <th></th>\n",
              "      <th>click_timestamp</th>\n",
              "      <th>search_id</th>\n",
              "      <th>business_id</th>\n",
              "      <th>display_position</th>\n",
              "      <th>time_diff_nanos</th>\n",
              "      <th>ads</th>\n",
              "      <th>bu_name</th>\n",
              "      <th>city</th>\n",
              "    </tr>\n",
              "  </thead>\n",
              "  <tbody>\n",
              "    <tr>\n",
              "      <th>0</th>\n",
              "      <td>11:38.9</td>\n",
              "      <td>5c004472-5ecc-4159-9698-9f329b8e26e1</td>\n",
              "      <td>298839.0</td>\n",
              "      <td>0</td>\n",
              "      <td>2.222400e+15</td>\n",
              "      <td>True</td>\n",
              "      <td>ปูดองอันยอง Eight</td>\n",
              "      <td>Bangkok Metropolitan Region</td>\n",
              "    </tr>\n",
              "    <tr>\n",
              "      <th>1</th>\n",
              "      <td>30:51.3</td>\n",
              "      <td>5f34eca0-c04e-4c10-b600-54aa447dbd8e</td>\n",
              "      <td>171372.0</td>\n",
              "      <td>0</td>\n",
              "      <td>4.608380e+14</td>\n",
              "      <td>True</td>\n",
              "      <td>Yoshinoya</td>\n",
              "      <td>Bangkok Metropolitan Region</td>\n",
              "    </tr>\n",
              "    <tr>\n",
              "      <th>2</th>\n",
              "      <td>32:09.6</td>\n",
              "      <td>8dc6d1f0-11f1-4239-9dd2-5c1674c81224</td>\n",
              "      <td>16157.0</td>\n",
              "      <td>0</td>\n",
              "      <td>2.581490e+15</td>\n",
              "      <td>True</td>\n",
              "      <td>The Hub Cafe and Eatery</td>\n",
              "      <td>Bangkok Metropolitan Region</td>\n",
              "    </tr>\n",
              "    <tr>\n",
              "      <th>3</th>\n",
              "      <td>00:59.8</td>\n",
              "      <td>1a5810e9-3d1f-44b9-9a2e-26ede21c524b</td>\n",
              "      <td>89741.0</td>\n",
              "      <td>1</td>\n",
              "      <td>1.404580e+15</td>\n",
              "      <td>True</td>\n",
              "      <td>ซั่งไห่ เสี่ยวหลงเปา</td>\n",
              "      <td>Bangkok Metropolitan Region</td>\n",
              "    </tr>\n",
              "    <tr>\n",
              "      <th>4</th>\n",
              "      <td>23:36.8</td>\n",
              "      <td>6bc75e0d-fc65-471e-9926-ff6be6708639</td>\n",
              "      <td>189564.0</td>\n",
              "      <td>1</td>\n",
              "      <td>9.333590e+14</td>\n",
              "      <td>True</td>\n",
              "      <td>Yoshinoya</td>\n",
              "      <td>Bangkok Metropolitan Region</td>\n",
              "    </tr>\n",
              "    <tr>\n",
              "      <th>...</th>\n",
              "      <td>...</td>\n",
              "      <td>...</td>\n",
              "      <td>...</td>\n",
              "      <td>...</td>\n",
              "      <td>...</td>\n",
              "      <td>...</td>\n",
              "      <td>...</td>\n",
              "      <td>...</td>\n",
              "    </tr>\n",
              "    <tr>\n",
              "      <th>1048570</th>\n",
              "      <td>05:28.8</td>\n",
              "      <td>99aab616-6fc5-4fbf-994b-4aebee7bb360</td>\n",
              "      <td>278479.0</td>\n",
              "      <td>8</td>\n",
              "      <td>2.072630e+11</td>\n",
              "      <td>False</td>\n",
              "      <td>เสกแจ่วฮ้อน</td>\n",
              "      <td>Chaiyaphum</td>\n",
              "    </tr>\n",
              "    <tr>\n",
              "      <th>1048571</th>\n",
              "      <td>15:28.8</td>\n",
              "      <td>d70a2c5d-ee94-4e4c-9f7c-c5faac6db12a</td>\n",
              "      <td>321885.0</td>\n",
              "      <td>8</td>\n",
              "      <td>6.931413e+10</td>\n",
              "      <td>False</td>\n",
              "      <td>ก๋วยเตี๋ยวหมูหน่อกะลา</td>\n",
              "      <td>Bangkok Metropolitan Region</td>\n",
              "    </tr>\n",
              "    <tr>\n",
              "      <th>1048572</th>\n",
              "      <td>11:49.4</td>\n",
              "      <td>4c1de7fe-300e-41aa-9d01-914344fc3753</td>\n",
              "      <td>221035.0</td>\n",
              "      <td>8</td>\n",
              "      <td>3.105162e+10</td>\n",
              "      <td>False</td>\n",
              "      <td>Laemcharoen Seafood</td>\n",
              "      <td>Bangkok Metropolitan Region</td>\n",
              "    </tr>\n",
              "    <tr>\n",
              "      <th>1048573</th>\n",
              "      <td>10:33.7</td>\n",
              "      <td>2ec0ddec-e450-4b98-9779-42b77aa7eda5</td>\n",
              "      <td>220572.0</td>\n",
              "      <td>8</td>\n",
              "      <td>7.848904e+10</td>\n",
              "      <td>False</td>\n",
              "      <td>เอี่ยวไถ่ สุกี้โบราณ</td>\n",
              "      <td>Bangkok Metropolitan Region</td>\n",
              "    </tr>\n",
              "    <tr>\n",
              "      <th>1048574</th>\n",
              "      <td>13:51.4</td>\n",
              "      <td>5741d9cf-b9f1-441d-aa83-d2b0179bf874</td>\n",
              "      <td>310448.0</td>\n",
              "      <td>8</td>\n",
              "      <td>3.157757e+10</td>\n",
              "      <td>False</td>\n",
              "      <td>Icy-me</td>\n",
              "      <td>Prachin Buri</td>\n",
              "    </tr>\n",
              "  </tbody>\n",
              "</table>\n",
              "<p>1048575 rows × 8 columns</p>\n",
              "</div>"
            ],
            "text/plain": [
              "        click_timestamp  ...                         city\n",
              "0               11:38.9  ...  Bangkok Metropolitan Region\n",
              "1               30:51.3  ...  Bangkok Metropolitan Region\n",
              "2               32:09.6  ...  Bangkok Metropolitan Region\n",
              "3               00:59.8  ...  Bangkok Metropolitan Region\n",
              "4               23:36.8  ...  Bangkok Metropolitan Region\n",
              "...                 ...  ...                          ...\n",
              "1048570         05:28.8  ...                   Chaiyaphum\n",
              "1048571         15:28.8  ...  Bangkok Metropolitan Region\n",
              "1048572         11:49.4  ...  Bangkok Metropolitan Region\n",
              "1048573         10:33.7  ...  Bangkok Metropolitan Region\n",
              "1048574         13:51.4  ...                 Prachin Buri\n",
              "\n",
              "[1048575 rows x 8 columns]"
            ]
          },
          "metadata": {
            "tags": []
          },
          "execution_count": 36
        }
      ]
    },
    {
      "cell_type": "markdown",
      "metadata": {
        "id": "TFFCmOuMoDuR"
      },
      "source": [
        "### merge two tables\n",
        ".merge()"
      ]
    },
    {
      "cell_type": "code",
      "metadata": {
        "id": "7-KevTjEnmNV"
      },
      "source": [
        "merged_table = search_click_df.merge(w_restaurant_df,how='left',left_on='business_id',right_on='id')\n"
      ],
      "execution_count": 31,
      "outputs": []
    },
    {
      "cell_type": "code",
      "metadata": {
        "id": "qYabJrDTn8lC",
        "outputId": "0391cfe7-f022-4959-c5eb-79c6191a87ba",
        "colab": {
          "base_uri": "https://localhost:8080/",
          "height": 932
        }
      },
      "source": [
        "merged_table"
      ],
      "execution_count": 32,
      "outputs": [
        {
          "output_type": "execute_result",
          "data": {
            "text/html": [
              "<div>\n",
              "<style scoped>\n",
              "    .dataframe tbody tr th:only-of-type {\n",
              "        vertical-align: middle;\n",
              "    }\n",
              "\n",
              "    .dataframe tbody tr th {\n",
              "        vertical-align: top;\n",
              "    }\n",
              "\n",
              "    .dataframe thead th {\n",
              "        text-align: right;\n",
              "    }\n",
              "</style>\n",
              "<table border=\"1\" class=\"dataframe\">\n",
              "  <thead>\n",
              "    <tr style=\"text-align: right;\">\n",
              "      <th></th>\n",
              "      <th>click_timestamp</th>\n",
              "      <th>search_id</th>\n",
              "      <th>business_id</th>\n",
              "      <th>display_position</th>\n",
              "      <th>time_diff_nanos</th>\n",
              "      <th>ads</th>\n",
              "      <th>id</th>\n",
              "      <th>name</th>\n",
              "      <th>domain_id</th>\n",
              "      <th>closed</th>\n",
              "      <th>city_name</th>\n",
              "      <th>zipcode</th>\n",
              "      <th>geohash</th>\n",
              "      <th>new_open</th>\n",
              "      <th>weighted_average_rating</th>\n",
              "      <th>number_of_chains</th>\n",
              "      <th>number_of_bookmarks</th>\n",
              "      <th>number_of_reviews</th>\n",
              "      <th>number_of_product_tags</th>\n",
              "      <th>total_number_of_views</th>\n",
              "      <th>number_of_checkins</th>\n",
              "      <th>number_of_menu_groups</th>\n",
              "      <th>number_of_menu_photos</th>\n",
              "      <th>category_name</th>\n",
              "      <th>price_range</th>\n",
              "      <th>avg_price</th>\n",
              "      <th>parking</th>\n",
              "      <th>credit_card_accepted</th>\n",
              "      <th>good_for_groups</th>\n",
              "      <th>good_for_kids</th>\n",
              "      <th>bookable</th>\n",
              "      <th>best_of_wongnai</th>\n",
              "      <th>wifi</th>\n",
              "      <th>number_of_seats</th>\n",
              "      <th>music_venue</th>\n",
              "      <th>hotel_restaurant</th>\n",
              "      <th>pet_friendly</th>\n",
              "      <th>delivery</th>\n",
              "    </tr>\n",
              "  </thead>\n",
              "  <tbody>\n",
              "    <tr>\n",
              "      <th>0</th>\n",
              "      <td>11:38.9</td>\n",
              "      <td>5c004472-5ecc-4159-9698-9f329b8e26e1</td>\n",
              "      <td>298839.0</td>\n",
              "      <td>0</td>\n",
              "      <td>2.222400e+15</td>\n",
              "      <td>True</td>\n",
              "      <td>298839.0</td>\n",
              "      <td>ปูดองอันยอง Eight</td>\n",
              "      <td>1.0</td>\n",
              "      <td>0.0</td>\n",
              "      <td>Bangkok Metropolitan Region</td>\n",
              "      <td>10110</td>\n",
              "      <td>w4rw0g9</td>\n",
              "      <td>0.0</td>\n",
              "      <td>3.836735</td>\n",
              "      <td>12.0</td>\n",
              "      <td>22.0</td>\n",
              "      <td>3.0</td>\n",
              "      <td>0.0</td>\n",
              "      <td>22484.0</td>\n",
              "      <td>1.0</td>\n",
              "      <td>5.0</td>\n",
              "      <td>0.0</td>\n",
              "      <td>Seafood</td>\n",
              "      <td>4.0</td>\n",
              "      <td>NaN</td>\n",
              "      <td>NaN</td>\n",
              "      <td>NaN</td>\n",
              "      <td>NaN</td>\n",
              "      <td>NaN</td>\n",
              "      <td>NaN</td>\n",
              "      <td>NaN</td>\n",
              "      <td>NaN</td>\n",
              "      <td>NaN</td>\n",
              "      <td>NaN</td>\n",
              "      <td>NaN</td>\n",
              "      <td>NaN</td>\n",
              "      <td>1.0</td>\n",
              "    </tr>\n",
              "    <tr>\n",
              "      <th>1</th>\n",
              "      <td>30:51.3</td>\n",
              "      <td>5f34eca0-c04e-4c10-b600-54aa447dbd8e</td>\n",
              "      <td>171372.0</td>\n",
              "      <td>0</td>\n",
              "      <td>4.608380e+14</td>\n",
              "      <td>True</td>\n",
              "      <td>171372.0</td>\n",
              "      <td>Yoshinoya</td>\n",
              "      <td>1.0</td>\n",
              "      <td>0.0</td>\n",
              "      <td>Bangkok Metropolitan Region</td>\n",
              "      <td>NaN</td>\n",
              "      <td>w4rteh0</td>\n",
              "      <td>0.0</td>\n",
              "      <td>3.118367</td>\n",
              "      <td>28.0</td>\n",
              "      <td>60.0</td>\n",
              "      <td>43.0</td>\n",
              "      <td>6.0</td>\n",
              "      <td>18373.0</td>\n",
              "      <td>41.0</td>\n",
              "      <td>34.0</td>\n",
              "      <td>37.0</td>\n",
              "      <td>Japanese</td>\n",
              "      <td>2.0</td>\n",
              "      <td>NaN</td>\n",
              "      <td>3.0</td>\n",
              "      <td>1.0</td>\n",
              "      <td>NaN</td>\n",
              "      <td>NaN</td>\n",
              "      <td>NaN</td>\n",
              "      <td>NaN</td>\n",
              "      <td>0.0</td>\n",
              "      <td>3.0</td>\n",
              "      <td>NaN</td>\n",
              "      <td>NaN</td>\n",
              "      <td>NaN</td>\n",
              "      <td>1.0</td>\n",
              "    </tr>\n",
              "    <tr>\n",
              "      <th>2</th>\n",
              "      <td>32:09.6</td>\n",
              "      <td>8dc6d1f0-11f1-4239-9dd2-5c1674c81224</td>\n",
              "      <td>16157.0</td>\n",
              "      <td>0</td>\n",
              "      <td>2.581490e+15</td>\n",
              "      <td>True</td>\n",
              "      <td>16157.0</td>\n",
              "      <td>The Hub Cafe and Eatery</td>\n",
              "      <td>1.0</td>\n",
              "      <td>0.0</td>\n",
              "      <td>Bangkok Metropolitan Region</td>\n",
              "      <td>NaN</td>\n",
              "      <td>w4rw1tu</td>\n",
              "      <td>0.0</td>\n",
              "      <td>4.015184</td>\n",
              "      <td>0.0</td>\n",
              "      <td>348.0</td>\n",
              "      <td>36.0</td>\n",
              "      <td>0.0</td>\n",
              "      <td>27252.0</td>\n",
              "      <td>21.0</td>\n",
              "      <td>13.0</td>\n",
              "      <td>58.0</td>\n",
              "      <td>Cafe</td>\n",
              "      <td>3.0</td>\n",
              "      <td>NaN</td>\n",
              "      <td>3.0</td>\n",
              "      <td>1.0</td>\n",
              "      <td>NaN</td>\n",
              "      <td>NaN</td>\n",
              "      <td>NaN</td>\n",
              "      <td>NaN</td>\n",
              "      <td>2.0</td>\n",
              "      <td>3.0</td>\n",
              "      <td>NaN</td>\n",
              "      <td>NaN</td>\n",
              "      <td>NaN</td>\n",
              "      <td>NaN</td>\n",
              "    </tr>\n",
              "    <tr>\n",
              "      <th>3</th>\n",
              "      <td>00:59.8</td>\n",
              "      <td>1a5810e9-3d1f-44b9-9a2e-26ede21c524b</td>\n",
              "      <td>89741.0</td>\n",
              "      <td>1</td>\n",
              "      <td>1.404580e+15</td>\n",
              "      <td>True</td>\n",
              "      <td>89741.0</td>\n",
              "      <td>ซั่งไห่ เสี่ยวหลงเปา</td>\n",
              "      <td>1.0</td>\n",
              "      <td>0.0</td>\n",
              "      <td>Bangkok Metropolitan Region</td>\n",
              "      <td>10900</td>\n",
              "      <td>w4rw8p7</td>\n",
              "      <td>0.0</td>\n",
              "      <td>3.444134</td>\n",
              "      <td>0.0</td>\n",
              "      <td>101.0</td>\n",
              "      <td>21.0</td>\n",
              "      <td>7.0</td>\n",
              "      <td>54847.0</td>\n",
              "      <td>19.0</td>\n",
              "      <td>43.0</td>\n",
              "      <td>32.0</td>\n",
              "      <td>Dim Sum</td>\n",
              "      <td>1.0</td>\n",
              "      <td>NaN</td>\n",
              "      <td>1.0</td>\n",
              "      <td>1.0</td>\n",
              "      <td>NaN</td>\n",
              "      <td>NaN</td>\n",
              "      <td>NaN</td>\n",
              "      <td>NaN</td>\n",
              "      <td>1.0</td>\n",
              "      <td>2.0</td>\n",
              "      <td>NaN</td>\n",
              "      <td>NaN</td>\n",
              "      <td>NaN</td>\n",
              "      <td>1.0</td>\n",
              "    </tr>\n",
              "    <tr>\n",
              "      <th>4</th>\n",
              "      <td>23:36.8</td>\n",
              "      <td>6bc75e0d-fc65-471e-9926-ff6be6708639</td>\n",
              "      <td>189564.0</td>\n",
              "      <td>1</td>\n",
              "      <td>9.333590e+14</td>\n",
              "      <td>True</td>\n",
              "      <td>189564.0</td>\n",
              "      <td>Yoshinoya</td>\n",
              "      <td>1.0</td>\n",
              "      <td>0.0</td>\n",
              "      <td>Bangkok Metropolitan Region</td>\n",
              "      <td>10110</td>\n",
              "      <td>w4rw0kc</td>\n",
              "      <td>0.0</td>\n",
              "      <td>2.972672</td>\n",
              "      <td>28.0</td>\n",
              "      <td>32.0</td>\n",
              "      <td>69.0</td>\n",
              "      <td>8.0</td>\n",
              "      <td>13851.0</td>\n",
              "      <td>22.0</td>\n",
              "      <td>66.0</td>\n",
              "      <td>26.0</td>\n",
              "      <td>Japanese</td>\n",
              "      <td>2.0</td>\n",
              "      <td>NaN</td>\n",
              "      <td>3.0</td>\n",
              "      <td>1.0</td>\n",
              "      <td>NaN</td>\n",
              "      <td>NaN</td>\n",
              "      <td>NaN</td>\n",
              "      <td>NaN</td>\n",
              "      <td>NaN</td>\n",
              "      <td>NaN</td>\n",
              "      <td>NaN</td>\n",
              "      <td>NaN</td>\n",
              "      <td>NaN</td>\n",
              "      <td>1.0</td>\n",
              "    </tr>\n",
              "    <tr>\n",
              "      <th>...</th>\n",
              "      <td>...</td>\n",
              "      <td>...</td>\n",
              "      <td>...</td>\n",
              "      <td>...</td>\n",
              "      <td>...</td>\n",
              "      <td>...</td>\n",
              "      <td>...</td>\n",
              "      <td>...</td>\n",
              "      <td>...</td>\n",
              "      <td>...</td>\n",
              "      <td>...</td>\n",
              "      <td>...</td>\n",
              "      <td>...</td>\n",
              "      <td>...</td>\n",
              "      <td>...</td>\n",
              "      <td>...</td>\n",
              "      <td>...</td>\n",
              "      <td>...</td>\n",
              "      <td>...</td>\n",
              "      <td>...</td>\n",
              "      <td>...</td>\n",
              "      <td>...</td>\n",
              "      <td>...</td>\n",
              "      <td>...</td>\n",
              "      <td>...</td>\n",
              "      <td>...</td>\n",
              "      <td>...</td>\n",
              "      <td>...</td>\n",
              "      <td>...</td>\n",
              "      <td>...</td>\n",
              "      <td>...</td>\n",
              "      <td>...</td>\n",
              "      <td>...</td>\n",
              "      <td>...</td>\n",
              "      <td>...</td>\n",
              "      <td>...</td>\n",
              "      <td>...</td>\n",
              "      <td>...</td>\n",
              "    </tr>\n",
              "    <tr>\n",
              "      <th>1048570</th>\n",
              "      <td>05:28.8</td>\n",
              "      <td>99aab616-6fc5-4fbf-994b-4aebee7bb360</td>\n",
              "      <td>278479.0</td>\n",
              "      <td>8</td>\n",
              "      <td>2.072630e+11</td>\n",
              "      <td>False</td>\n",
              "      <td>278479.0</td>\n",
              "      <td>เสกแจ่วฮ้อน</td>\n",
              "      <td>1.0</td>\n",
              "      <td>0.0</td>\n",
              "      <td>Chaiyaphum</td>\n",
              "      <td>NaN</td>\n",
              "      <td>w6b9cyk</td>\n",
              "      <td>0.0</td>\n",
              "      <td>4.000000</td>\n",
              "      <td>0.0</td>\n",
              "      <td>3.0</td>\n",
              "      <td>2.0</td>\n",
              "      <td>2.0</td>\n",
              "      <td>1599.0</td>\n",
              "      <td>0.0</td>\n",
              "      <td>0.0</td>\n",
              "      <td>0.0</td>\n",
              "      <td>Sukiyaki/Shabu</td>\n",
              "      <td>1.0</td>\n",
              "      <td>NaN</td>\n",
              "      <td>3.0</td>\n",
              "      <td>0.0</td>\n",
              "      <td>NaN</td>\n",
              "      <td>NaN</td>\n",
              "      <td>NaN</td>\n",
              "      <td>NaN</td>\n",
              "      <td>NaN</td>\n",
              "      <td>NaN</td>\n",
              "      <td>NaN</td>\n",
              "      <td>NaN</td>\n",
              "      <td>NaN</td>\n",
              "      <td>NaN</td>\n",
              "    </tr>\n",
              "    <tr>\n",
              "      <th>1048571</th>\n",
              "      <td>15:28.8</td>\n",
              "      <td>d70a2c5d-ee94-4e4c-9f7c-c5faac6db12a</td>\n",
              "      <td>321885.0</td>\n",
              "      <td>8</td>\n",
              "      <td>6.931413e+10</td>\n",
              "      <td>False</td>\n",
              "      <td>321885.0</td>\n",
              "      <td>ก๋วยเตี๋ยวหมูหน่อกะลา</td>\n",
              "      <td>1.0</td>\n",
              "      <td>0.0</td>\n",
              "      <td>Bangkok Metropolitan Region</td>\n",
              "      <td>11120</td>\n",
              "      <td>w4rrppd</td>\n",
              "      <td>0.0</td>\n",
              "      <td>4.000000</td>\n",
              "      <td>0.0</td>\n",
              "      <td>7.0</td>\n",
              "      <td>2.0</td>\n",
              "      <td>1.0</td>\n",
              "      <td>956.0</td>\n",
              "      <td>1.0</td>\n",
              "      <td>0.0</td>\n",
              "      <td>0.0</td>\n",
              "      <td>Noodles</td>\n",
              "      <td>1.0</td>\n",
              "      <td>NaN</td>\n",
              "      <td>3.0</td>\n",
              "      <td>0.0</td>\n",
              "      <td>1.0</td>\n",
              "      <td>1.0</td>\n",
              "      <td>NaN</td>\n",
              "      <td>NaN</td>\n",
              "      <td>NaN</td>\n",
              "      <td>NaN</td>\n",
              "      <td>NaN</td>\n",
              "      <td>NaN</td>\n",
              "      <td>NaN</td>\n",
              "      <td>NaN</td>\n",
              "    </tr>\n",
              "    <tr>\n",
              "      <th>1048572</th>\n",
              "      <td>11:49.4</td>\n",
              "      <td>4c1de7fe-300e-41aa-9d01-914344fc3753</td>\n",
              "      <td>221035.0</td>\n",
              "      <td>8</td>\n",
              "      <td>3.105162e+10</td>\n",
              "      <td>False</td>\n",
              "      <td>221035.0</td>\n",
              "      <td>Laemcharoen Seafood</td>\n",
              "      <td>1.0</td>\n",
              "      <td>0.0</td>\n",
              "      <td>Bangkok Metropolitan Region</td>\n",
              "      <td>12130</td>\n",
              "      <td>w4rx9de</td>\n",
              "      <td>0.0</td>\n",
              "      <td>3.830601</td>\n",
              "      <td>23.0</td>\n",
              "      <td>24.0</td>\n",
              "      <td>11.0</td>\n",
              "      <td>8.0</td>\n",
              "      <td>8977.0</td>\n",
              "      <td>7.0</td>\n",
              "      <td>8.0</td>\n",
              "      <td>4.0</td>\n",
              "      <td>Seafood</td>\n",
              "      <td>3.0</td>\n",
              "      <td>NaN</td>\n",
              "      <td>3.0</td>\n",
              "      <td>1.0</td>\n",
              "      <td>NaN</td>\n",
              "      <td>NaN</td>\n",
              "      <td>NaN</td>\n",
              "      <td>NaN</td>\n",
              "      <td>NaN</td>\n",
              "      <td>NaN</td>\n",
              "      <td>NaN</td>\n",
              "      <td>NaN</td>\n",
              "      <td>NaN</td>\n",
              "      <td>1.0</td>\n",
              "    </tr>\n",
              "    <tr>\n",
              "      <th>1048573</th>\n",
              "      <td>10:33.7</td>\n",
              "      <td>2ec0ddec-e450-4b98-9779-42b77aa7eda5</td>\n",
              "      <td>220572.0</td>\n",
              "      <td>8</td>\n",
              "      <td>7.848904e+10</td>\n",
              "      <td>False</td>\n",
              "      <td>220572.0</td>\n",
              "      <td>เอี่ยวไถ่ สุกี้โบราณ</td>\n",
              "      <td>1.0</td>\n",
              "      <td>0.0</td>\n",
              "      <td>Bangkok Metropolitan Region</td>\n",
              "      <td>11130</td>\n",
              "      <td>w4rqtcb</td>\n",
              "      <td>0.0</td>\n",
              "      <td>3.766129</td>\n",
              "      <td>12.0</td>\n",
              "      <td>153.0</td>\n",
              "      <td>58.0</td>\n",
              "      <td>12.0</td>\n",
              "      <td>37940.0</td>\n",
              "      <td>78.0</td>\n",
              "      <td>0.0</td>\n",
              "      <td>29.0</td>\n",
              "      <td>Sukiyaki/Shabu</td>\n",
              "      <td>3.0</td>\n",
              "      <td>NaN</td>\n",
              "      <td>3.0</td>\n",
              "      <td>1.0</td>\n",
              "      <td>1.0</td>\n",
              "      <td>1.0</td>\n",
              "      <td>NaN</td>\n",
              "      <td>NaN</td>\n",
              "      <td>NaN</td>\n",
              "      <td>NaN</td>\n",
              "      <td>NaN</td>\n",
              "      <td>NaN</td>\n",
              "      <td>NaN</td>\n",
              "      <td>1.0</td>\n",
              "    </tr>\n",
              "    <tr>\n",
              "      <th>1048574</th>\n",
              "      <td>13:51.4</td>\n",
              "      <td>5741d9cf-b9f1-441d-aa83-d2b0179bf874</td>\n",
              "      <td>310448.0</td>\n",
              "      <td>8</td>\n",
              "      <td>3.157757e+10</td>\n",
              "      <td>False</td>\n",
              "      <td>310448.0</td>\n",
              "      <td>Icy-me</td>\n",
              "      <td>1.0</td>\n",
              "      <td>0.0</td>\n",
              "      <td>Prachin Buri</td>\n",
              "      <td>NaN</td>\n",
              "      <td>w682yg9</td>\n",
              "      <td>0.0</td>\n",
              "      <td>3.000000</td>\n",
              "      <td>0.0</td>\n",
              "      <td>NaN</td>\n",
              "      <td>1.0</td>\n",
              "      <td>0.0</td>\n",
              "      <td>789.0</td>\n",
              "      <td>0.0</td>\n",
              "      <td>0.0</td>\n",
              "      <td>0.0</td>\n",
              "      <td>Ice Cream</td>\n",
              "      <td>1.0</td>\n",
              "      <td>NaN</td>\n",
              "      <td>NaN</td>\n",
              "      <td>NaN</td>\n",
              "      <td>NaN</td>\n",
              "      <td>NaN</td>\n",
              "      <td>NaN</td>\n",
              "      <td>NaN</td>\n",
              "      <td>NaN</td>\n",
              "      <td>NaN</td>\n",
              "      <td>NaN</td>\n",
              "      <td>NaN</td>\n",
              "      <td>NaN</td>\n",
              "      <td>NaN</td>\n",
              "    </tr>\n",
              "  </tbody>\n",
              "</table>\n",
              "<p>1048575 rows × 38 columns</p>\n",
              "</div>"
            ],
            "text/plain": [
              "        click_timestamp  ... delivery\n",
              "0               11:38.9  ...      1.0\n",
              "1               30:51.3  ...      1.0\n",
              "2               32:09.6  ...      NaN\n",
              "3               00:59.8  ...      1.0\n",
              "4               23:36.8  ...      1.0\n",
              "...                 ...  ...      ...\n",
              "1048570         05:28.8  ...      NaN\n",
              "1048571         15:28.8  ...      NaN\n",
              "1048572         11:49.4  ...      1.0\n",
              "1048573         10:33.7  ...      1.0\n",
              "1048574         13:51.4  ...      NaN\n",
              "\n",
              "[1048575 rows x 38 columns]"
            ]
          },
          "metadata": {
            "tags": []
          },
          "execution_count": 32
        }
      ]
    },
    {
      "cell_type": "markdown",
      "metadata": {
        "id": "QdYoI5v6rS9n"
      },
      "source": [
        "##Group By -- Aggregation\n",
        "https://www.kaggle.com/crawford/python-groupby-tutorial#"
      ]
    },
    {
      "cell_type": "code",
      "metadata": {
        "id": "z0hfqoVHrRf4",
        "outputId": "f8313cde-93aa-451e-a7b5-c41ac7401897",
        "colab": {
          "base_uri": "https://localhost:8080/",
          "height": 450
        }
      },
      "source": [
        "search_click_df.groupby('business_id').count()"
      ],
      "execution_count": 38,
      "outputs": [
        {
          "output_type": "execute_result",
          "data": {
            "text/html": [
              "<div>\n",
              "<style scoped>\n",
              "    .dataframe tbody tr th:only-of-type {\n",
              "        vertical-align: middle;\n",
              "    }\n",
              "\n",
              "    .dataframe tbody tr th {\n",
              "        vertical-align: top;\n",
              "    }\n",
              "\n",
              "    .dataframe thead th {\n",
              "        text-align: right;\n",
              "    }\n",
              "</style>\n",
              "<table border=\"1\" class=\"dataframe\">\n",
              "  <thead>\n",
              "    <tr style=\"text-align: right;\">\n",
              "      <th></th>\n",
              "      <th>click_timestamp</th>\n",
              "      <th>search_id</th>\n",
              "      <th>display_position</th>\n",
              "      <th>time_diff_nanos</th>\n",
              "      <th>ads</th>\n",
              "      <th>bu_name</th>\n",
              "      <th>city</th>\n",
              "    </tr>\n",
              "    <tr>\n",
              "      <th>business_id</th>\n",
              "      <th></th>\n",
              "      <th></th>\n",
              "      <th></th>\n",
              "      <th></th>\n",
              "      <th></th>\n",
              "      <th></th>\n",
              "      <th></th>\n",
              "    </tr>\n",
              "  </thead>\n",
              "  <tbody>\n",
              "    <tr>\n",
              "      <th>2.0</th>\n",
              "      <td>4</td>\n",
              "      <td>4</td>\n",
              "      <td>4</td>\n",
              "      <td>4</td>\n",
              "      <td>4</td>\n",
              "      <td>4</td>\n",
              "      <td>4</td>\n",
              "    </tr>\n",
              "    <tr>\n",
              "      <th>5.0</th>\n",
              "      <td>2</td>\n",
              "      <td>2</td>\n",
              "      <td>2</td>\n",
              "      <td>2</td>\n",
              "      <td>2</td>\n",
              "      <td>2</td>\n",
              "      <td>2</td>\n",
              "    </tr>\n",
              "    <tr>\n",
              "      <th>6.0</th>\n",
              "      <td>6</td>\n",
              "      <td>6</td>\n",
              "      <td>6</td>\n",
              "      <td>6</td>\n",
              "      <td>6</td>\n",
              "      <td>6</td>\n",
              "      <td>6</td>\n",
              "    </tr>\n",
              "    <tr>\n",
              "      <th>7.0</th>\n",
              "      <td>3</td>\n",
              "      <td>3</td>\n",
              "      <td>3</td>\n",
              "      <td>3</td>\n",
              "      <td>3</td>\n",
              "      <td>3</td>\n",
              "      <td>3</td>\n",
              "    </tr>\n",
              "    <tr>\n",
              "      <th>14.0</th>\n",
              "      <td>5</td>\n",
              "      <td>5</td>\n",
              "      <td>5</td>\n",
              "      <td>5</td>\n",
              "      <td>5</td>\n",
              "      <td>5</td>\n",
              "      <td>5</td>\n",
              "    </tr>\n",
              "    <tr>\n",
              "      <th>...</th>\n",
              "      <td>...</td>\n",
              "      <td>...</td>\n",
              "      <td>...</td>\n",
              "      <td>...</td>\n",
              "      <td>...</td>\n",
              "      <td>...</td>\n",
              "      <td>...</td>\n",
              "    </tr>\n",
              "    <tr>\n",
              "      <th>340060.0</th>\n",
              "      <td>4</td>\n",
              "      <td>4</td>\n",
              "      <td>4</td>\n",
              "      <td>4</td>\n",
              "      <td>4</td>\n",
              "      <td>4</td>\n",
              "      <td>4</td>\n",
              "    </tr>\n",
              "    <tr>\n",
              "      <th>340063.0</th>\n",
              "      <td>1</td>\n",
              "      <td>1</td>\n",
              "      <td>1</td>\n",
              "      <td>1</td>\n",
              "      <td>1</td>\n",
              "      <td>1</td>\n",
              "      <td>1</td>\n",
              "    </tr>\n",
              "    <tr>\n",
              "      <th>340067.0</th>\n",
              "      <td>2</td>\n",
              "      <td>2</td>\n",
              "      <td>2</td>\n",
              "      <td>2</td>\n",
              "      <td>2</td>\n",
              "      <td>2</td>\n",
              "      <td>2</td>\n",
              "    </tr>\n",
              "    <tr>\n",
              "      <th>340068.0</th>\n",
              "      <td>6</td>\n",
              "      <td>6</td>\n",
              "      <td>6</td>\n",
              "      <td>6</td>\n",
              "      <td>6</td>\n",
              "      <td>6</td>\n",
              "      <td>6</td>\n",
              "    </tr>\n",
              "    <tr>\n",
              "      <th>340070.0</th>\n",
              "      <td>9</td>\n",
              "      <td>9</td>\n",
              "      <td>9</td>\n",
              "      <td>9</td>\n",
              "      <td>9</td>\n",
              "      <td>9</td>\n",
              "      <td>9</td>\n",
              "    </tr>\n",
              "  </tbody>\n",
              "</table>\n",
              "<p>141536 rows × 7 columns</p>\n",
              "</div>"
            ],
            "text/plain": [
              "             click_timestamp  search_id  display_position  ...  ads  bu_name  city\n",
              "business_id                                                ...                    \n",
              "2.0                        4          4                 4  ...    4        4     4\n",
              "5.0                        2          2                 2  ...    2        2     2\n",
              "6.0                        6          6                 6  ...    6        6     6\n",
              "7.0                        3          3                 3  ...    3        3     3\n",
              "14.0                       5          5                 5  ...    5        5     5\n",
              "...                      ...        ...               ...  ...  ...      ...   ...\n",
              "340060.0                   4          4                 4  ...    4        4     4\n",
              "340063.0                   1          1                 1  ...    1        1     1\n",
              "340067.0                   2          2                 2  ...    2        2     2\n",
              "340068.0                   6          6                 6  ...    6        6     6\n",
              "340070.0                   9          9                 9  ...    9        9     9\n",
              "\n",
              "[141536 rows x 7 columns]"
            ]
          },
          "metadata": {
            "tags": []
          },
          "execution_count": 38
        }
      ]
    },
    {
      "cell_type": "code",
      "metadata": {
        "id": "mmER-uW-n_aT",
        "outputId": "ea1d3c22-0891-4e1d-b5af-2aa4c11914b0",
        "colab": {
          "base_uri": "https://localhost:8080/",
          "height": 450
        }
      },
      "source": [
        "search_click_df.groupby('business_id').count().sort_values('click_timestamp')"
      ],
      "execution_count": 41,
      "outputs": [
        {
          "output_type": "execute_result",
          "data": {
            "text/html": [
              "<div>\n",
              "<style scoped>\n",
              "    .dataframe tbody tr th:only-of-type {\n",
              "        vertical-align: middle;\n",
              "    }\n",
              "\n",
              "    .dataframe tbody tr th {\n",
              "        vertical-align: top;\n",
              "    }\n",
              "\n",
              "    .dataframe thead th {\n",
              "        text-align: right;\n",
              "    }\n",
              "</style>\n",
              "<table border=\"1\" class=\"dataframe\">\n",
              "  <thead>\n",
              "    <tr style=\"text-align: right;\">\n",
              "      <th></th>\n",
              "      <th>click_timestamp</th>\n",
              "      <th>search_id</th>\n",
              "      <th>display_position</th>\n",
              "      <th>time_diff_nanos</th>\n",
              "      <th>ads</th>\n",
              "      <th>bu_name</th>\n",
              "      <th>city</th>\n",
              "    </tr>\n",
              "    <tr>\n",
              "      <th>business_id</th>\n",
              "      <th></th>\n",
              "      <th></th>\n",
              "      <th></th>\n",
              "      <th></th>\n",
              "      <th></th>\n",
              "      <th></th>\n",
              "      <th></th>\n",
              "    </tr>\n",
              "  </thead>\n",
              "  <tbody>\n",
              "    <tr>\n",
              "      <th>122473.0</th>\n",
              "      <td>1</td>\n",
              "      <td>1</td>\n",
              "      <td>1</td>\n",
              "      <td>1</td>\n",
              "      <td>1</td>\n",
              "      <td>1</td>\n",
              "      <td>1</td>\n",
              "    </tr>\n",
              "    <tr>\n",
              "      <th>136485.0</th>\n",
              "      <td>1</td>\n",
              "      <td>1</td>\n",
              "      <td>1</td>\n",
              "      <td>1</td>\n",
              "      <td>1</td>\n",
              "      <td>1</td>\n",
              "      <td>1</td>\n",
              "    </tr>\n",
              "    <tr>\n",
              "      <th>275120.0</th>\n",
              "      <td>1</td>\n",
              "      <td>1</td>\n",
              "      <td>1</td>\n",
              "      <td>1</td>\n",
              "      <td>1</td>\n",
              "      <td>1</td>\n",
              "      <td>1</td>\n",
              "    </tr>\n",
              "    <tr>\n",
              "      <th>136492.0</th>\n",
              "      <td>1</td>\n",
              "      <td>1</td>\n",
              "      <td>1</td>\n",
              "      <td>1</td>\n",
              "      <td>1</td>\n",
              "      <td>1</td>\n",
              "      <td>1</td>\n",
              "    </tr>\n",
              "    <tr>\n",
              "      <th>136498.0</th>\n",
              "      <td>1</td>\n",
              "      <td>1</td>\n",
              "      <td>1</td>\n",
              "      <td>1</td>\n",
              "      <td>1</td>\n",
              "      <td>1</td>\n",
              "      <td>1</td>\n",
              "    </tr>\n",
              "    <tr>\n",
              "      <th>...</th>\n",
              "      <td>...</td>\n",
              "      <td>...</td>\n",
              "      <td>...</td>\n",
              "      <td>...</td>\n",
              "      <td>...</td>\n",
              "      <td>...</td>\n",
              "      <td>...</td>\n",
              "    </tr>\n",
              "    <tr>\n",
              "      <th>150227.0</th>\n",
              "      <td>1377</td>\n",
              "      <td>1377</td>\n",
              "      <td>1377</td>\n",
              "      <td>1377</td>\n",
              "      <td>1377</td>\n",
              "      <td>1377</td>\n",
              "      <td>1377</td>\n",
              "    </tr>\n",
              "    <tr>\n",
              "      <th>273486.0</th>\n",
              "      <td>1417</td>\n",
              "      <td>1417</td>\n",
              "      <td>1417</td>\n",
              "      <td>1417</td>\n",
              "      <td>1417</td>\n",
              "      <td>1417</td>\n",
              "      <td>1417</td>\n",
              "    </tr>\n",
              "    <tr>\n",
              "      <th>112509.0</th>\n",
              "      <td>2130</td>\n",
              "      <td>2130</td>\n",
              "      <td>2130</td>\n",
              "      <td>2130</td>\n",
              "      <td>2130</td>\n",
              "      <td>2130</td>\n",
              "      <td>2130</td>\n",
              "    </tr>\n",
              "    <tr>\n",
              "      <th>142707.0</th>\n",
              "      <td>2811</td>\n",
              "      <td>2811</td>\n",
              "      <td>2811</td>\n",
              "      <td>2811</td>\n",
              "      <td>2811</td>\n",
              "      <td>2811</td>\n",
              "      <td>2811</td>\n",
              "    </tr>\n",
              "    <tr>\n",
              "      <th>182530.0</th>\n",
              "      <td>3833</td>\n",
              "      <td>3833</td>\n",
              "      <td>3833</td>\n",
              "      <td>3833</td>\n",
              "      <td>3833</td>\n",
              "      <td>3833</td>\n",
              "      <td>3833</td>\n",
              "    </tr>\n",
              "  </tbody>\n",
              "</table>\n",
              "<p>141536 rows × 7 columns</p>\n",
              "</div>"
            ],
            "text/plain": [
              "             click_timestamp  search_id  display_position  ...   ads  bu_name  city\n",
              "business_id                                                ...                     \n",
              "122473.0                   1          1                 1  ...     1        1     1\n",
              "136485.0                   1          1                 1  ...     1        1     1\n",
              "275120.0                   1          1                 1  ...     1        1     1\n",
              "136492.0                   1          1                 1  ...     1        1     1\n",
              "136498.0                   1          1                 1  ...     1        1     1\n",
              "...                      ...        ...               ...  ...   ...      ...   ...\n",
              "150227.0                1377       1377              1377  ...  1377     1377  1377\n",
              "273486.0                1417       1417              1417  ...  1417     1417  1417\n",
              "112509.0                2130       2130              2130  ...  2130     2130  2130\n",
              "142707.0                2811       2811              2811  ...  2811     2811  2811\n",
              "182530.0                3833       3833              3833  ...  3833     3833  3833\n",
              "\n",
              "[141536 rows x 7 columns]"
            ]
          },
          "metadata": {
            "tags": []
          },
          "execution_count": 41
        }
      ]
    },
    {
      "cell_type": "code",
      "metadata": {
        "id": "m1Vsxz8IsMsg",
        "outputId": "5c13e357-dd26-423e-ec92-2328eb8a8a58",
        "colab": {
          "base_uri": "https://localhost:8080/",
          "height": 134
        }
      },
      "source": [
        "w_restaurant_df[w_restaurant_df['id']==182530.0]"
      ],
      "execution_count": 45,
      "outputs": [
        {
          "output_type": "execute_result",
          "data": {
            "text/html": [
              "<div>\n",
              "<style scoped>\n",
              "    .dataframe tbody tr th:only-of-type {\n",
              "        vertical-align: middle;\n",
              "    }\n",
              "\n",
              "    .dataframe tbody tr th {\n",
              "        vertical-align: top;\n",
              "    }\n",
              "\n",
              "    .dataframe thead th {\n",
              "        text-align: right;\n",
              "    }\n",
              "</style>\n",
              "<table border=\"1\" class=\"dataframe\">\n",
              "  <thead>\n",
              "    <tr style=\"text-align: right;\">\n",
              "      <th></th>\n",
              "      <th>id</th>\n",
              "      <th>name</th>\n",
              "      <th>domain_id</th>\n",
              "      <th>closed</th>\n",
              "      <th>city_name</th>\n",
              "      <th>zipcode</th>\n",
              "      <th>geohash</th>\n",
              "      <th>new_open</th>\n",
              "      <th>weighted_average_rating</th>\n",
              "      <th>number_of_chains</th>\n",
              "      <th>number_of_bookmarks</th>\n",
              "      <th>number_of_reviews</th>\n",
              "      <th>number_of_product_tags</th>\n",
              "      <th>total_number_of_views</th>\n",
              "      <th>number_of_checkins</th>\n",
              "      <th>number_of_menu_groups</th>\n",
              "      <th>number_of_menu_photos</th>\n",
              "      <th>category_name</th>\n",
              "      <th>price_range</th>\n",
              "      <th>avg_price</th>\n",
              "      <th>parking</th>\n",
              "      <th>credit_card_accepted</th>\n",
              "      <th>good_for_groups</th>\n",
              "      <th>good_for_kids</th>\n",
              "      <th>bookable</th>\n",
              "      <th>best_of_wongnai</th>\n",
              "      <th>wifi</th>\n",
              "      <th>number_of_seats</th>\n",
              "      <th>music_venue</th>\n",
              "      <th>hotel_restaurant</th>\n",
              "      <th>pet_friendly</th>\n",
              "      <th>delivery</th>\n",
              "    </tr>\n",
              "  </thead>\n",
              "  <tbody>\n",
              "    <tr>\n",
              "      <th>124030</th>\n",
              "      <td>182530</td>\n",
              "      <td>หนานหยวน</td>\n",
              "      <td>1</td>\n",
              "      <td>0</td>\n",
              "      <td>Bangkok Metropolitan Region</td>\n",
              "      <td>10400</td>\n",
              "      <td>w4rw22m</td>\n",
              "      <td>0</td>\n",
              "      <td>4.083893</td>\n",
              "      <td>0.0</td>\n",
              "      <td>37.0</td>\n",
              "      <td>20</td>\n",
              "      <td>1</td>\n",
              "      <td>14200</td>\n",
              "      <td>11</td>\n",
              "      <td>0</td>\n",
              "      <td>10</td>\n",
              "      <td>Chinese</td>\n",
              "      <td>3.0</td>\n",
              "      <td>NaN</td>\n",
              "      <td>3.0</td>\n",
              "      <td>1.0</td>\n",
              "      <td>NaN</td>\n",
              "      <td>NaN</td>\n",
              "      <td>NaN</td>\n",
              "      <td>NaN</td>\n",
              "      <td>NaN</td>\n",
              "      <td>NaN</td>\n",
              "      <td>NaN</td>\n",
              "      <td>NaN</td>\n",
              "      <td>NaN</td>\n",
              "      <td>NaN</td>\n",
              "    </tr>\n",
              "  </tbody>\n",
              "</table>\n",
              "</div>"
            ],
            "text/plain": [
              "            id      name  domain_id  ...  hotel_restaurant pet_friendly delivery\n",
              "124030  182530  หนานหยวน          1  ...               NaN          NaN      NaN\n",
              "\n",
              "[1 rows x 32 columns]"
            ]
          },
          "metadata": {
            "tags": []
          },
          "execution_count": 45
        }
      ]
    },
    {
      "cell_type": "markdown",
      "metadata": {
        "id": "2CC7pwUwtzWw"
      },
      "source": [
        "## Quiz หาจังหวัดที่มีคน click เข้าไปมากที่สุดสามอันดับแรก"
      ]
    },
    {
      "cell_type": "code",
      "metadata": {
        "id": "1jVP3JyftynC",
        "outputId": "aae5704b-d3af-422e-e11f-1ca11b559de9",
        "colab": {
          "base_uri": "https://localhost:8080/",
          "height": 467
        }
      },
      "source": [
        "search_click_df.groupby('city').count().sort_values('click_timestamp')"
      ],
      "execution_count": 51,
      "outputs": [
        {
          "output_type": "execute_result",
          "data": {
            "text/html": [
              "<div>\n",
              "<style scoped>\n",
              "    .dataframe tbody tr th:only-of-type {\n",
              "        vertical-align: middle;\n",
              "    }\n",
              "\n",
              "    .dataframe tbody tr th {\n",
              "        vertical-align: top;\n",
              "    }\n",
              "\n",
              "    .dataframe thead th {\n",
              "        text-align: right;\n",
              "    }\n",
              "</style>\n",
              "<table border=\"1\" class=\"dataframe\">\n",
              "  <thead>\n",
              "    <tr style=\"text-align: right;\">\n",
              "      <th></th>\n",
              "      <th>click_timestamp</th>\n",
              "      <th>search_id</th>\n",
              "      <th>business_id</th>\n",
              "      <th>display_position</th>\n",
              "      <th>time_diff_nanos</th>\n",
              "      <th>ads</th>\n",
              "      <th>bu_name</th>\n",
              "    </tr>\n",
              "    <tr>\n",
              "      <th>city</th>\n",
              "      <th></th>\n",
              "      <th></th>\n",
              "      <th></th>\n",
              "      <th></th>\n",
              "      <th></th>\n",
              "      <th></th>\n",
              "      <th></th>\n",
              "    </tr>\n",
              "  </thead>\n",
              "  <tbody>\n",
              "    <tr>\n",
              "      <th>Wisconsin</th>\n",
              "      <td>1</td>\n",
              "      <td>1</td>\n",
              "      <td>1</td>\n",
              "      <td>1</td>\n",
              "      <td>1</td>\n",
              "      <td>1</td>\n",
              "      <td>1</td>\n",
              "    </tr>\n",
              "    <tr>\n",
              "      <th>Mie-ken</th>\n",
              "      <td>1</td>\n",
              "      <td>1</td>\n",
              "      <td>1</td>\n",
              "      <td>1</td>\n",
              "      <td>1</td>\n",
              "      <td>1</td>\n",
              "      <td>1</td>\n",
              "    </tr>\n",
              "    <tr>\n",
              "      <th>Tamil Nadu</th>\n",
              "      <td>1</td>\n",
              "      <td>1</td>\n",
              "      <td>1</td>\n",
              "      <td>1</td>\n",
              "      <td>1</td>\n",
              "      <td>1</td>\n",
              "      <td>1</td>\n",
              "    </tr>\n",
              "    <tr>\n",
              "      <th>Vladimirskaya oblast'</th>\n",
              "      <td>1</td>\n",
              "      <td>1</td>\n",
              "      <td>1</td>\n",
              "      <td>1</td>\n",
              "      <td>1</td>\n",
              "      <td>1</td>\n",
              "      <td>1</td>\n",
              "    </tr>\n",
              "    <tr>\n",
              "      <th>Tainan City</th>\n",
              "      <td>1</td>\n",
              "      <td>1</td>\n",
              "      <td>1</td>\n",
              "      <td>1</td>\n",
              "      <td>1</td>\n",
              "      <td>1</td>\n",
              "      <td>1</td>\n",
              "    </tr>\n",
              "    <tr>\n",
              "      <th>...</th>\n",
              "      <td>...</td>\n",
              "      <td>...</td>\n",
              "      <td>...</td>\n",
              "      <td>...</td>\n",
              "      <td>...</td>\n",
              "      <td>...</td>\n",
              "      <td>...</td>\n",
              "    </tr>\n",
              "    <tr>\n",
              "      <th>Rayong</th>\n",
              "      <td>17986</td>\n",
              "      <td>17986</td>\n",
              "      <td>17986</td>\n",
              "      <td>17986</td>\n",
              "      <td>17986</td>\n",
              "      <td>17986</td>\n",
              "      <td>17986</td>\n",
              "    </tr>\n",
              "    <tr>\n",
              "      <th>Phuket</th>\n",
              "      <td>18560</td>\n",
              "      <td>18560</td>\n",
              "      <td>18560</td>\n",
              "      <td>18560</td>\n",
              "      <td>18560</td>\n",
              "      <td>18560</td>\n",
              "      <td>18560</td>\n",
              "    </tr>\n",
              "    <tr>\n",
              "      <th>Chon Buri</th>\n",
              "      <td>51535</td>\n",
              "      <td>51535</td>\n",
              "      <td>51535</td>\n",
              "      <td>51535</td>\n",
              "      <td>51535</td>\n",
              "      <td>51535</td>\n",
              "      <td>51535</td>\n",
              "    </tr>\n",
              "    <tr>\n",
              "      <th>Chiang Mai</th>\n",
              "      <td>56775</td>\n",
              "      <td>56775</td>\n",
              "      <td>56775</td>\n",
              "      <td>56775</td>\n",
              "      <td>56775</td>\n",
              "      <td>56775</td>\n",
              "      <td>56775</td>\n",
              "    </tr>\n",
              "    <tr>\n",
              "      <th>Bangkok Metropolitan Region</th>\n",
              "      <td>596980</td>\n",
              "      <td>596963</td>\n",
              "      <td>596980</td>\n",
              "      <td>596980</td>\n",
              "      <td>596980</td>\n",
              "      <td>596980</td>\n",
              "      <td>596980</td>\n",
              "    </tr>\n",
              "  </tbody>\n",
              "</table>\n",
              "<p>365 rows × 7 columns</p>\n",
              "</div>"
            ],
            "text/plain": [
              "                             click_timestamp  search_id  ...     ads  bu_name\n",
              "city                                                     ...                 \n",
              "Wisconsin                                  1          1  ...       1        1\n",
              "Mie-ken                                    1          1  ...       1        1\n",
              "Tamil Nadu                                 1          1  ...       1        1\n",
              "Vladimirskaya oblast'                      1          1  ...       1        1\n",
              "Tainan City                                1          1  ...       1        1\n",
              "...                                      ...        ...  ...     ...      ...\n",
              "Rayong                                 17986      17986  ...   17986    17986\n",
              "Phuket                                 18560      18560  ...   18560    18560\n",
              "Chon Buri                              51535      51535  ...   51535    51535\n",
              "Chiang Mai                             56775      56775  ...   56775    56775\n",
              "Bangkok Metropolitan Region           596980     596963  ...  596980   596980\n",
              "\n",
              "[365 rows x 7 columns]"
            ]
          },
          "metadata": {
            "tags": []
          },
          "execution_count": 51
        }
      ]
    },
    {
      "cell_type": "code",
      "metadata": {
        "id": "FnPQxZl9so1L"
      },
      "source": [
        ""
      ],
      "execution_count": null,
      "outputs": []
    }
  ]
}