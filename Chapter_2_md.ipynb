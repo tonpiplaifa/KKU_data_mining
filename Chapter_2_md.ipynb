{
  "nbformat": 4,
  "nbformat_minor": 0,
  "metadata": {
    "colab": {
      "name": "Chapter 2.md",
      "provenance": [],
      "authorship_tag": "ABX9TyMbZxup6+xPMOtSpoyQdfeM",
      "include_colab_link": true
    },
    "kernelspec": {
      "name": "python3",
      "display_name": "Python 3"
    }
  },
  "cells": [
    {
      "cell_type": "markdown",
      "metadata": {
        "id": "view-in-github",
        "colab_type": "text"
      },
      "source": [
        "<a href=\"https://colab.research.google.com/github/tonpiplaifa/KKU_data_mining/blob/master/Chapter_2_md.ipynb\" target=\"_parent\"><img src=\"https://colab.research.google.com/assets/colab-badge.svg\" alt=\"Open In Colab\"/></a>"
      ]
    },
    {
      "cell_type": "markdown",
      "metadata": {
        "id": "jwCRYMwl-G6S",
        "colab_type": "text"
      },
      "source": [
        "# บทที่ 2 Getting to know your data"
      ]
    },
    {
      "cell_type": "markdown",
      "metadata": {
        "id": "Zk73m-4a-i4P",
        "colab_type": "text"
      },
      "source": [
        "รูปแบบ Data ทั้งหมดที่อาจเกิดขึ้น / พบเห็น\n",
        "- relational record\n",
        "- Data matrix\n",
        "- Transaction data เช่น Data ของตะกร้าซื้อของ\n",
        "- Temporal data เช่น time-series มีเวลามาเกี่ยวข้องด้วย\n",
        "- Spatial data เช่น maps ให้พิกัด จุดในการบอกตำแหน่ง หรือ ค่าสีต่างๆ"
      ]
    },
    {
      "cell_type": "markdown",
      "metadata": {
        "id": "eSQqWgR3_m82",
        "colab_type": "text"
      },
      "source": [
        "ความสำคัญของข้อมูลที่มีโครงสร้าง\n",
        "มี 4 ลักษณะ\n",
        "- Dimensionaliy มิติหรือจำนวน attibute\n",
        "- sparsity สนใจแค่ช่องที่มีข้อมูล\n",
        "- Resolution สำคัญ scale\n",
        "- Distribution ใช้คำกลางในการอธิบายและการกระจาย\n"
      ]
    },
    {
      "cell_type": "markdown",
      "metadata": {
        "id": "7xb2cdrfNjnU",
        "colab_type": "text"
      },
      "source": [
        "// lab ในวันที่ 17 และ 19 สิงหาคม 2563 สามารถดูได้ที่คอมเมนต์ไว้ใน Data102 //"
      ]
    },
    {
      "cell_type": "code",
      "metadata": {
        "id": "PlhGhMAmONTk",
        "colab_type": "code",
        "colab": {}
      },
      "source": [
        ""
      ],
      "execution_count": null,
      "outputs": []
    }
  ]
}