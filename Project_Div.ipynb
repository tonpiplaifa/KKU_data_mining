{
  "nbformat": 4,
  "nbformat_minor": 0,
  "metadata": {
    "colab": {
      "name": "สำเนาของ สำเนาของ Project_Div",
      "provenance": [],
      "include_colab_link": true
    },
    "kernelspec": {
      "name": "python3",
      "display_name": "Python 3"
    }
  },
  "cells": [
    {
      "cell_type": "markdown",
      "metadata": {
        "id": "view-in-github",
        "colab_type": "text"
      },
      "source": [
        "<a href=\"https://colab.research.google.com/github/tonpiplaifa/KKU_data_mining/blob/master/Project_Div.ipynb\" target=\"_parent\"><img src=\"https://colab.research.google.com/assets/colab-badge.svg\" alt=\"Open In Colab\"/></a>"
      ]
    },
    {
      "cell_type": "markdown",
      "metadata": {
        "id": "8NKHOHfUI4jp"
      },
      "source": [
        "### **สมาชิก**\n",
        "1. นางสาว เยาวลักษณ์ สมพงษ์ 613020243-9\n",
        "2. นางสาว มลทิรา ใสสอน 613021019-9\n",
        "\n"
      ]
    },
    {
      "cell_type": "markdown",
      "metadata": {
        "id": "IFzttEUTk3wQ"
      },
      "source": [
        "# แหล่งข้อมูล\n",
        "1. สถิติการจดทะเบียนหย่า ในปี 2553 - ปี 2555\n",
        "จาก : http://service.nso.go.th/nso/web/statseries/statseries02.html?fbclid=IwAR0DNstitzDLu9CVyP_bf5nxYorcLqdqrVUdjEHwjSx9012o35Zim3guI8s\n",
        "\n",
        "2. รายได้เฉลี่ยต่อเดือนต่อครัวเรือน ค่าใช้จ่ายเฉลี่ยต่อเดือนต่อครัวเรือน \n",
        "จำนวนหนี้สินโดยเฉลี่ยต่อครัวเรือน จำแนกตามจังหวัด พ.ศ. 2553 - 2555\n",
        "จาก :http://service.nso.go.th/nso/web/statseries/statseries11.html\n",
        "\n",
        "File for this project : https://drive.google.com/drive/folders/1iDdhdz3jTP5g6ucclGTHNreoWRSFLDUJ?usp=sharing\n",
        "# วัตถุประสงค์\n",
        "เพื่อทำนายจำนวนคู่หย่าว่าแต่ละจังหวัดจัดอยู่ในกลุ่มมากหรือกลุ่มน้อย จากค่าใช้จ่ายเฉลี่ย รายรับเฉลี่ย หนี้สินโดยเฉลี่ยต่อครัวเรือน "
      ]
    },
    {
      "cell_type": "markdown",
      "metadata": {
        "id": "-lbtQaOHsqBW"
      },
      "source": [
        "### ตารางข้อมูลทั้งหมด 4 ตาราง นั้นคือ \n",
        "\n",
        "1. รายได้เฉลี่ยต่อเดือนต่อครัวเรือน  จำแนกตามจังหวัด ในปี 2553 - ปี 2555\n",
        "> มี 2 attibute คือ จังหวัด และ avg_income\n",
        "2. ค่าใช้จ่ายเฉลี่ยต่อเดือนต่อครัวเรือน  จำแนกตามจังหวัด ในปี 2553 - ปี 2555\n",
        "> มี 2 attibute คือ จังหวัด และ avg_expenditure\n",
        "3. จำนวนหนี้สินโดยเฉลี่ยต่อครัวเรือน จำแนกตามจังหวัด ในปี 2553 - ปี 2555\n",
        "> มี 2 attibute คือ จังหวัด และ avg_debt\n",
        "4. จำนวนคู่การจดทะเบียนหย่า จำแนกตามจังหวัด ในปี 2553 - ปี 2555\n",
        "> มี 2 attibute คือ จังหวัด และ couple_div\n",
        "\n"
      ]
    },
    {
      "cell_type": "markdown",
      "metadata": {
        "id": "CRHgec9yrRcc"
      },
      "source": [
        "### การเชื่อมไดร์ฟเพื่อดึงข้อมูลจากไดร์ฟ"
      ]
    },
    {
      "cell_type": "code",
      "metadata": {
        "colab": {
          "base_uri": "https://localhost:8080/"
        },
        "id": "iWTW3X9zhaUj",
        "outputId": "5b7e51f1-9dbe-4a6e-e17a-061d92655a36"
      },
      "source": [
        "from google.colab import drive #เอาข้อมูลเข้า\n",
        "drive.mount('/content/drive')"
      ],
      "execution_count": null,
      "outputs": [
        {
          "output_type": "stream",
          "text": [
            "Mounted at /content/drive\n"
          ],
          "name": "stdout"
        }
      ]
    },
    {
      "cell_type": "code",
      "metadata": {
        "id": "GpD-X0l7hq1i"
      },
      "source": [
        "path = '/content/drive/My Drive/DWDM_material' #สร้างตัวแปร path เพื่อมารับที่อยู่ของไฟล์"
      ],
      "execution_count": null,
      "outputs": []
    },
    {
      "cell_type": "code",
      "metadata": {
        "id": "w7PHSOxPh26A"
      },
      "source": [
        "import os #การนำเข้า os \n",
        "import pandas as pd #การนำเข้า pandas โดนตั้งชื่อให้ว่า pd "
      ],
      "execution_count": null,
      "outputs": []
    },
    {
      "cell_type": "markdown",
      "metadata": {
        "id": "41g5yjpFoxTM"
      },
      "source": [
        "### ข้อมูลตารางที่ 1 จำนวนคู่หย่าร้าง จำแนกตามจังหวัด พ.ศ.2553-2555\n",
        "ซึ่งมีคอลัม จังหวัด และ จำนวนคู่หย่าร้าง"
      ]
    },
    {
      "cell_type": "code",
      "metadata": {
        "id": "GMNvwClr1l2J"
      },
      "source": [
        "divorce_1 = os.path.join(path,'divorce_1.csv') #การกำหนดตัวแปรเพื่อมารับข้อมูลในไฟล์ divorce_1.csv"
      ],
      "execution_count": null,
      "outputs": []
    },
    {
      "cell_type": "code",
      "metadata": {
        "id": "PG-RNv2I20xe",
        "colab": {
          "base_uri": "https://localhost:8080/",
          "height": 419
        },
        "outputId": "d2ac013e-6f44-4f1c-cacd-db9f213f04b9"
      },
      "source": [
        "divorce_1 = pd.read_csv(divorce_1) #อ่านข้อมูล\n",
        "divorce_1"
      ],
      "execution_count": null,
      "outputs": [
        {
          "output_type": "execute_result",
          "data": {
            "text/html": [
              "<div>\n",
              "<style scoped>\n",
              "    .dataframe tbody tr th:only-of-type {\n",
              "        vertical-align: middle;\n",
              "    }\n",
              "\n",
              "    .dataframe tbody tr th {\n",
              "        vertical-align: top;\n",
              "    }\n",
              "\n",
              "    .dataframe thead th {\n",
              "        text-align: right;\n",
              "    }\n",
              "</style>\n",
              "<table border=\"1\" class=\"dataframe\">\n",
              "  <thead>\n",
              "    <tr style=\"text-align: right;\">\n",
              "      <th></th>\n",
              "      <th>จังหวัด</th>\n",
              "      <th>couple_div</th>\n",
              "    </tr>\n",
              "  </thead>\n",
              "  <tbody>\n",
              "    <tr>\n",
              "      <th>0</th>\n",
              "      <td>กรุงเทพมหานคร 53</td>\n",
              "      <td>16608.0</td>\n",
              "    </tr>\n",
              "    <tr>\n",
              "      <th>1</th>\n",
              "      <td>สมุทรปราการ 53</td>\n",
              "      <td>3683.0</td>\n",
              "    </tr>\n",
              "    <tr>\n",
              "      <th>2</th>\n",
              "      <td>นนทบุรี 53</td>\n",
              "      <td>2389.0</td>\n",
              "    </tr>\n",
              "    <tr>\n",
              "      <th>3</th>\n",
              "      <td>ปทุมธานี 53</td>\n",
              "      <td>2370.0</td>\n",
              "    </tr>\n",
              "    <tr>\n",
              "      <th>4</th>\n",
              "      <td>พระนครศรีอยุธยา 53</td>\n",
              "      <td>1981.0</td>\n",
              "    </tr>\n",
              "    <tr>\n",
              "      <th>...</th>\n",
              "      <td>...</td>\n",
              "      <td>...</td>\n",
              "    </tr>\n",
              "    <tr>\n",
              "      <th>226</th>\n",
              "      <td>ตรัง 55</td>\n",
              "      <td>742.0</td>\n",
              "    </tr>\n",
              "    <tr>\n",
              "      <th>227</th>\n",
              "      <td>พัทลุง 55</td>\n",
              "      <td>704.0</td>\n",
              "    </tr>\n",
              "    <tr>\n",
              "      <th>228</th>\n",
              "      <td>ปัตตานี 55</td>\n",
              "      <td>255.0</td>\n",
              "    </tr>\n",
              "    <tr>\n",
              "      <th>229</th>\n",
              "      <td>ยะลา 55</td>\n",
              "      <td>301.0</td>\n",
              "    </tr>\n",
              "    <tr>\n",
              "      <th>230</th>\n",
              "      <td>นราธิวาส 55</td>\n",
              "      <td>225.0</td>\n",
              "    </tr>\n",
              "  </tbody>\n",
              "</table>\n",
              "<p>231 rows × 2 columns</p>\n",
              "</div>"
            ],
            "text/plain": [
              "                จังหวัด  couple_div\n",
              "0      กรุงเทพมหานคร 53     16608.0\n",
              "1        สมุทรปราการ 53      3683.0\n",
              "2            นนทบุรี 53      2389.0\n",
              "3           ปทุมธานี 53      2370.0\n",
              "4    พระนครศรีอยุธยา 53      1981.0\n",
              "..                  ...         ...\n",
              "226             ตรัง 55       742.0\n",
              "227           พัทลุง 55       704.0\n",
              "228          ปัตตานี 55       255.0\n",
              "229             ยะลา 55       301.0\n",
              "230         นราธิวาส 55       225.0\n",
              "\n",
              "[231 rows x 2 columns]"
            ]
          },
          "metadata": {
            "tags": []
          },
          "execution_count": 6
        }
      ]
    },
    {
      "cell_type": "code",
      "metadata": {
        "id": "BJtgLz2U27CP",
        "colab": {
          "base_uri": "https://localhost:8080/"
        },
        "outputId": "005e7cf0-050f-40c7-bc0c-603ba5a41e6d"
      },
      "source": [
        "divorce_1.shape #ได้ว่าข้อมูลนี้มี 231 แถว 2 คอลัม"
      ],
      "execution_count": null,
      "outputs": [
        {
          "output_type": "execute_result",
          "data": {
            "text/plain": [
              "(231, 2)"
            ]
          },
          "metadata": {
            "tags": []
          },
          "execution_count": 7
        }
      ]
    },
    {
      "cell_type": "code",
      "metadata": {
        "id": "req2jf2E2--d",
        "colab": {
          "base_uri": "https://localhost:8080/"
        },
        "outputId": "d2701b10-790a-4df5-da1b-d435ab6ffa1a"
      },
      "source": [
        "divorce_1.isnull().any() #เชคว่าภายในตารางมีค่าว่างหรือไม่ จากผลจะเห็นได้ว่าคอลัม couple_div  มีค่าว่างอยู่"
      ],
      "execution_count": null,
      "outputs": [
        {
          "output_type": "execute_result",
          "data": {
            "text/plain": [
              "จังหวัด       False\n",
              "couple_div     True\n",
              "dtype: bool"
            ]
          },
          "metadata": {
            "tags": []
          },
          "execution_count": 8
        }
      ]
    },
    {
      "cell_type": "code",
      "metadata": {
        "id": "XzDdPuaFIL2k"
      },
      "source": [
        "divorce_1= divorce_1.dropna()  #เนื่องจากข้อมูลของเราในปีที่นำมาจังหวัดบึงกาฬยังไม่แยกตัวออกมา เราจึงเลือกที่จะจัดการกับค่าว่างโดยการดรอป"
      ],
      "execution_count": null,
      "outputs": []
    },
    {
      "cell_type": "code",
      "metadata": {
        "id": "T9wtkySTIL2k",
        "colab": {
          "base_uri": "https://localhost:8080/"
        },
        "outputId": "2222bed3-5f4e-429e-ca93-5104f897bae2"
      },
      "source": [
        "divorce_1.isnull().any() #เชคว่าภายในตารางมีค่าว่างหรือไม่ จากผลจะเห็นได้ว่าคอลัม couple_div  ไม่มีค่าว่างแล้ว"
      ],
      "execution_count": null,
      "outputs": [
        {
          "output_type": "execute_result",
          "data": {
            "text/plain": [
              "จังหวัด       False\n",
              "couple_div    False\n",
              "dtype: bool"
            ]
          },
          "metadata": {
            "tags": []
          },
          "execution_count": 10
        }
      ]
    },
    {
      "cell_type": "code",
      "metadata": {
        "id": "dj8p_5d4zOyp",
        "colab": {
          "base_uri": "https://localhost:8080/"
        },
        "outputId": "023d3c7c-f758-4df0-db00-726d27b9481e"
      },
      "source": [
        "divorce_1.shape #หลังจากดรอป ได้ว่าข้อมูลนี้เหลือ 230 แถว 2 คอลัม"
      ],
      "execution_count": null,
      "outputs": [
        {
          "output_type": "execute_result",
          "data": {
            "text/plain": [
              "(230, 2)"
            ]
          },
          "metadata": {
            "tags": []
          },
          "execution_count": 12
        }
      ]
    },
    {
      "cell_type": "code",
      "metadata": {
        "id": "rpjxBnKgIL2l"
      },
      "source": [
        "from sklearn.cluster import KMeans #นำเข้าฟังก์ชัน kmeans เพื่อใช้ในการจัดกลุ่ม"
      ],
      "execution_count": null,
      "outputs": []
    },
    {
      "cell_type": "code",
      "metadata": {
        "id": "Z6pmzARkIL2l"
      },
      "source": [
        "Xd = divorce_1[['couple_div']] #Xd คือตัวแปรของการหย่า\n",
        "#ให้ตัวแปร Xd เป็นตัวแปรที่แทนคอลัม couple_div ในตาราง divorce_1"
      ],
      "execution_count": null,
      "outputs": []
    },
    {
      "cell_type": "code",
      "metadata": {
        "id": "ZW94c48rIL2l"
      },
      "source": [
        "from sklearn.datasets import make_blobs #make_blobs คือ สุ่มเดต้าขึ้นมาเป็นกลุ่มๆ"
      ],
      "execution_count": null,
      "outputs": []
    },
    {
      "cell_type": "code",
      "metadata": {
        "id": "ie43Jy55IL2l"
      },
      "source": [
        "Xd,y=make_blobs(n_samples=230, centers=2, n_features=2, random_state=6) _state=6)  #230 แถว 2 หลัก จากที่กำหนด n_samples=230 และ n_features=2 จะแบ่งเป็น 2 กลุ่ม ตาม centers=2"
      ],
      "execution_count": null,
      "outputs": []
    },
    {
      "cell_type": "code",
      "metadata": {
        "id": "dKAbV9E2IL2l",
        "colab": {
          "base_uri": "https://localhost:8080/"
        },
        "outputId": "32a04fa5-deaa-44bf-c973-8ed6b2c4dd8a"
      },
      "source": [
        "Xd.shape "
      ],
      "execution_count": null,
      "outputs": [
        {
          "output_type": "execute_result",
          "data": {
            "text/plain": [
              "(230, 2)"
            ]
          },
          "metadata": {
            "tags": []
          },
          "execution_count": 40
        }
      ]
    },
    {
      "cell_type": "code",
      "metadata": {
        "id": "ou7AEn0oIL2l",
        "colab": {
          "base_uri": "https://localhost:8080/",
          "height": 282
        },
        "outputId": "f54eea6a-550b-4ade-b580-301caaf096d4"
      },
      "source": [
        "from matplotlib import pyplot as plt #นำเข้า pyplot โดยตั้งชื่อว่า plt นำมาเพื่อพล็อตกราฟ\n",
        "plt.scatter(Xd[:,0],Xd[:,1]) #จะแบ่งเป็น 2 กลุ่ม ตาม centers=2"
      ],
      "execution_count": null,
      "outputs": [
        {
          "output_type": "execute_result",
          "data": {
            "text/plain": [
              "<matplotlib.collections.PathCollection at 0x7f55f9fd1c50>"
            ]
          },
          "metadata": {
            "tags": []
          },
          "execution_count": 41
        },
        {
          "output_type": "display_data",
          "data": {
            "image/png": "[encoded data removed]",
            "text/plain": [
              "<Figure size 432x288 with 1 Axes>"
            ]
          },
          "metadata": {
            "tags": [],
            "needs_background": "light"
          }
        }
      ]
    },
    {
      "cell_type": "code",
      "metadata": {
        "id": "tvUt9TGrIL2l"
      },
      "source": [
        "from sklearn.cluster import KMeans "
      ],
      "execution_count": null,
      "outputs": []
    },
    {
      "cell_type": "code",
      "metadata": {
        "id": "KS1yP3w8IL2l"
      },
      "source": [
        "KMclust=KMeans(n_clusters=2) # n_clusters=2 การกำหนดตัวแบ่งว่าจะแบ่งให้มีกลุ่ม 2 กลุ่ม"
      ],
      "execution_count": null,
      "outputs": []
    },
    {
      "cell_type": "code",
      "metadata": {
        "id": "PzF7a3AOIL2m",
        "colab": {
          "base_uri": "https://localhost:8080/"
        },
        "outputId": "616f6ebd-ddde-4d72-969b-27868c4a5f44"
      },
      "source": [
        "KMclust.fit(Xd)"
      ],
      "execution_count": null,
      "outputs": [
        {
          "output_type": "execute_result",
          "data": {
            "text/plain": [
              "KMeans(algorithm='auto', copy_x=True, init='k-means++', max_iter=300,\n",
              "       n_clusters=2, n_init=10, n_jobs=None, precompute_distances='auto',\n",
              "       random_state=None, tol=0.0001, verbose=0)"
            ]
          },
          "metadata": {
            "tags": []
          },
          "execution_count": 44
        }
      ]
    },
    {
      "cell_type": "code",
      "metadata": {
        "id": "5D_0MTcLIL2m"
      },
      "source": [
        "label=KMclust.predict(Xd) # predict ว่าอยู่ในกลุ่มไหน"
      ],
      "execution_count": null,
      "outputs": []
    },
    {
      "cell_type": "code",
      "metadata": {
        "id": "ps03ye4vIL2m",
        "colab": {
          "base_uri": "https://localhost:8080/",
          "height": 282
        },
        "outputId": "179122b6-f6fd-420e-fa6e-a7dc72a00abc"
      },
      "source": [
        "plt.scatter(Xd[:,0], Xd[:,1], c=label) # เปลี่ยนสีให้เป็นไปตาม label ของเราโดยการสุ่ม"
      ],
      "execution_count": null,
      "outputs": [
        {
          "output_type": "execute_result",
          "data": {
            "text/plain": [
              "<matplotlib.collections.PathCollection at 0x7f55f9f3a2b0>"
            ]
          },
          "metadata": {
            "tags": []
          },
          "execution_count": 46
        },
        {
          "output_type": "display_data",
          "data": {
            "image/png": "[encoded data removed]",
            "text/plain": [
              "<Figure size 432x288 with 1 Axes>"
            ]
          },
          "metadata": {
            "tags": [],
            "needs_background": "light"
          }
        }
      ]
    },
    {
      "cell_type": "code",
      "metadata": {
        "id": "I1Bl4g0by482"
      },
      "source": [
        "import numpy as np\n",
        "import seaborn as sns"
      ],
      "execution_count": null,
      "outputs": []
    },
    {
      "cell_type": "code",
      "metadata": {
        "id": "4z69xt-TmPYr"
      },
      "source": [
        "n_krachukd = 2 # จำนวนกระจุก\n",
        "n_thamsamd = 100 # จำนวนทำซ้ำสูงสุด\n",
        "tol = 0.0001 # ค่าความเปลี่ยนแปลงสูงสุดที่ยอมให้หยุดได้\n",
        "sumlueakd = np.random.choice(len(Xd),n_krachukd,replace=0)\n",
        "X_cend = Xd[sumlueakd] # จุดเซนทรอยด์ตั้งต้น เลือกแบบสุ่ม\n",
        "# วนซ้ำเพื่อปรับเซนทรอยด์\n",
        "for i in range(n_thamsamd):\n",
        "    raya2d = ((X_cend[None]-Xd[:,None])**2).sum(2) # วัดระยะห่างจากจุดถึงเซนทรอยด์\n",
        "    klumd = raya2d.argmin(1) # ตัดสินกลุ่มของจุดโดยเลือกเซนทรอยด์ที่ใกล้สุด\n",
        "    X_cen_maid = np.empty_like(X_cend) # จุดเซนทรอยด์ใหม่\n",
        "    # วนซ้ำเพื่อหาตำแหน่งเซนทรอยด์ใหม่\n",
        "    for j in range(n_krachukd):\n",
        "        if(len(Xd[klumd==j])): # ถ้ามีสมาชิกในกลุ่ม\n",
        "            X_cen_maid[j] = Xd[klumd==j].mean(0) # กำหนดเซนทรอยด์ใหม่เป็นตำแหน่งเฉลี่ยของทุกจุดในกลุ่ม\n",
        "        else: # ถ้าในกลุ่มว่างเปล่าก็ให้สุ่มเซนทรอยด์ใหม่\n",
        "            X_cen_maid[j] = Xd[np.random.randint(len(Xd))]\n",
        "    if(np.allclose(X_cend,X_cen_maid,atol=tol)): # ถ้าความเปลี่ยนแปลงน้อยกว่าค่าที่กำหนดก็ให้หยุด\n",
        "        X_cend = X_cen_maid\n",
        "        break\n",
        "    X_cend = X_cen_maid # ย้ายจุดเซนทรอยด์ไปยังตำแหน่งใหม่"
      ],
      "execution_count": null,
      "outputs": []
    },
    {
      "cell_type": "code",
      "metadata": {
        "id": "B4Qpae9dmPYs",
        "colab": {
          "base_uri": "https://localhost:8080/",
          "height": 295
        },
        "outputId": "c71f4f82-1bfb-4721-8c74-1e99cf498e72"
      },
      "source": [
        "raya2d = ((X_cend[None]-Xd[:,None])**2).sum(2)\n",
        "zd = raya2d.argmin(1)\n",
        "plt.gca(aspect=1)\n",
        "plt.scatter(Xd[:,0],Xd[:,1],c=zd,edgecolor='k',cmap='rainbow')\n",
        "plt.scatter(X_cend[:,0],X_cend[:,1],300,'#EEAA55',marker='*',edgecolor='#9999DD',lw=2, label = 'Centroids')\n",
        "plt.scatter(Xd[0,0], Xd[0,1], c = 'red', label = 'Cluster 0')\n",
        "plt.scatter(Xd[1,0], Xd[1,1], c = 'purple', label = 'Cluster 1')\n",
        "plt.title('Clusters of Divorce')\n",
        "plt.xlabel('Divorce Score')\n",
        "plt.legend()\n",
        "plt.show()\n",
        "#คือการกำหนดหัวเรื่องเพื่อให้มองชัดขึ้นว่าเรื่องนี้เป็นเรื่องอะไร และมีการกำหนดว่า สีที่ปรากฏหมายถึงค่าของอะไร รวมถึงการทำการกำหนดจุดcentriodด้วย"
      ],
      "execution_count": null,
      "outputs": [
        {
          "output_type": "display_data",
          "data": {
            "image/png": "[encoded data removed]",
            "text/plain": [
              "<Figure size 432x288 with 1 Axes>"
            ]
          },
          "metadata": {
            "tags": [],
            "needs_background": "light"
          }
        }
      ]
    },
    {
      "cell_type": "code",
      "metadata": {
        "id": "uoBL6p78Z9Uu",
        "colab": {
          "base_uri": "https://localhost:8080/"
        },
        "outputId": "99aa637a-d137-4acf-fe74-1633e7ffcbcd"
      },
      "source": [
        "ssed = 0\n",
        "for i in range(n_krachukd):\n",
        "    ssed += np.sum(raya2d[zd==i,i])\n",
        "print(ssed)\n",
        "#พิจารณาผลรวมของระยะห่างระหว่างจุดข้อมูลไปยังเซนทรอยด์นั้นๆ ซึ่งเรียกว่าผลรวมความคลาดเคลื่อนกำลังสอง (sum of squared errors, SSE)"
      ],
      "execution_count": null,
      "outputs": [
        {
          "output_type": "stream",
          "text": [
            "441.6649398259426\n"
          ],
          "name": "stdout"
        }
      ]
    },
    {
      "cell_type": "code",
      "metadata": {
        "id": "aTLUmTESIL2m",
        "colab": {
          "base_uri": "https://localhost:8080/"
        },
        "outputId": "4384908b-5e45-4b3c-f941-b39401ecbd33"
      },
      "source": [
        "KMclust.cluster_centers_ #คือตำแหน่งของจุดเซนทรอยด์ที่ได้มา จะมีขนาดเท่ากับ (จำนวนเซนทรอยด์,จำนวนมิติ)"
      ],
      "execution_count": null,
      "outputs": [
        {
          "output_type": "execute_result",
          "data": {
            "text/plain": [
              "array([[ 6.52197226, -9.14345366],\n",
              "       [ 7.87196532, -3.3106615 ]])"
            ]
          },
          "metadata": {
            "tags": []
          },
          "execution_count": 51
        }
      ]
    },
    {
      "cell_type": "code",
      "metadata": {
        "id": "gdnVckF5IL2m",
        "colab": {
          "base_uri": "https://localhost:8080/"
        },
        "outputId": "9618fd66-4ed3-49f8-bb16-02586cf77e80"
      },
      "source": [
        "KMclust.transform(Xd) # ระยะห่างของแต่ละจุดกับ centroid"
      ],
      "execution_count": null,
      "outputs": [
        {
          "output_type": "execute_result",
          "data": {
            "text/plain": [
              "array([[2.58812072, 6.07818896],\n",
              "       [1.08916909, 5.41329002],\n",
              "       [1.02938588, 6.65103988],\n",
              "       [0.13717964, 5.98566745],\n",
              "       [5.04589266, 1.10596487],\n",
              "       [3.07825655, 3.1216285 ],\n",
              "       [0.95903455, 6.51094188],\n",
              "       [5.92481775, 1.4838563 ],\n",
              "       [0.49071356, 5.66771389],\n",
              "       [6.63157134, 1.01523567],\n",
              "       [2.43885354, 8.25843303],\n",
              "       [5.09055468, 1.14877955],\n",
              "       [7.04180681, 1.05728964],\n",
              "       [1.13798141, 4.85539689],\n",
              "       [6.76148225, 1.20519058],\n",
              "       [0.3298308 , 6.29229091],\n",
              "       [1.08655544, 6.72597871],\n",
              "       [0.94202163, 6.88570053],\n",
              "       [4.52134607, 1.50006398],\n",
              "       [6.12405594, 1.69385492],\n",
              "       [0.17990239, 5.94928238],\n",
              "       [1.72022271, 7.65009602],\n",
              "       [0.89236745, 5.12640058],\n",
              "       [8.16547383, 2.33798037],\n",
              "       [1.86807828, 4.38229583],\n",
              "       [4.40907744, 1.68800731],\n",
              "       [1.40651594, 6.85445645],\n",
              "       [1.45933878, 6.7877501 ],\n",
              "       [1.138276  , 7.06392898],\n",
              "       [5.69020787, 0.80168853],\n",
              "       [5.32970134, 1.01843522],\n",
              "       [6.21901873, 0.23326421],\n",
              "       [5.54819505, 1.5073252 ],\n",
              "       [6.67604502, 1.47910294],\n",
              "       [1.43309545, 7.32435018],\n",
              "       [6.61467181, 0.69985374],\n",
              "       [5.80219218, 0.21386362],\n",
              "       [0.7675036 , 5.95173218],\n",
              "       [4.70601431, 1.56906293],\n",
              "       [1.04746066, 7.03426476],\n",
              "       [0.73354695, 6.23220345],\n",
              "       [7.78138685, 1.79534517],\n",
              "       [0.51640758, 5.7974951 ],\n",
              "       [6.96660307, 1.21636075],\n",
              "       [0.19260506, 5.99505867],\n",
              "       [5.91315711, 1.62188129],\n",
              "       [6.77309668, 0.82832988],\n",
              "       [5.67275166, 1.93808428],\n",
              "       [7.11359331, 1.68557837],\n",
              "       [2.15754309, 4.63897937],\n",
              "       [1.57018955, 7.22684829],\n",
              "       [5.94414524, 0.83937691],\n",
              "       [4.98162464, 1.09674737],\n",
              "       [1.92420088, 4.59111952],\n",
              "       [4.81214488, 1.22698894],\n",
              "       [2.62056933, 7.71798678],\n",
              "       [2.18416308, 3.96124912],\n",
              "       [4.36585844, 1.64542927],\n",
              "       [6.25350084, 0.52197448],\n",
              "       [1.99421086, 5.8746411 ],\n",
              "       [1.3748336 , 4.89108253],\n",
              "       [2.12614945, 5.014962  ],\n",
              "       [2.31313694, 5.59252663],\n",
              "       [7.56123338, 1.61346601],\n",
              "       [5.83855119, 0.14953758],\n",
              "       [5.72972849, 0.38252237],\n",
              "       [5.65303296, 0.34760298],\n",
              "       [5.37342964, 1.06771552],\n",
              "       [5.4151788 , 0.70392787],\n",
              "       [5.47588462, 0.51797096],\n",
              "       [1.02205539, 5.09002577],\n",
              "       [5.58343514, 1.032847  ],\n",
              "       [0.64422945, 6.62404982],\n",
              "       [1.1885073 , 6.56037112],\n",
              "       [5.50622863, 1.16694819],\n",
              "       [5.36820535, 0.62274589],\n",
              "       [5.71086498, 0.49835266],\n",
              "       [7.09155536, 1.23866231],\n",
              "       [1.5975825 , 6.17368968],\n",
              "       [1.02902649, 6.81644912],\n",
              "       [6.88588246, 1.12912981],\n",
              "       [5.57978322, 0.4558864 ],\n",
              "       [5.25704031, 1.33117131],\n",
              "       [5.2881887 , 0.72494602],\n",
              "       [7.51663507, 2.67412789],\n",
              "       [0.93514322, 6.33031053],\n",
              "       [0.68098111, 5.37771694],\n",
              "       [5.01160533, 2.31721512],\n",
              "       [7.09180815, 1.12506915],\n",
              "       [5.08783191, 1.46949879],\n",
              "       [6.79459477, 2.64638718],\n",
              "       [1.99461212, 6.28259934],\n",
              "       [7.67584532, 1.69030015],\n",
              "       [6.77785192, 0.85548444],\n",
              "       [1.56861558, 7.52423423],\n",
              "       [6.1555858 , 0.93473726],\n",
              "       [6.58222901, 2.25328367],\n",
              "       [7.93988887, 1.98190636],\n",
              "       [2.08664874, 6.97034999],\n",
              "       [5.84694224, 0.67727563],\n",
              "       [0.95486437, 5.1096112 ],\n",
              "       [6.42182778, 0.52251715],\n",
              "       [0.6572092 , 6.30187866],\n",
              "       [0.78504732, 5.21270398],\n",
              "       [5.75810593, 0.56617647],\n",
              "       [5.9406854 , 0.12278717],\n",
              "       [6.88154779, 0.98118421],\n",
              "       [1.78387851, 6.90639641],\n",
              "       [5.67909808, 1.02338709],\n",
              "       [1.70649201, 6.19345688],\n",
              "       [0.9308579 , 6.70781766],\n",
              "       [4.44726788, 1.54941374],\n",
              "       [0.66786494, 5.70574421],\n",
              "       [1.51960901, 6.94033204],\n",
              "       [8.03762154, 2.23698221],\n",
              "       [4.42020952, 1.78152539],\n",
              "       [5.73369677, 0.27183058],\n",
              "       [1.54489924, 4.92168712],\n",
              "       [7.07446383, 1.22795257],\n",
              "       [5.69785349, 0.9405558 ],\n",
              "       [5.41004245, 0.77144244],\n",
              "       [0.95153726, 6.93228302],\n",
              "       [0.72061092, 5.2679094 ],\n",
              "       [0.60791129, 5.77078036],\n",
              "       [0.60526802, 6.53823393],\n",
              "       [6.62410612, 0.9280073 ],\n",
              "       [1.1811523 , 5.67202207],\n",
              "       [0.8954134 , 5.09883628],\n",
              "       [6.74159954, 3.73649058],\n",
              "       [1.30091461, 6.04026055],\n",
              "       [7.01897236, 1.32895569],\n",
              "       [6.01000559, 2.15067034],\n",
              "       [0.43005827, 5.57628156],\n",
              "       [5.23771621, 1.00308345],\n",
              "       [7.19645569, 1.40488108],\n",
              "       [1.76223173, 6.03236368],\n",
              "       [5.46536983, 0.70860951],\n",
              "       [7.39532675, 1.71448951],\n",
              "       [2.62968965, 8.2057619 ],\n",
              "       [6.08654869, 0.12486852],\n",
              "       [0.37098221, 5.74502569],\n",
              "       [0.3110971 , 5.71075346],\n",
              "       [7.21963874, 2.19303621],\n",
              "       [5.30338588, 0.73905001],\n",
              "       [1.07465976, 6.97618314],\n",
              "       [1.58293422, 5.18211411],\n",
              "       [0.41378193, 6.3561238 ],\n",
              "       [0.98244195, 6.53900573],\n",
              "       [0.62761856, 6.46167516],\n",
              "       [1.56311313, 4.45972621],\n",
              "       [0.37594567, 6.17317166],\n",
              "       [1.47848875, 5.6553161 ],\n",
              "       [5.51371912, 0.81848934],\n",
              "       [0.47349776, 5.68068752],\n",
              "       [4.72568025, 1.48234238],\n",
              "       [0.94190891, 5.52876326],\n",
              "       [4.91120528, 1.6474008 ],\n",
              "       [5.68531816, 0.5814397 ],\n",
              "       [4.92817249, 1.91906132],\n",
              "       [6.0561877 , 0.27212524],\n",
              "       [1.38953857, 6.32080138],\n",
              "       [5.32470527, 0.90667124],\n",
              "       [0.57855387, 5.59373673],\n",
              "       [7.88807989, 2.01684463],\n",
              "       [0.86466555, 6.85164636],\n",
              "       [1.43712545, 7.03542034],\n",
              "       [6.88537902, 1.41660898],\n",
              "       [7.06288916, 1.08018189],\n",
              "       [2.74018999, 3.65189157],\n",
              "       [2.96742246, 8.70728837],\n",
              "       [1.31899613, 6.67296284],\n",
              "       [6.07929456, 0.51429967],\n",
              "       [6.58924393, 2.35245753],\n",
              "       [5.12494045, 0.97031906],\n",
              "       [5.39131981, 0.83296911],\n",
              "       [1.75612367, 4.3164498 ],\n",
              "       [1.14173005, 6.3344628 ],\n",
              "       [6.52763359, 0.95862883],\n",
              "       [5.59335898, 0.54531189],\n",
              "       [1.77524883, 5.19535067],\n",
              "       [6.74728871, 1.42572674],\n",
              "       [7.24234652, 1.9968199 ],\n",
              "       [2.24024634, 6.47608033],\n",
              "       [7.12136486, 1.26256207],\n",
              "       [0.31605714, 6.29728162],\n",
              "       [5.96142967, 0.9898774 ],\n",
              "       [1.39605428, 4.74580323],\n",
              "       [4.71456108, 1.78079382],\n",
              "       [1.41083842, 4.59767947],\n",
              "       [0.83433649, 6.73905983],\n",
              "       [5.36655263, 1.36984418],\n",
              "       [6.96276282, 1.012413  ],\n",
              "       [1.34879864, 7.12380604],\n",
              "       [0.63601651, 5.87528804],\n",
              "       [4.57686707, 1.42539588],\n",
              "       [2.46631274, 7.2593049 ],\n",
              "       [0.84698518, 6.04107996],\n",
              "       [1.90127765, 7.02789964],\n",
              "       [6.97638462, 1.02762339],\n",
              "       [1.21879145, 5.17801456],\n",
              "       [0.65353603, 6.54411627],\n",
              "       [1.40841876, 6.99801983],\n",
              "       [7.3583348 , 2.12590134],\n",
              "       [6.11181849, 0.16245373],\n",
              "       [7.24049571, 1.35474748],\n",
              "       [0.63740377, 5.415096  ],\n",
              "       [1.82711861, 6.60976541],\n",
              "       [1.13682547, 7.05541981],\n",
              "       [1.36708576, 4.90883509],\n",
              "       [1.97872685, 7.92796123],\n",
              "       [1.69246465, 6.92889296],\n",
              "       [1.80941725, 6.83705075],\n",
              "       [1.24755739, 4.89200299],\n",
              "       [1.16279476, 5.18273218],\n",
              "       [4.66672352, 1.42248345],\n",
              "       [5.47922173, 0.50803421],\n",
              "       [0.1092828 , 6.0655219 ],\n",
              "       [6.60682289, 1.45898694],\n",
              "       [1.02517074, 6.08369947],\n",
              "       [0.07081763, 5.94556317],\n",
              "       [5.67214858, 0.82789336],\n",
              "       [0.3360316 , 5.66523775],\n",
              "       [2.22175646, 3.80760849],\n",
              "       [5.31946022, 1.46418823],\n",
              "       [0.38941566, 5.78938397],\n",
              "       [5.95764896, 0.49623756],\n",
              "       [0.33547503, 6.28008397],\n",
              "       [0.7490835 , 6.60394906],\n",
              "       [1.60373417, 7.21213831],\n",
              "       [7.04261084, 1.13592124]])"
            ]
          },
          "metadata": {
            "tags": []
          },
          "execution_count": 52
        }
      ]
    },
    {
      "cell_type": "code",
      "metadata": {
        "id": "HLshjE6LIL2m",
        "colab": {
          "base_uri": "https://localhost:8080/"
        },
        "outputId": "2ea1faef-16fa-4a26-cfe7-44d9d2a7d4a7"
      },
      "source": [
        "KMclust.labels_ #ผลการแบ่งกลุ่มของข้อมูลที่ใช้เรียนรู้"
      ],
      "execution_count": null,
      "outputs": [
        {
          "output_type": "execute_result",
          "data": {
            "text/plain": [
              "array([0, 0, 0, 0, 1, 0, 0, 1, 0, 1, 0, 1, 1, 0, 1, 0, 0, 0, 1, 1, 0, 0,\n",
              "       0, 1, 0, 1, 0, 0, 0, 1, 1, 1, 1, 1, 0, 1, 1, 0, 1, 0, 0, 1, 0, 1,\n",
              "       0, 1, 1, 1, 1, 0, 0, 1, 1, 0, 1, 0, 0, 1, 1, 0, 0, 0, 0, 1, 1, 1,\n",
              "       1, 1, 1, 1, 0, 1, 0, 0, 1, 1, 1, 1, 0, 0, 1, 1, 1, 1, 1, 0, 0, 1,\n",
              "       1, 1, 1, 0, 1, 1, 0, 1, 1, 1, 0, 1, 0, 1, 0, 0, 1, 1, 1, 0, 1, 0,\n",
              "       0, 1, 0, 0, 1, 1, 1, 0, 1, 1, 1, 0, 0, 0, 0, 1, 0, 0, 1, 0, 1, 1,\n",
              "       0, 1, 1, 0, 1, 1, 0, 1, 0, 0, 1, 1, 0, 0, 0, 0, 0, 0, 0, 0, 1, 0,\n",
              "       1, 0, 1, 1, 1, 1, 0, 1, 0, 1, 0, 0, 1, 1, 0, 0, 0, 1, 1, 1, 1, 0,\n",
              "       0, 1, 1, 0, 1, 1, 0, 1, 0, 1, 0, 1, 0, 0, 1, 1, 0, 0, 1, 0, 0, 0,\n",
              "       1, 0, 0, 0, 1, 1, 1, 0, 0, 0, 0, 0, 0, 0, 0, 0, 1, 1, 0, 1, 0, 0,\n",
              "       1, 0, 0, 1, 0, 1, 0, 0, 0, 1], dtype=int32)"
            ]
          },
          "metadata": {
            "tags": []
          },
          "execution_count": 53
        }
      ]
    },
    {
      "cell_type": "code",
      "metadata": {
        "id": "I25r68bOIL2n",
        "colab": {
          "base_uri": "https://localhost:8080/"
        },
        "outputId": "136aba2a-8790-4aa8-e786-aa533f1e63aa"
      },
      "source": [
        "ssdd=[] #ssdd เซ็ทว่างของการหย่า\n",
        "for k in range(2, 10):\n",
        "    m=KMeans(n_clusters=k) \n",
        "    m.fit(Xd)\n",
        "    ssdd.append([k, m.inertia_])\n",
        "ssdd\n",
        "#K-Means จะตัดแบ่ง (Partition) วัตถุออกเป็น K กลุ่ม  และแทนค่าแต่ละกลุ่มด้วยค่าเฉลี่ยของกลุ่ม ซึ่งใช้เป็นจุดศูนย์กลาง (centroid) ของกลุ่มในการวัดระยะห่างของข้อมูลในกลุ่มเดียวกัน\n",
        "#สร้าง ssd เป็นเซตว่าง แล้วกำหนดค่า k ตั้งแต่ 2 ถึง 10 จากนั้นทำการวนลูป for เพื่อหาค่า k means ของแต่ละ k \n",
        "#จากผลสรุปได้ว่าตารางนี้ควรจัดกลุ่มเป็น 2 กลุ่ม เนื่องจากมีค่า k means สูงที่สุด"
      ],
      "execution_count": null,
      "outputs": [
        {
          "output_type": "execute_result",
          "data": {
            "text/plain": [
              "[[2, 441.6649398259427],\n",
              " [3, 358.46026820735864],\n",
              " [4, 283.0527002658164],\n",
              " [5, 231.80502526140293],\n",
              " [6, 184.07663231787365],\n",
              " [7, 165.64957672345565],\n",
              " [8, 148.09767520956873],\n",
              " [9, 131.90495454529858]]"
            ]
          },
          "metadata": {
            "tags": []
          },
          "execution_count": 54
        }
      ]
    },
    {
      "cell_type": "code",
      "metadata": {
        "id": "oQZUn6vIpl0s",
        "colab": {
          "base_uri": "https://localhost:8080/"
        },
        "outputId": "c34f5306-586e-4d5b-a417-f2b6f464953b"
      },
      "source": [
        "xyd= np.array(ssdd) #ssdd เซ็ทว่างของการหย่า\n",
        "print(xyd) #xyd ตัวแปรของ xy ของการหย่า"
      ],
      "execution_count": null,
      "outputs": [
        {
          "output_type": "stream",
          "text": [
            "[[  2.         441.66493983]\n",
            " [  3.         358.46026821]\n",
            " [  4.         283.05270027]\n",
            " [  5.         231.80502526]\n",
            " [  6.         184.07663232]\n",
            " [  7.         165.64957672]\n",
            " [  8.         148.09767521]\n",
            " [  9.         131.90495455]]\n"
          ],
          "name": "stdout"
        }
      ]
    },
    {
      "cell_type": "code",
      "metadata": {
        "id": "z6vjXYoEp4pa",
        "colab": {
          "base_uri": "https://localhost:8080/",
          "height": 282
        },
        "outputId": "3bb57df1-2d4e-48d3-be5f-1c64fe66ad5a"
      },
      "source": [
        "plt.plot(xyd[:, 0], xyd[:, 1], linestyle='--', marker='o') #xyd ตัวแปรของ xy ของการหย่า\n"
      ],
      "execution_count": null,
      "outputs": [
        {
          "output_type": "execute_result",
          "data": {
            "text/plain": [
              "[<matplotlib.lines.Line2D at 0x7f55f9e889e8>]"
            ]
          },
          "metadata": {
            "tags": []
          },
          "execution_count": 56
        },
        {
          "output_type": "display_data",
          "data": {
            "image/png": "[encoded data removed]",
            "text/plain": [
              "<Figure size 432x288 with 1 Axes>"
            ]
          },
          "metadata": {
            "tags": [],
            "needs_background": "light"
          }
        }
      ]
    },
    {
      "cell_type": "markdown",
      "metadata": {
        "id": "rgrvUn4xCy8g"
      },
      "source": [
        "#จากกราฟด้านบนจะเห็นว่า ค่าK จะเท่ากับ 5 เนื่องจากเป็นมุมที่คมที่สุดของกราฟ ดังนั้นค่าที่ดีที่สุดสำหรับ K คือ 5"
      ]
    },
    {
      "cell_type": "code",
      "metadata": {
        "id": "1ye0paBAIL2n",
        "colab": {
          "base_uri": "https://localhost:8080/",
          "height": 297
        },
        "outputId": "0cbce156-08ce-4cae-d9c0-20f6f9123ca8"
      },
      "source": [
        "ddd=pd.DataFrame(ssdd, columns=['k', 'ssdd']) #ddd ตัวแปรของการหย่า\n",
        "ddd"
      ],
      "execution_count": null,
      "outputs": [
        {
          "output_type": "execute_result",
          "data": {
            "text/html": [
              "<div>\n",
              "<style scoped>\n",
              "    .dataframe tbody tr th:only-of-type {\n",
              "        vertical-align: middle;\n",
              "    }\n",
              "\n",
              "    .dataframe tbody tr th {\n",
              "        vertical-align: top;\n",
              "    }\n",
              "\n",
              "    .dataframe thead th {\n",
              "        text-align: right;\n",
              "    }\n",
              "</style>\n",
              "<table border=\"1\" class=\"dataframe\">\n",
              "  <thead>\n",
              "    <tr style=\"text-align: right;\">\n",
              "      <th></th>\n",
              "      <th>k</th>\n",
              "      <th>ssdd</th>\n",
              "    </tr>\n",
              "  </thead>\n",
              "  <tbody>\n",
              "    <tr>\n",
              "      <th>0</th>\n",
              "      <td>2</td>\n",
              "      <td>441.664940</td>\n",
              "    </tr>\n",
              "    <tr>\n",
              "      <th>1</th>\n",
              "      <td>3</td>\n",
              "      <td>358.460268</td>\n",
              "    </tr>\n",
              "    <tr>\n",
              "      <th>2</th>\n",
              "      <td>4</td>\n",
              "      <td>283.052700</td>\n",
              "    </tr>\n",
              "    <tr>\n",
              "      <th>3</th>\n",
              "      <td>5</td>\n",
              "      <td>231.805025</td>\n",
              "    </tr>\n",
              "    <tr>\n",
              "      <th>4</th>\n",
              "      <td>6</td>\n",
              "      <td>184.076632</td>\n",
              "    </tr>\n",
              "    <tr>\n",
              "      <th>5</th>\n",
              "      <td>7</td>\n",
              "      <td>165.649577</td>\n",
              "    </tr>\n",
              "    <tr>\n",
              "      <th>6</th>\n",
              "      <td>8</td>\n",
              "      <td>148.097675</td>\n",
              "    </tr>\n",
              "    <tr>\n",
              "      <th>7</th>\n",
              "      <td>9</td>\n",
              "      <td>131.904955</td>\n",
              "    </tr>\n",
              "  </tbody>\n",
              "</table>\n",
              "</div>"
            ],
            "text/plain": [
              "   k        ssdd\n",
              "0  2  441.664940\n",
              "1  3  358.460268\n",
              "2  4  283.052700\n",
              "3  5  231.805025\n",
              "4  6  184.076632\n",
              "5  7  165.649577\n",
              "6  8  148.097675\n",
              "7  9  131.904955"
            ]
          },
          "metadata": {
            "tags": []
          },
          "execution_count": 57
        }
      ]
    },
    {
      "cell_type": "code",
      "metadata": {
        "id": "ByErbJfQIL2n",
        "colab": {
          "base_uri": "https://localhost:8080/",
          "height": 297
        },
        "outputId": "f6b5316c-8f7c-4b95-a384-30be9d2ab68d"
      },
      "source": [
        "ddd['pct_chg']=ddd['ssdd'].pct_change() * 100\n",
        "ddd"
      ],
      "execution_count": null,
      "outputs": [
        {
          "output_type": "execute_result",
          "data": {
            "text/html": [
              "<div>\n",
              "<style scoped>\n",
              "    .dataframe tbody tr th:only-of-type {\n",
              "        vertical-align: middle;\n",
              "    }\n",
              "\n",
              "    .dataframe tbody tr th {\n",
              "        vertical-align: top;\n",
              "    }\n",
              "\n",
              "    .dataframe thead th {\n",
              "        text-align: right;\n",
              "    }\n",
              "</style>\n",
              "<table border=\"1\" class=\"dataframe\">\n",
              "  <thead>\n",
              "    <tr style=\"text-align: right;\">\n",
              "      <th></th>\n",
              "      <th>k</th>\n",
              "      <th>ssdd</th>\n",
              "      <th>pct_chg</th>\n",
              "    </tr>\n",
              "  </thead>\n",
              "  <tbody>\n",
              "    <tr>\n",
              "      <th>0</th>\n",
              "      <td>2</td>\n",
              "      <td>441.664940</td>\n",
              "      <td>NaN</td>\n",
              "    </tr>\n",
              "    <tr>\n",
              "      <th>1</th>\n",
              "      <td>3</td>\n",
              "      <td>358.460268</td>\n",
              "      <td>-18.838867</td>\n",
              "    </tr>\n",
              "    <tr>\n",
              "      <th>2</th>\n",
              "      <td>4</td>\n",
              "      <td>283.052700</td>\n",
              "      <td>-21.036521</td>\n",
              "    </tr>\n",
              "    <tr>\n",
              "      <th>3</th>\n",
              "      <td>5</td>\n",
              "      <td>231.805025</td>\n",
              "      <td>-18.105348</td>\n",
              "    </tr>\n",
              "    <tr>\n",
              "      <th>4</th>\n",
              "      <td>6</td>\n",
              "      <td>184.076632</td>\n",
              "      <td>-20.589887</td>\n",
              "    </tr>\n",
              "    <tr>\n",
              "      <th>5</th>\n",
              "      <td>7</td>\n",
              "      <td>165.649577</td>\n",
              "      <td>-10.010535</td>\n",
              "    </tr>\n",
              "    <tr>\n",
              "      <th>6</th>\n",
              "      <td>8</td>\n",
              "      <td>148.097675</td>\n",
              "      <td>-10.595802</td>\n",
              "    </tr>\n",
              "    <tr>\n",
              "      <th>7</th>\n",
              "      <td>9</td>\n",
              "      <td>131.904955</td>\n",
              "      <td>-10.933812</td>\n",
              "    </tr>\n",
              "  </tbody>\n",
              "</table>\n",
              "</div>"
            ],
            "text/plain": [
              "   k        ssdd    pct_chg\n",
              "0  2  441.664940        NaN\n",
              "1  3  358.460268 -18.838867\n",
              "2  4  283.052700 -21.036521\n",
              "3  5  231.805025 -18.105348\n",
              "4  6  184.076632 -20.589887\n",
              "5  7  165.649577 -10.010535\n",
              "6  8  148.097675 -10.595802\n",
              "7  9  131.904955 -10.933812"
            ]
          },
          "metadata": {
            "tags": []
          },
          "execution_count": 58
        }
      ]
    },
    {
      "cell_type": "code",
      "metadata": {
        "id": "Ehd3LaWvIL2o",
        "colab": {
          "base_uri": "https://localhost:8080/",
          "height": 265
        },
        "outputId": "7f380e8e-2664-4c32-bf8a-8ef201723ba4"
      },
      "source": [
        "plt.plot(ddd['k'], ddd['ssdd'], linestyle='--', marker='o')\n",
        "for index, row in ddd.iterrows():\n",
        "    plt.text(row['k']+.02, row['ssdd']+.02, f'{row[\"pct_chg\"]:.2f}', fontsize=10)"
      ],
      "execution_count": null,
      "outputs": [
        {
          "output_type": "display_data",
          "data": {
            "image/png": "[encoded data removed]",
            "text/plain": [
              "<Figure size 432x288 with 1 Axes>"
            ]
          },
          "metadata": {
            "tags": [],
            "needs_background": "light"
          }
        }
      ]
    },
    {
      "cell_type": "markdown",
      "metadata": {
        "id": "lm-jbohavT5V"
      },
      "source": [
        "> **นำเข้ากลุ่มที่จัดไว้โดยการเพิ่มที่คอลัม cluster โดยที่กลุ่ม 0 คือ จำนวนคู่หย่ามาก กลุ่ม 1 คือ จำนวนคู่หย่าน้อย**"
      ]
    },
    {
      "cell_type": "code",
      "metadata": {
        "id": "WaW3tPaiIL2o",
        "colab": {
          "base_uri": "https://localhost:8080/",
          "height": 306
        },
        "outputId": "718e7483-bd97-4b5c-926a-191feb1f1789"
      },
      "source": [
        "divorce_1['cluster']=KMclust.labels_\n",
        "divorce_1.head()"
      ],
      "execution_count": null,
      "outputs": [
        {
          "output_type": "stream",
          "text": [
            "/usr/local/lib/python3.6/dist-packages/ipykernel_launcher.py:1: SettingWithCopyWarning: \n",
            "A value is trying to be set on a copy of a slice from a DataFrame.\n",
            "Try using .loc[row_indexer,col_indexer] = value instead\n",
            "\n",
            "See the caveats in the documentation: https://pandas.pydata.org/pandas-docs/stable/user_guide/indexing.html#returning-a-view-versus-a-copy\n",
            "  \"\"\"Entry point for launching an IPython kernel.\n"
          ],
          "name": "stderr"
        },
        {
          "output_type": "execute_result",
          "data": {
            "text/html": [
              "<div>\n",
              "<style scoped>\n",
              "    .dataframe tbody tr th:only-of-type {\n",
              "        vertical-align: middle;\n",
              "    }\n",
              "\n",
              "    .dataframe tbody tr th {\n",
              "        vertical-align: top;\n",
              "    }\n",
              "\n",
              "    .dataframe thead th {\n",
              "        text-align: right;\n",
              "    }\n",
              "</style>\n",
              "<table border=\"1\" class=\"dataframe\">\n",
              "  <thead>\n",
              "    <tr style=\"text-align: right;\">\n",
              "      <th></th>\n",
              "      <th>จังหวัด</th>\n",
              "      <th>couple_div</th>\n",
              "      <th>cluster</th>\n",
              "    </tr>\n",
              "  </thead>\n",
              "  <tbody>\n",
              "    <tr>\n",
              "      <th>0</th>\n",
              "      <td>กรุงเทพมหานคร 53</td>\n",
              "      <td>16608.0</td>\n",
              "      <td>0</td>\n",
              "    </tr>\n",
              "    <tr>\n",
              "      <th>1</th>\n",
              "      <td>สมุทรปราการ 53</td>\n",
              "      <td>3683.0</td>\n",
              "      <td>0</td>\n",
              "    </tr>\n",
              "    <tr>\n",
              "      <th>2</th>\n",
              "      <td>นนทบุรี 53</td>\n",
              "      <td>2389.0</td>\n",
              "      <td>0</td>\n",
              "    </tr>\n",
              "    <tr>\n",
              "      <th>3</th>\n",
              "      <td>ปทุมธานี 53</td>\n",
              "      <td>2370.0</td>\n",
              "      <td>0</td>\n",
              "    </tr>\n",
              "    <tr>\n",
              "      <th>4</th>\n",
              "      <td>พระนครศรีอยุธยา 53</td>\n",
              "      <td>1981.0</td>\n",
              "      <td>1</td>\n",
              "    </tr>\n",
              "  </tbody>\n",
              "</table>\n",
              "</div>"
            ],
            "text/plain": [
              "              จังหวัด  couple_div  cluster\n",
              "0    กรุงเทพมหานคร 53     16608.0        0\n",
              "1      สมุทรปราการ 53      3683.0        0\n",
              "2          นนทบุรี 53      2389.0        0\n",
              "3         ปทุมธานี 53      2370.0        0\n",
              "4  พระนครศรีอยุธยา 53      1981.0        1"
            ]
          },
          "metadata": {
            "tags": []
          },
          "execution_count": 60
        }
      ]
    },
    {
      "cell_type": "code",
      "metadata": {
        "id": "UOgV-IyyIL2o",
        "colab": {
          "base_uri": "https://localhost:8080/",
          "height": 297
        },
        "outputId": "bc4fde81-ad18-4e6e-c3a8-429be36a38e9"
      },
      "source": [
        "divorce_1.groupby('cluster').describe().T #ดูรายละเอียดในตารางนี้"
      ],
      "execution_count": null,
      "outputs": [
        {
          "output_type": "execute_result",
          "data": {
            "text/html": [
              "<div>\n",
              "<style scoped>\n",
              "    .dataframe tbody tr th:only-of-type {\n",
              "        vertical-align: middle;\n",
              "    }\n",
              "\n",
              "    .dataframe tbody tr th {\n",
              "        vertical-align: top;\n",
              "    }\n",
              "\n",
              "    .dataframe thead th {\n",
              "        text-align: right;\n",
              "    }\n",
              "</style>\n",
              "<table border=\"1\" class=\"dataframe\">\n",
              "  <thead>\n",
              "    <tr style=\"text-align: right;\">\n",
              "      <th></th>\n",
              "      <th>cluster</th>\n",
              "      <th>0</th>\n",
              "      <th>1</th>\n",
              "    </tr>\n",
              "  </thead>\n",
              "  <tbody>\n",
              "    <tr>\n",
              "      <th rowspan=\"8\" valign=\"top\">couple_div</th>\n",
              "      <th>count</th>\n",
              "      <td>116.000000</td>\n",
              "      <td>114.000000</td>\n",
              "    </tr>\n",
              "    <tr>\n",
              "      <th>mean</th>\n",
              "      <td>1500.017241</td>\n",
              "      <td>1329.982456</td>\n",
              "    </tr>\n",
              "    <tr>\n",
              "      <th>std</th>\n",
              "      <td>2133.074690</td>\n",
              "      <td>1580.821412</td>\n",
              "    </tr>\n",
              "    <tr>\n",
              "      <th>min</th>\n",
              "      <td>218.000000</td>\n",
              "      <td>134.000000</td>\n",
              "    </tr>\n",
              "    <tr>\n",
              "      <th>25%</th>\n",
              "      <td>628.250000</td>\n",
              "      <td>688.750000</td>\n",
              "    </tr>\n",
              "    <tr>\n",
              "      <th>50%</th>\n",
              "      <td>1012.000000</td>\n",
              "      <td>1020.000000</td>\n",
              "    </tr>\n",
              "    <tr>\n",
              "      <th>75%</th>\n",
              "      <td>1682.500000</td>\n",
              "      <td>1480.750000</td>\n",
              "    </tr>\n",
              "    <tr>\n",
              "      <th>max</th>\n",
              "      <td>16608.000000</td>\n",
              "      <td>15175.000000</td>\n",
              "    </tr>\n",
              "  </tbody>\n",
              "</table>\n",
              "</div>"
            ],
            "text/plain": [
              "cluster                      0             1\n",
              "couple_div count    116.000000    114.000000\n",
              "           mean    1500.017241   1329.982456\n",
              "           std     2133.074690   1580.821412\n",
              "           min      218.000000    134.000000\n",
              "           25%      628.250000    688.750000\n",
              "           50%     1012.000000   1020.000000\n",
              "           75%     1682.500000   1480.750000\n",
              "           max    16608.000000  15175.000000"
            ]
          },
          "metadata": {
            "tags": []
          },
          "execution_count": 61
        }
      ]
    },
    {
      "cell_type": "code",
      "metadata": {
        "id": "_JI9bWCiq9AD",
        "colab": {
          "base_uri": "https://localhost:8080/",
          "height": 297
        },
        "outputId": "54e1e720-3cab-4d29-cd7b-58a73daad99f"
      },
      "source": [
        "sns.countplot(x='cluster', data=divorce_1) #สร้างกราฟแท่งดูว่าแค่ละกลุ่มมีจำนวนเท่าไหร่ จากรูป"
      ],
      "execution_count": null,
      "outputs": [
        {
          "output_type": "execute_result",
          "data": {
            "text/plain": [
              "<matplotlib.axes._subplots.AxesSubplot at 0x7f55f9e4d550>"
            ]
          },
          "metadata": {
            "tags": []
          },
          "execution_count": 62
        },
        {
          "output_type": "display_data",
          "data": {
            "image/png": "[encoded data removed]",
            "text/plain": [
              "<Figure size 432x288 with 1 Axes>"
            ]
          },
          "metadata": {
            "tags": [],
            "needs_background": "light"
          }
        }
      ]
    },
    {
      "cell_type": "code",
      "metadata": {
        "id": "YJREY03yIL2o",
        "colab": {
          "base_uri": "https://localhost:8080/",
          "height": 419
        },
        "outputId": "234fd849-5594-4d42-bfac-0e1fe93ed3e9"
      },
      "source": [
        "divorce_1"
      ],
      "execution_count": null,
      "outputs": [
        {
          "output_type": "execute_result",
          "data": {
            "text/html": [
              "<div>\n",
              "<style scoped>\n",
              "    .dataframe tbody tr th:only-of-type {\n",
              "        vertical-align: middle;\n",
              "    }\n",
              "\n",
              "    .dataframe tbody tr th {\n",
              "        vertical-align: top;\n",
              "    }\n",
              "\n",
              "    .dataframe thead th {\n",
              "        text-align: right;\n",
              "    }\n",
              "</style>\n",
              "<table border=\"1\" class=\"dataframe\">\n",
              "  <thead>\n",
              "    <tr style=\"text-align: right;\">\n",
              "      <th></th>\n",
              "      <th>จังหวัด</th>\n",
              "      <th>couple_div</th>\n",
              "      <th>cluster</th>\n",
              "    </tr>\n",
              "  </thead>\n",
              "  <tbody>\n",
              "    <tr>\n",
              "      <th>0</th>\n",
              "      <td>กรุงเทพมหานคร 53</td>\n",
              "      <td>16608.0</td>\n",
              "      <td>0</td>\n",
              "    </tr>\n",
              "    <tr>\n",
              "      <th>1</th>\n",
              "      <td>สมุทรปราการ 53</td>\n",
              "      <td>3683.0</td>\n",
              "      <td>0</td>\n",
              "    </tr>\n",
              "    <tr>\n",
              "      <th>2</th>\n",
              "      <td>นนทบุรี 53</td>\n",
              "      <td>2389.0</td>\n",
              "      <td>0</td>\n",
              "    </tr>\n",
              "    <tr>\n",
              "      <th>3</th>\n",
              "      <td>ปทุมธานี 53</td>\n",
              "      <td>2370.0</td>\n",
              "      <td>0</td>\n",
              "    </tr>\n",
              "    <tr>\n",
              "      <th>4</th>\n",
              "      <td>พระนครศรีอยุธยา 53</td>\n",
              "      <td>1981.0</td>\n",
              "      <td>1</td>\n",
              "    </tr>\n",
              "    <tr>\n",
              "      <th>...</th>\n",
              "      <td>...</td>\n",
              "      <td>...</td>\n",
              "      <td>...</td>\n",
              "    </tr>\n",
              "    <tr>\n",
              "      <th>226</th>\n",
              "      <td>ตรัง 55</td>\n",
              "      <td>742.0</td>\n",
              "      <td>1</td>\n",
              "    </tr>\n",
              "    <tr>\n",
              "      <th>227</th>\n",
              "      <td>พัทลุง 55</td>\n",
              "      <td>704.0</td>\n",
              "      <td>0</td>\n",
              "    </tr>\n",
              "    <tr>\n",
              "      <th>228</th>\n",
              "      <td>ปัตตานี 55</td>\n",
              "      <td>255.0</td>\n",
              "      <td>0</td>\n",
              "    </tr>\n",
              "    <tr>\n",
              "      <th>229</th>\n",
              "      <td>ยะลา 55</td>\n",
              "      <td>301.0</td>\n",
              "      <td>0</td>\n",
              "    </tr>\n",
              "    <tr>\n",
              "      <th>230</th>\n",
              "      <td>นราธิวาส 55</td>\n",
              "      <td>225.0</td>\n",
              "      <td>1</td>\n",
              "    </tr>\n",
              "  </tbody>\n",
              "</table>\n",
              "<p>230 rows × 3 columns</p>\n",
              "</div>"
            ],
            "text/plain": [
              "                จังหวัด  couple_div  cluster\n",
              "0      กรุงเทพมหานคร 53     16608.0        0\n",
              "1        สมุทรปราการ 53      3683.0        0\n",
              "2            นนทบุรี 53      2389.0        0\n",
              "3           ปทุมธานี 53      2370.0        0\n",
              "4    พระนครศรีอยุธยา 53      1981.0        1\n",
              "..                  ...         ...      ...\n",
              "226             ตรัง 55       742.0        1\n",
              "227           พัทลุง 55       704.0        0\n",
              "228          ปัตตานี 55       255.0        0\n",
              "229             ยะลา 55       301.0        0\n",
              "230         นราธิวาส 55       225.0        1\n",
              "\n",
              "[230 rows x 3 columns]"
            ]
          },
          "metadata": {
            "tags": []
          },
          "execution_count": 63
        }
      ]
    },
    {
      "cell_type": "code",
      "metadata": {
        "id": "3rr4tq8xIL2o",
        "colab": {
          "base_uri": "https://localhost:8080/",
          "height": 359
        },
        "outputId": "6cbd3536-f184-4bc0-fb69-f7c06e654143"
      },
      "source": [
        "divorce_1.groupby('cluster').head().sort_values('cluster')"
      ],
      "execution_count": null,
      "outputs": [
        {
          "output_type": "execute_result",
          "data": {
            "text/html": [
              "<div>\n",
              "<style scoped>\n",
              "    .dataframe tbody tr th:only-of-type {\n",
              "        vertical-align: middle;\n",
              "    }\n",
              "\n",
              "    .dataframe tbody tr th {\n",
              "        vertical-align: top;\n",
              "    }\n",
              "\n",
              "    .dataframe thead th {\n",
              "        text-align: right;\n",
              "    }\n",
              "</style>\n",
              "<table border=\"1\" class=\"dataframe\">\n",
              "  <thead>\n",
              "    <tr style=\"text-align: right;\">\n",
              "      <th></th>\n",
              "      <th>จังหวัด</th>\n",
              "      <th>couple_div</th>\n",
              "      <th>cluster</th>\n",
              "    </tr>\n",
              "  </thead>\n",
              "  <tbody>\n",
              "    <tr>\n",
              "      <th>0</th>\n",
              "      <td>กรุงเทพมหานคร 53</td>\n",
              "      <td>16608.0</td>\n",
              "      <td>0</td>\n",
              "    </tr>\n",
              "    <tr>\n",
              "      <th>1</th>\n",
              "      <td>สมุทรปราการ 53</td>\n",
              "      <td>3683.0</td>\n",
              "      <td>0</td>\n",
              "    </tr>\n",
              "    <tr>\n",
              "      <th>2</th>\n",
              "      <td>นนทบุรี 53</td>\n",
              "      <td>2389.0</td>\n",
              "      <td>0</td>\n",
              "    </tr>\n",
              "    <tr>\n",
              "      <th>3</th>\n",
              "      <td>ปทุมธานี 53</td>\n",
              "      <td>2370.0</td>\n",
              "      <td>0</td>\n",
              "    </tr>\n",
              "    <tr>\n",
              "      <th>5</th>\n",
              "      <td>อ่างทอง 53</td>\n",
              "      <td>497.0</td>\n",
              "      <td>0</td>\n",
              "    </tr>\n",
              "    <tr>\n",
              "      <th>4</th>\n",
              "      <td>พระนครศรีอยุธยา 53</td>\n",
              "      <td>1981.0</td>\n",
              "      <td>1</td>\n",
              "    </tr>\n",
              "    <tr>\n",
              "      <th>7</th>\n",
              "      <td>สิงห์บุรี 53</td>\n",
              "      <td>409.0</td>\n",
              "      <td>1</td>\n",
              "    </tr>\n",
              "    <tr>\n",
              "      <th>9</th>\n",
              "      <td>สระบุรี 53</td>\n",
              "      <td>1618.0</td>\n",
              "      <td>1</td>\n",
              "    </tr>\n",
              "    <tr>\n",
              "      <th>11</th>\n",
              "      <td>ระยอง 53</td>\n",
              "      <td>2335.0</td>\n",
              "      <td>1</td>\n",
              "    </tr>\n",
              "    <tr>\n",
              "      <th>12</th>\n",
              "      <td>จันทบุรี 53</td>\n",
              "      <td>806.0</td>\n",
              "      <td>1</td>\n",
              "    </tr>\n",
              "  </tbody>\n",
              "</table>\n",
              "</div>"
            ],
            "text/plain": [
              "               จังหวัด  couple_div  cluster\n",
              "0     กรุงเทพมหานคร 53     16608.0        0\n",
              "1       สมุทรปราการ 53      3683.0        0\n",
              "2           นนทบุรี 53      2389.0        0\n",
              "3          ปทุมธานี 53      2370.0        0\n",
              "5           อ่างทอง 53       497.0        0\n",
              "4   พระนครศรีอยุธยา 53      1981.0        1\n",
              "7         สิงห์บุรี 53       409.0        1\n",
              "9           สระบุรี 53      1618.0        1\n",
              "11            ระยอง 53      2335.0        1\n",
              "12         จันทบุรี 53       806.0        1"
            ]
          },
          "metadata": {
            "tags": []
          },
          "execution_count": 64
        }
      ]
    },
    {
      "cell_type": "code",
      "metadata": {
        "id": "3J3YYvUvo9NM",
        "colab": {
          "base_uri": "https://localhost:8080/",
          "height": 504
        },
        "outputId": "3fd2384f-9e62-49eb-b7d5-224b5b6c9010"
      },
      "source": [
        "divorce_1.rename(columns={'cluster':'C_Divorce'},inplace=True) #เปลี่ยนชื่อจากคอลัม cluster เป็น C_Debt\n",
        "divorce_1"
      ],
      "execution_count": null,
      "outputs": [
        {
          "output_type": "stream",
          "text": [
            "/usr/local/lib/python3.6/dist-packages/pandas/core/frame.py:4308: SettingWithCopyWarning: \n",
            "A value is trying to be set on a copy of a slice from a DataFrame\n",
            "\n",
            "See the caveats in the documentation: https://pandas.pydata.org/pandas-docs/stable/user_guide/indexing.html#returning-a-view-versus-a-copy\n",
            "  errors=errors,\n"
          ],
          "name": "stderr"
        },
        {
          "output_type": "execute_result",
          "data": {
            "text/html": [
              "<div>\n",
              "<style scoped>\n",
              "    .dataframe tbody tr th:only-of-type {\n",
              "        vertical-align: middle;\n",
              "    }\n",
              "\n",
              "    .dataframe tbody tr th {\n",
              "        vertical-align: top;\n",
              "    }\n",
              "\n",
              "    .dataframe thead th {\n",
              "        text-align: right;\n",
              "    }\n",
              "</style>\n",
              "<table border=\"1\" class=\"dataframe\">\n",
              "  <thead>\n",
              "    <tr style=\"text-align: right;\">\n",
              "      <th></th>\n",
              "      <th>จังหวัด</th>\n",
              "      <th>couple_div</th>\n",
              "      <th>C_Divorce</th>\n",
              "    </tr>\n",
              "  </thead>\n",
              "  <tbody>\n",
              "    <tr>\n",
              "      <th>0</th>\n",
              "      <td>กรุงเทพมหานคร 53</td>\n",
              "      <td>16608.0</td>\n",
              "      <td>0</td>\n",
              "    </tr>\n",
              "    <tr>\n",
              "      <th>1</th>\n",
              "      <td>สมุทรปราการ 53</td>\n",
              "      <td>3683.0</td>\n",
              "      <td>0</td>\n",
              "    </tr>\n",
              "    <tr>\n",
              "      <th>2</th>\n",
              "      <td>นนทบุรี 53</td>\n",
              "      <td>2389.0</td>\n",
              "      <td>0</td>\n",
              "    </tr>\n",
              "    <tr>\n",
              "      <th>3</th>\n",
              "      <td>ปทุมธานี 53</td>\n",
              "      <td>2370.0</td>\n",
              "      <td>0</td>\n",
              "    </tr>\n",
              "    <tr>\n",
              "      <th>4</th>\n",
              "      <td>พระนครศรีอยุธยา 53</td>\n",
              "      <td>1981.0</td>\n",
              "      <td>1</td>\n",
              "    </tr>\n",
              "    <tr>\n",
              "      <th>...</th>\n",
              "      <td>...</td>\n",
              "      <td>...</td>\n",
              "      <td>...</td>\n",
              "    </tr>\n",
              "    <tr>\n",
              "      <th>226</th>\n",
              "      <td>ตรัง 55</td>\n",
              "      <td>742.0</td>\n",
              "      <td>1</td>\n",
              "    </tr>\n",
              "    <tr>\n",
              "      <th>227</th>\n",
              "      <td>พัทลุง 55</td>\n",
              "      <td>704.0</td>\n",
              "      <td>0</td>\n",
              "    </tr>\n",
              "    <tr>\n",
              "      <th>228</th>\n",
              "      <td>ปัตตานี 55</td>\n",
              "      <td>255.0</td>\n",
              "      <td>0</td>\n",
              "    </tr>\n",
              "    <tr>\n",
              "      <th>229</th>\n",
              "      <td>ยะลา 55</td>\n",
              "      <td>301.0</td>\n",
              "      <td>0</td>\n",
              "    </tr>\n",
              "    <tr>\n",
              "      <th>230</th>\n",
              "      <td>นราธิวาส 55</td>\n",
              "      <td>225.0</td>\n",
              "      <td>1</td>\n",
              "    </tr>\n",
              "  </tbody>\n",
              "</table>\n",
              "<p>230 rows × 3 columns</p>\n",
              "</div>"
            ],
            "text/plain": [
              "                จังหวัด  couple_div  C_Divorce\n",
              "0      กรุงเทพมหานคร 53     16608.0          0\n",
              "1        สมุทรปราการ 53      3683.0          0\n",
              "2            นนทบุรี 53      2389.0          0\n",
              "3           ปทุมธานี 53      2370.0          0\n",
              "4    พระนครศรีอยุธยา 53      1981.0          1\n",
              "..                  ...         ...        ...\n",
              "226             ตรัง 55       742.0          1\n",
              "227           พัทลุง 55       704.0          0\n",
              "228          ปัตตานี 55       255.0          0\n",
              "229             ยะลา 55       301.0          0\n",
              "230         นราธิวาส 55       225.0          1\n",
              "\n",
              "[230 rows x 3 columns]"
            ]
          },
          "metadata": {
            "tags": []
          },
          "execution_count": 65
        }
      ]
    },
    {
      "cell_type": "markdown",
      "metadata": {
        "id": "h_mAv8sBuiyR"
      },
      "source": [
        "### ข้อมูลตารางที่ 2 จำนวนหนี้สินโดยเฉลี่ยต่อครัวเรือน จำแนกตามจังหวัด พ.ศ.2553-2555\n",
        "ซึ่งมีคอลัม จังหวัด และ จำนวนหนี้สินโดยเฉลี่ย"
      ]
    },
    {
      "cell_type": "code",
      "metadata": {
        "id": "yYUGqEJnuiyR"
      },
      "source": [
        "avg_Debt_1 = os.path.join(path,'avg_Debt_1.csv') #การกำหนดตัวแปรเพื่อมารับข้อมูลในไฟล์ avg_Debt_1.csv"
      ],
      "execution_count": null,
      "outputs": []
    },
    {
      "cell_type": "code",
      "metadata": {
        "colab": {
          "base_uri": "https://localhost:8080/",
          "height": 419
        },
        "id": "X_dvsET5uiyR",
        "outputId": "a734e057-2224-4631-af3c-bd4152215b0a"
      },
      "source": [
        "avg_Debt_1 = pd.read_csv(avg_Debt_1) #อ่านข้อมูล\n",
        "avg_Debt_1"
      ],
      "execution_count": null,
      "outputs": [
        {
          "output_type": "execute_result",
          "data": {
            "text/html": [
              "<div>\n",
              "<style scoped>\n",
              "    .dataframe tbody tr th:only-of-type {\n",
              "        vertical-align: middle;\n",
              "    }\n",
              "\n",
              "    .dataframe tbody tr th {\n",
              "        vertical-align: top;\n",
              "    }\n",
              "\n",
              "    .dataframe thead th {\n",
              "        text-align: right;\n",
              "    }\n",
              "</style>\n",
              "<table border=\"1\" class=\"dataframe\">\n",
              "  <thead>\n",
              "    <tr style=\"text-align: right;\">\n",
              "      <th></th>\n",
              "      <th>จังหวัด</th>\n",
              "      <th>avg_debt</th>\n",
              "    </tr>\n",
              "  </thead>\n",
              "  <tbody>\n",
              "    <tr>\n",
              "      <th>0</th>\n",
              "      <td>กรุงเทพมหานคร 53</td>\n",
              "      <td>207665.0</td>\n",
              "    </tr>\n",
              "    <tr>\n",
              "      <th>1</th>\n",
              "      <td>สมุทรปราการ 53</td>\n",
              "      <td>117360.8</td>\n",
              "    </tr>\n",
              "    <tr>\n",
              "      <th>2</th>\n",
              "      <td>นนทบุรี 53</td>\n",
              "      <td>240769.0</td>\n",
              "    </tr>\n",
              "    <tr>\n",
              "      <th>3</th>\n",
              "      <td>ปทุมธานี 53</td>\n",
              "      <td>220761.2</td>\n",
              "    </tr>\n",
              "    <tr>\n",
              "      <th>4</th>\n",
              "      <td>พระนครศรีอยุธยา 53</td>\n",
              "      <td>163424.5</td>\n",
              "    </tr>\n",
              "    <tr>\n",
              "      <th>...</th>\n",
              "      <td>...</td>\n",
              "      <td>...</td>\n",
              "    </tr>\n",
              "    <tr>\n",
              "      <th>226</th>\n",
              "      <td>ตรัง 55</td>\n",
              "      <td>160207.0</td>\n",
              "    </tr>\n",
              "    <tr>\n",
              "      <th>227</th>\n",
              "      <td>พัทลุง 55</td>\n",
              "      <td>162248.7</td>\n",
              "    </tr>\n",
              "    <tr>\n",
              "      <th>228</th>\n",
              "      <td>ปัตตานี 55</td>\n",
              "      <td>109102.5</td>\n",
              "    </tr>\n",
              "    <tr>\n",
              "      <th>229</th>\n",
              "      <td>ยะลา 55</td>\n",
              "      <td>35828.9</td>\n",
              "    </tr>\n",
              "    <tr>\n",
              "      <th>230</th>\n",
              "      <td>นราธิวาส 55</td>\n",
              "      <td>44974.1</td>\n",
              "    </tr>\n",
              "  </tbody>\n",
              "</table>\n",
              "<p>231 rows × 2 columns</p>\n",
              "</div>"
            ],
            "text/plain": [
              "                จังหวัด  avg_debt\n",
              "0      กรุงเทพมหานคร 53  207665.0\n",
              "1        สมุทรปราการ 53  117360.8\n",
              "2            นนทบุรี 53  240769.0\n",
              "3           ปทุมธานี 53  220761.2\n",
              "4    พระนครศรีอยุธยา 53  163424.5\n",
              "..                  ...       ...\n",
              "226             ตรัง 55  160207.0\n",
              "227           พัทลุง 55  162248.7\n",
              "228          ปัตตานี 55  109102.5\n",
              "229             ยะลา 55   35828.9\n",
              "230         นราธิวาส 55   44974.1\n",
              "\n",
              "[231 rows x 2 columns]"
            ]
          },
          "metadata": {
            "tags": []
          },
          "execution_count": 67
        }
      ]
    },
    {
      "cell_type": "code",
      "metadata": {
        "colab": {
          "base_uri": "https://localhost:8080/"
        },
        "id": "aaBa8Ad3uiyT",
        "outputId": "b8c2a2f5-24d2-491c-c505-058d60340065"
      },
      "source": [
        "avg_Debt_1.shape #ได้ว่าข้อมูลนี้มี 231 แถว 2 คอลัม"
      ],
      "execution_count": null,
      "outputs": [
        {
          "output_type": "execute_result",
          "data": {
            "text/plain": [
              "(231, 2)"
            ]
          },
          "metadata": {
            "tags": []
          },
          "execution_count": 68
        }
      ]
    },
    {
      "cell_type": "code",
      "metadata": {
        "colab": {
          "base_uri": "https://localhost:8080/"
        },
        "id": "ZbKspKbFuiyU",
        "outputId": "5ce053c6-60b5-40be-bc62-009a5a92d7ab"
      },
      "source": [
        "avg_Debt_1.isnull().any() #เชคว่าภายในตารางมีค่าว่างหรือไม่ จากผลจะเห็นได้ว่าคอลัม avg_debt มีค่าว่างอยู่"
      ],
      "execution_count": null,
      "outputs": [
        {
          "output_type": "execute_result",
          "data": {
            "text/plain": [
              "จังหวัด     False\n",
              "avg_debt     True\n",
              "dtype: bool"
            ]
          },
          "metadata": {
            "tags": []
          },
          "execution_count": 69
        }
      ]
    },
    {
      "cell_type": "code",
      "metadata": {
        "id": "FAfk0PxMuiyU"
      },
      "source": [
        "avg_Debt_1 = avg_Debt_1.dropna() #แก้ไข missing valua โดยดรอปช่องที่ว่าง"
      ],
      "execution_count": null,
      "outputs": []
    },
    {
      "cell_type": "code",
      "metadata": {
        "colab": {
          "base_uri": "https://localhost:8080/"
        },
        "id": "vMT7u8ejuiyU",
        "outputId": "e78be1da-5101-4c61-b222-376396c26285"
      },
      "source": [
        "avg_Debt_1.isnull().any() #ตรวจสอบค่าว่างอีกรอบ พบว่าไม่มีค่าว่างอยู่แล้ว"
      ],
      "execution_count": null,
      "outputs": [
        {
          "output_type": "execute_result",
          "data": {
            "text/plain": [
              "จังหวัด     False\n",
              "avg_debt    False\n",
              "dtype: bool"
            ]
          },
          "metadata": {
            "tags": []
          },
          "execution_count": 71
        }
      ]
    },
    {
      "cell_type": "code",
      "metadata": {
        "id": "n_J59RZ8035Q",
        "colab": {
          "base_uri": "https://localhost:8080/"
        },
        "outputId": "d5833e25-aaf6-4284-83f3-bfdeca96e391"
      },
      "source": [
        "avg_Debt_1.shape  #หลังจากดรอปแล้วจะพบว่าข้อมูลนี้มี 229 แถว 2 คอลัม"
      ],
      "execution_count": null,
      "outputs": [
        {
          "output_type": "execute_result",
          "data": {
            "text/plain": [
              "(229, 2)"
            ]
          },
          "metadata": {
            "tags": []
          },
          "execution_count": 72
        }
      ]
    },
    {
      "cell_type": "markdown",
      "metadata": {
        "id": "sZkeDXNLMHtZ"
      },
      "source": [
        "### ข้อมูลตารางที่ 3 รายได้โดยเฉลี่ยต่อครัวเรือน จำแนกตามจังหวัด พ.ศ.2553 - 2555\n",
        "ซึ่งมีคอลัม จังหวัด และ รายได้โดยเฉลี่ย"
      ]
    },
    {
      "cell_type": "code",
      "metadata": {
        "id": "cRFxtSGEMChL"
      },
      "source": [
        "avg_Income_1 = os.path.join(path,'avg_Income_1.csv') #การกำหนดตัวแปรเพื่อมารับข้อมูลในไฟล์ avg_Income_1.csv"
      ],
      "execution_count": null,
      "outputs": []
    },
    {
      "cell_type": "code",
      "metadata": {
        "id": "rHfuuXQHMChL",
        "colab": {
          "base_uri": "https://localhost:8080/",
          "height": 419
        },
        "outputId": "3c8812f2-56c6-45f9-a3a2-9171b72ee732"
      },
      "source": [
        "avg_Income_1 = pd.read_csv(avg_Income_1) \n",
        "avg_Income_1"
      ],
      "execution_count": null,
      "outputs": [
        {
          "output_type": "execute_result",
          "data": {
            "text/html": [
              "<div>\n",
              "<style scoped>\n",
              "    .dataframe tbody tr th:only-of-type {\n",
              "        vertical-align: middle;\n",
              "    }\n",
              "\n",
              "    .dataframe tbody tr th {\n",
              "        vertical-align: top;\n",
              "    }\n",
              "\n",
              "    .dataframe thead th {\n",
              "        text-align: right;\n",
              "    }\n",
              "</style>\n",
              "<table border=\"1\" class=\"dataframe\">\n",
              "  <thead>\n",
              "    <tr style=\"text-align: right;\">\n",
              "      <th></th>\n",
              "      <th>จังหวัด</th>\n",
              "      <th>avg_income</th>\n",
              "    </tr>\n",
              "  </thead>\n",
              "  <tbody>\n",
              "    <tr>\n",
              "      <th>0</th>\n",
              "      <td>กรุงเทพมหานคร 53</td>\n",
              "      <td>42380.0</td>\n",
              "    </tr>\n",
              "    <tr>\n",
              "      <th>1</th>\n",
              "      <td>สมุทรปราการ 53</td>\n",
              "      <td>23359.0</td>\n",
              "    </tr>\n",
              "    <tr>\n",
              "      <th>2</th>\n",
              "      <td>นนทบุรี 53</td>\n",
              "      <td>34626.0</td>\n",
              "    </tr>\n",
              "    <tr>\n",
              "      <th>3</th>\n",
              "      <td>ปทุมธานี 53</td>\n",
              "      <td>26686.0</td>\n",
              "    </tr>\n",
              "    <tr>\n",
              "      <th>4</th>\n",
              "      <td>พระนครศรีอยุธยา 53</td>\n",
              "      <td>25820.0</td>\n",
              "    </tr>\n",
              "    <tr>\n",
              "      <th>...</th>\n",
              "      <td>...</td>\n",
              "      <td>...</td>\n",
              "    </tr>\n",
              "    <tr>\n",
              "      <th>226</th>\n",
              "      <td>ตรัง 55</td>\n",
              "      <td>33269.9</td>\n",
              "    </tr>\n",
              "    <tr>\n",
              "      <th>227</th>\n",
              "      <td>พัทลุง 55</td>\n",
              "      <td>26169.3</td>\n",
              "    </tr>\n",
              "    <tr>\n",
              "      <th>228</th>\n",
              "      <td>ปัตตานี 55</td>\n",
              "      <td>20199.1</td>\n",
              "    </tr>\n",
              "    <tr>\n",
              "      <th>229</th>\n",
              "      <td>ยะลา 55</td>\n",
              "      <td>22483.1</td>\n",
              "    </tr>\n",
              "    <tr>\n",
              "      <th>230</th>\n",
              "      <td>นราธิวาส 55</td>\n",
              "      <td>16772.8</td>\n",
              "    </tr>\n",
              "  </tbody>\n",
              "</table>\n",
              "<p>231 rows × 2 columns</p>\n",
              "</div>"
            ],
            "text/plain": [
              "                จังหวัด  avg_income\n",
              "0      กรุงเทพมหานคร 53     42380.0\n",
              "1        สมุทรปราการ 53     23359.0\n",
              "2            นนทบุรี 53     34626.0\n",
              "3           ปทุมธานี 53     26686.0\n",
              "4    พระนครศรีอยุธยา 53     25820.0\n",
              "..                  ...         ...\n",
              "226             ตรัง 55     33269.9\n",
              "227           พัทลุง 55     26169.3\n",
              "228          ปัตตานี 55     20199.1\n",
              "229             ยะลา 55     22483.1\n",
              "230         นราธิวาส 55     16772.8\n",
              "\n",
              "[231 rows x 2 columns]"
            ]
          },
          "metadata": {
            "tags": []
          },
          "execution_count": 74
        }
      ]
    },
    {
      "cell_type": "code",
      "metadata": {
        "id": "9fP1QG-DMChL",
        "colab": {
          "base_uri": "https://localhost:8080/"
        },
        "outputId": "e14f65a8-62c6-49f7-82ad-1a4168acb02c"
      },
      "source": [
        "avg_Income_1.shape #ได้ว่าข้อมูลนี้มี 231 แถว 2 คอลัม"
      ],
      "execution_count": null,
      "outputs": [
        {
          "output_type": "execute_result",
          "data": {
            "text/plain": [
              "(231, 2)"
            ]
          },
          "metadata": {
            "tags": []
          },
          "execution_count": 75
        }
      ]
    },
    {
      "cell_type": "code",
      "metadata": {
        "id": "uxAbMUsDMChL",
        "colab": {
          "base_uri": "https://localhost:8080/"
        },
        "outputId": "7d2c0ed6-a0a2-48c7-95f1-3804b4dff8d8"
      },
      "source": [
        "avg_Income_1.isnull().any() #เชคว่าภายในตารางมีค่าว่างหรือไม่ จากผลจะเห็นได้ว่าคอลัม avg_income มีค่าว่างอยู่"
      ],
      "execution_count": null,
      "outputs": [
        {
          "output_type": "execute_result",
          "data": {
            "text/plain": [
              "จังหวัด       False\n",
              "avg_income     True\n",
              "dtype: bool"
            ]
          },
          "metadata": {
            "tags": []
          },
          "execution_count": 76
        }
      ]
    },
    {
      "cell_type": "code",
      "metadata": {
        "id": "6D5_HXaAMChL"
      },
      "source": [
        "avg_Income_1 = avg_Income_1.dropna()  #แก้ไข missing valua โดยดรอปช่องที่ว่าง"
      ],
      "execution_count": null,
      "outputs": []
    },
    {
      "cell_type": "code",
      "metadata": {
        "id": "Tx4dS-V5MChL",
        "colab": {
          "base_uri": "https://localhost:8080/"
        },
        "outputId": "8bee9f4e-5276-491f-e2b7-eaffa3c7a549"
      },
      "source": [
        "avg_Income_1.isnull().any() #ตรวจสอบค่าว่างอีกรอบ พบว่าไม่มีค่าว่างอยู่แล้ว"
      ],
      "execution_count": null,
      "outputs": [
        {
          "output_type": "execute_result",
          "data": {
            "text/plain": [
              "จังหวัด       False\n",
              "avg_income    False\n",
              "dtype: bool"
            ]
          },
          "metadata": {
            "tags": []
          },
          "execution_count": 78
        }
      ]
    },
    {
      "cell_type": "code",
      "metadata": {
        "id": "kkqI8CoM1GdL",
        "colab": {
          "base_uri": "https://localhost:8080/"
        },
        "outputId": "4283a7c5-5776-4d5b-ea9e-56fd371f674b"
      },
      "source": [
        "avg_Income_1.shape  #หลังจากดรอปแล้วจะพบว่าข้อมูลนี้มี 229 แถว 2 คอลัม"
      ],
      "execution_count": null,
      "outputs": [
        {
          "output_type": "execute_result",
          "data": {
            "text/plain": [
              "(229, 2)"
            ]
          },
          "metadata": {
            "tags": []
          },
          "execution_count": 79
        }
      ]
    },
    {
      "cell_type": "markdown",
      "metadata": {
        "id": "Rr4bNcyyMe4g"
      },
      "source": [
        "### ข้อมูลตารางที่ 4 ค่าใช้จ่ายโดยเฉลี่ยต่อครัวเรือน จำแนกตามจังหวัด พ.ศ.2553 - 2555\n",
        "ซึ่งมีคอลัม จังหวัด และ ค่าใช้จ่ายโดยเฉลี่ย"
      ]
    },
    {
      "cell_type": "code",
      "metadata": {
        "id": "3w8LrHBYMmW3"
      },
      "source": [
        "avg_Expenditure_1 = os.path.join(path,'avg_Expenditure_1.csv') #การกำหนดตัวแปรเพื่อมารับข้อมูลในไฟล์ avg_Expenditure_1.csv"
      ],
      "execution_count": null,
      "outputs": []
    },
    {
      "cell_type": "code",
      "metadata": {
        "id": "qgYF8P-rMmW3",
        "colab": {
          "base_uri": "https://localhost:8080/",
          "height": 419
        },
        "outputId": "26e00076-7b2b-41c6-9f88-d777c9387590"
      },
      "source": [
        "avg_Expenditure_1 = pd.read_csv(avg_Expenditure_1)\n",
        "avg_Expenditure_1"
      ],
      "execution_count": null,
      "outputs": [
        {
          "output_type": "execute_result",
          "data": {
            "text/html": [
              "<div>\n",
              "<style scoped>\n",
              "    .dataframe tbody tr th:only-of-type {\n",
              "        vertical-align: middle;\n",
              "    }\n",
              "\n",
              "    .dataframe tbody tr th {\n",
              "        vertical-align: top;\n",
              "    }\n",
              "\n",
              "    .dataframe thead th {\n",
              "        text-align: right;\n",
              "    }\n",
              "</style>\n",
              "<table border=\"1\" class=\"dataframe\">\n",
              "  <thead>\n",
              "    <tr style=\"text-align: right;\">\n",
              "      <th></th>\n",
              "      <th>จังหวัด</th>\n",
              "      <th>avg_expenditure</th>\n",
              "    </tr>\n",
              "  </thead>\n",
              "  <tbody>\n",
              "    <tr>\n",
              "      <th>0</th>\n",
              "      <td>กรุงเทพมหานคร 53</td>\n",
              "      <td>30334.0</td>\n",
              "    </tr>\n",
              "    <tr>\n",
              "      <th>1</th>\n",
              "      <td>สมุทรปราการ 53</td>\n",
              "      <td>18450.0</td>\n",
              "    </tr>\n",
              "    <tr>\n",
              "      <th>2</th>\n",
              "      <td>นนทบุรี 53</td>\n",
              "      <td>29487.0</td>\n",
              "    </tr>\n",
              "    <tr>\n",
              "      <th>3</th>\n",
              "      <td>ปทุมธานี 53</td>\n",
              "      <td>22460.0</td>\n",
              "    </tr>\n",
              "    <tr>\n",
              "      <th>4</th>\n",
              "      <td>พระนครศรีอยุธยา 53</td>\n",
              "      <td>20717.0</td>\n",
              "    </tr>\n",
              "    <tr>\n",
              "      <th>...</th>\n",
              "      <td>...</td>\n",
              "      <td>...</td>\n",
              "    </tr>\n",
              "    <tr>\n",
              "      <th>226</th>\n",
              "      <td>ตรัง 55</td>\n",
              "      <td>20922.3</td>\n",
              "    </tr>\n",
              "    <tr>\n",
              "      <th>227</th>\n",
              "      <td>พัทลุง 55</td>\n",
              "      <td>16635.7</td>\n",
              "    </tr>\n",
              "    <tr>\n",
              "      <th>228</th>\n",
              "      <td>ปัตตานี 55</td>\n",
              "      <td>16668.1</td>\n",
              "    </tr>\n",
              "    <tr>\n",
              "      <th>229</th>\n",
              "      <td>ยะลา 55</td>\n",
              "      <td>12521.7</td>\n",
              "    </tr>\n",
              "    <tr>\n",
              "      <th>230</th>\n",
              "      <td>นราธิวาส 55</td>\n",
              "      <td>13727.8</td>\n",
              "    </tr>\n",
              "  </tbody>\n",
              "</table>\n",
              "<p>231 rows × 2 columns</p>\n",
              "</div>"
            ],
            "text/plain": [
              "                จังหวัด  avg_expenditure\n",
              "0      กรุงเทพมหานคร 53          30334.0\n",
              "1        สมุทรปราการ 53          18450.0\n",
              "2            นนทบุรี 53          29487.0\n",
              "3           ปทุมธานี 53          22460.0\n",
              "4    พระนครศรีอยุธยา 53          20717.0\n",
              "..                  ...              ...\n",
              "226             ตรัง 55          20922.3\n",
              "227           พัทลุง 55          16635.7\n",
              "228          ปัตตานี 55          16668.1\n",
              "229             ยะลา 55          12521.7\n",
              "230         นราธิวาส 55          13727.8\n",
              "\n",
              "[231 rows x 2 columns]"
            ]
          },
          "metadata": {
            "tags": []
          },
          "execution_count": 81
        }
      ]
    },
    {
      "cell_type": "code",
      "metadata": {
        "id": "dLjqk70qMmW3",
        "colab": {
          "base_uri": "https://localhost:8080/"
        },
        "outputId": "72b87c3e-e465-4103-a8ab-2b1858fe6983"
      },
      "source": [
        "avg_Expenditure_1.shape #ได้ว่าข้อมูลนี้มี 231 แถว 2 คอลัม"
      ],
      "execution_count": null,
      "outputs": [
        {
          "output_type": "execute_result",
          "data": {
            "text/plain": [
              "(231, 2)"
            ]
          },
          "metadata": {
            "tags": []
          },
          "execution_count": 82
        }
      ]
    },
    {
      "cell_type": "code",
      "metadata": {
        "id": "Orx3aJA8MmW3",
        "colab": {
          "base_uri": "https://localhost:8080/"
        },
        "outputId": "37dbaaa7-856d-478c-a44d-c0fe4e6c4d71"
      },
      "source": [
        "avg_Expenditure_1.isnull().any()  #เชคว่าภายในตารางมีค่าว่างหรือไม่ จากผลจะเห็นได้ว่าคอลัม avg_expenditure  มีค่าว่างอยู่"
      ],
      "execution_count": null,
      "outputs": [
        {
          "output_type": "execute_result",
          "data": {
            "text/plain": [
              "จังหวัด            False\n",
              "avg_expenditure     True\n",
              "dtype: bool"
            ]
          },
          "metadata": {
            "tags": []
          },
          "execution_count": 83
        }
      ]
    },
    {
      "cell_type": "code",
      "metadata": {
        "id": "Gc31L-etMmW3"
      },
      "source": [
        "avg_Expenditure_1 = avg_Expenditure_1.dropna() #แก้ไข missing valua โดยดรอปช่องที่ว่าง"
      ],
      "execution_count": null,
      "outputs": []
    },
    {
      "cell_type": "code",
      "metadata": {
        "id": "hfnWt3jLMmW4",
        "colab": {
          "base_uri": "https://localhost:8080/"
        },
        "outputId": "b52cda93-c4f0-4c76-c52c-b3f34874d99b"
      },
      "source": [
        "avg_Expenditure_1.isnull().any() #ตรวจสอบค่าว่างอีกรอบ พบว่าไม่มีค่าว่างอยู่แล้ว"
      ],
      "execution_count": null,
      "outputs": [
        {
          "output_type": "execute_result",
          "data": {
            "text/plain": [
              "จังหวัด            False\n",
              "avg_expenditure    False\n",
              "dtype: bool"
            ]
          },
          "metadata": {
            "tags": []
          },
          "execution_count": 85
        }
      ]
    },
    {
      "cell_type": "code",
      "metadata": {
        "id": "ubdD9ott1T9m",
        "colab": {
          "base_uri": "https://localhost:8080/"
        },
        "outputId": "5776a44b-fbf9-471e-f41e-e61c82b84237"
      },
      "source": [
        "avg_Expenditure_1.shape #หลังจากดรอปแล้วจะพบว่าข้อมูลนี้มี 229 แถว 2 คอลัม"
      ],
      "execution_count": null,
      "outputs": [
        {
          "output_type": "execute_result",
          "data": {
            "text/plain": [
              "(229, 2)"
            ]
          },
          "metadata": {
            "tags": []
          },
          "execution_count": 86
        }
      ]
    },
    {
      "cell_type": "markdown",
      "metadata": {
        "id": "El-LHjreQMOa"
      },
      "source": [
        "#การรวมข้อมูล\n",
        "จากการที่จัดกลุ่มในสี่ตารางแล้ว จึงทำการรวมตารางโดยใช้คีย์เป็นตัวเชื่อมคือจังหวัด"
      ]
    },
    {
      "cell_type": "code",
      "metadata": {
        "id": "61AY03GKqB7N",
        "colab": {
          "base_uri": "https://localhost:8080/",
          "height": 419
        },
        "outputId": "882b64bd-1e4c-4279-da03-108534e52d2c"
      },
      "source": [
        "New_table = avg_Debt_1.merge(avg_Income_1,how='left',left_on='จังหวัด',right_on='จังหวัด') #สร้างตัวแปร New_table มารับการรวมตารางของตาราง avg_Debt_1 กับ avg_Income_1 โดยการใช้คอลัมจังหวัดเป็นคีย์เชื่อมทั้งสองตาราง\n",
        "New_table #โดยเริ่มคอลัมจากทางซ้าย "
      ],
      "execution_count": null,
      "outputs": [
        {
          "output_type": "execute_result",
          "data": {
            "text/html": [
              "<div>\n",
              "<style scoped>\n",
              "    .dataframe tbody tr th:only-of-type {\n",
              "        vertical-align: middle;\n",
              "    }\n",
              "\n",
              "    .dataframe tbody tr th {\n",
              "        vertical-align: top;\n",
              "    }\n",
              "\n",
              "    .dataframe thead th {\n",
              "        text-align: right;\n",
              "    }\n",
              "</style>\n",
              "<table border=\"1\" class=\"dataframe\">\n",
              "  <thead>\n",
              "    <tr style=\"text-align: right;\">\n",
              "      <th></th>\n",
              "      <th>จังหวัด</th>\n",
              "      <th>avg_debt</th>\n",
              "      <th>avg_income</th>\n",
              "    </tr>\n",
              "  </thead>\n",
              "  <tbody>\n",
              "    <tr>\n",
              "      <th>0</th>\n",
              "      <td>กรุงเทพมหานคร 53</td>\n",
              "      <td>207665.0</td>\n",
              "      <td>42380.0</td>\n",
              "    </tr>\n",
              "    <tr>\n",
              "      <th>1</th>\n",
              "      <td>สมุทรปราการ 53</td>\n",
              "      <td>117360.8</td>\n",
              "      <td>23359.0</td>\n",
              "    </tr>\n",
              "    <tr>\n",
              "      <th>2</th>\n",
              "      <td>นนทบุรี 53</td>\n",
              "      <td>240769.0</td>\n",
              "      <td>34626.0</td>\n",
              "    </tr>\n",
              "    <tr>\n",
              "      <th>3</th>\n",
              "      <td>ปทุมธานี 53</td>\n",
              "      <td>220761.2</td>\n",
              "      <td>26686.0</td>\n",
              "    </tr>\n",
              "    <tr>\n",
              "      <th>4</th>\n",
              "      <td>พระนครศรีอยุธยา 53</td>\n",
              "      <td>163424.5</td>\n",
              "      <td>25820.0</td>\n",
              "    </tr>\n",
              "    <tr>\n",
              "      <th>...</th>\n",
              "      <td>...</td>\n",
              "      <td>...</td>\n",
              "      <td>...</td>\n",
              "    </tr>\n",
              "    <tr>\n",
              "      <th>224</th>\n",
              "      <td>ตรัง 55</td>\n",
              "      <td>160207.0</td>\n",
              "      <td>33269.9</td>\n",
              "    </tr>\n",
              "    <tr>\n",
              "      <th>225</th>\n",
              "      <td>พัทลุง 55</td>\n",
              "      <td>162248.7</td>\n",
              "      <td>26169.3</td>\n",
              "    </tr>\n",
              "    <tr>\n",
              "      <th>226</th>\n",
              "      <td>ปัตตานี 55</td>\n",
              "      <td>109102.5</td>\n",
              "      <td>20199.1</td>\n",
              "    </tr>\n",
              "    <tr>\n",
              "      <th>227</th>\n",
              "      <td>ยะลา 55</td>\n",
              "      <td>35828.9</td>\n",
              "      <td>22483.1</td>\n",
              "    </tr>\n",
              "    <tr>\n",
              "      <th>228</th>\n",
              "      <td>นราธิวาส 55</td>\n",
              "      <td>44974.1</td>\n",
              "      <td>16772.8</td>\n",
              "    </tr>\n",
              "  </tbody>\n",
              "</table>\n",
              "<p>229 rows × 3 columns</p>\n",
              "</div>"
            ],
            "text/plain": [
              "                จังหวัด  avg_debt  avg_income\n",
              "0      กรุงเทพมหานคร 53  207665.0     42380.0\n",
              "1        สมุทรปราการ 53  117360.8     23359.0\n",
              "2            นนทบุรี 53  240769.0     34626.0\n",
              "3           ปทุมธานี 53  220761.2     26686.0\n",
              "4    พระนครศรีอยุธยา 53  163424.5     25820.0\n",
              "..                  ...       ...         ...\n",
              "224             ตรัง 55  160207.0     33269.9\n",
              "225           พัทลุง 55  162248.7     26169.3\n",
              "226          ปัตตานี 55  109102.5     20199.1\n",
              "227             ยะลา 55   35828.9     22483.1\n",
              "228         นราธิวาส 55   44974.1     16772.8\n",
              "\n",
              "[229 rows x 3 columns]"
            ]
          },
          "metadata": {
            "tags": []
          },
          "execution_count": 87
        }
      ]
    },
    {
      "cell_type": "code",
      "metadata": {
        "id": "D9OzTa_fs9Py",
        "colab": {
          "base_uri": "https://localhost:8080/",
          "height": 419
        },
        "outputId": "2448c659-23d3-48ec-bff4-cd3562289cb7"
      },
      "source": [
        "NNew_table = New_table.merge(avg_Expenditure_1,how='left',left_on='จังหวัด',right_on='จังหวัด')  #สร้างตัวแปร NNew_table มารับการรวมตารางของตาราง New_table กับ avg_Expenditure_1 โดยการใช้คอลัมจังหวัดเป็นคีย์เชื่อมทั้งสองตาราง\n",
        "NNew_table"
      ],
      "execution_count": null,
      "outputs": [
        {
          "output_type": "execute_result",
          "data": {
            "text/html": [
              "<div>\n",
              "<style scoped>\n",
              "    .dataframe tbody tr th:only-of-type {\n",
              "        vertical-align: middle;\n",
              "    }\n",
              "\n",
              "    .dataframe tbody tr th {\n",
              "        vertical-align: top;\n",
              "    }\n",
              "\n",
              "    .dataframe thead th {\n",
              "        text-align: right;\n",
              "    }\n",
              "</style>\n",
              "<table border=\"1\" class=\"dataframe\">\n",
              "  <thead>\n",
              "    <tr style=\"text-align: right;\">\n",
              "      <th></th>\n",
              "      <th>จังหวัด</th>\n",
              "      <th>avg_debt</th>\n",
              "      <th>avg_income</th>\n",
              "      <th>avg_expenditure</th>\n",
              "    </tr>\n",
              "  </thead>\n",
              "  <tbody>\n",
              "    <tr>\n",
              "      <th>0</th>\n",
              "      <td>กรุงเทพมหานคร 53</td>\n",
              "      <td>207665.0</td>\n",
              "      <td>42380.0</td>\n",
              "      <td>30334.0</td>\n",
              "    </tr>\n",
              "    <tr>\n",
              "      <th>1</th>\n",
              "      <td>สมุทรปราการ 53</td>\n",
              "      <td>117360.8</td>\n",
              "      <td>23359.0</td>\n",
              "      <td>18450.0</td>\n",
              "    </tr>\n",
              "    <tr>\n",
              "      <th>2</th>\n",
              "      <td>นนทบุรี 53</td>\n",
              "      <td>240769.0</td>\n",
              "      <td>34626.0</td>\n",
              "      <td>29487.0</td>\n",
              "    </tr>\n",
              "    <tr>\n",
              "      <th>3</th>\n",
              "      <td>ปทุมธานี 53</td>\n",
              "      <td>220761.2</td>\n",
              "      <td>26686.0</td>\n",
              "      <td>22460.0</td>\n",
              "    </tr>\n",
              "    <tr>\n",
              "      <th>4</th>\n",
              "      <td>พระนครศรีอยุธยา 53</td>\n",
              "      <td>163424.5</td>\n",
              "      <td>25820.0</td>\n",
              "      <td>20717.0</td>\n",
              "    </tr>\n",
              "    <tr>\n",
              "      <th>...</th>\n",
              "      <td>...</td>\n",
              "      <td>...</td>\n",
              "      <td>...</td>\n",
              "      <td>...</td>\n",
              "    </tr>\n",
              "    <tr>\n",
              "      <th>224</th>\n",
              "      <td>ตรัง 55</td>\n",
              "      <td>160207.0</td>\n",
              "      <td>33269.9</td>\n",
              "      <td>20922.3</td>\n",
              "    </tr>\n",
              "    <tr>\n",
              "      <th>225</th>\n",
              "      <td>พัทลุง 55</td>\n",
              "      <td>162248.7</td>\n",
              "      <td>26169.3</td>\n",
              "      <td>16635.7</td>\n",
              "    </tr>\n",
              "    <tr>\n",
              "      <th>226</th>\n",
              "      <td>ปัตตานี 55</td>\n",
              "      <td>109102.5</td>\n",
              "      <td>20199.1</td>\n",
              "      <td>16668.1</td>\n",
              "    </tr>\n",
              "    <tr>\n",
              "      <th>227</th>\n",
              "      <td>ยะลา 55</td>\n",
              "      <td>35828.9</td>\n",
              "      <td>22483.1</td>\n",
              "      <td>12521.7</td>\n",
              "    </tr>\n",
              "    <tr>\n",
              "      <th>228</th>\n",
              "      <td>นราธิวาส 55</td>\n",
              "      <td>44974.1</td>\n",
              "      <td>16772.8</td>\n",
              "      <td>13727.8</td>\n",
              "    </tr>\n",
              "  </tbody>\n",
              "</table>\n",
              "<p>229 rows × 4 columns</p>\n",
              "</div>"
            ],
            "text/plain": [
              "                จังหวัด  avg_debt  avg_income  avg_expenditure\n",
              "0      กรุงเทพมหานคร 53  207665.0     42380.0          30334.0\n",
              "1        สมุทรปราการ 53  117360.8     23359.0          18450.0\n",
              "2            นนทบุรี 53  240769.0     34626.0          29487.0\n",
              "3           ปทุมธานี 53  220761.2     26686.0          22460.0\n",
              "4    พระนครศรีอยุธยา 53  163424.5     25820.0          20717.0\n",
              "..                  ...       ...         ...              ...\n",
              "224             ตรัง 55  160207.0     33269.9          20922.3\n",
              "225           พัทลุง 55  162248.7     26169.3          16635.7\n",
              "226          ปัตตานี 55  109102.5     20199.1          16668.1\n",
              "227             ยะลา 55   35828.9     22483.1          12521.7\n",
              "228         นราธิวาส 55   44974.1     16772.8          13727.8\n",
              "\n",
              "[229 rows x 4 columns]"
            ]
          },
          "metadata": {
            "tags": []
          },
          "execution_count": 88
        }
      ]
    },
    {
      "cell_type": "code",
      "metadata": {
        "id": "q0JgMHORspLH",
        "colab": {
          "base_uri": "https://localhost:8080/",
          "height": 419
        },
        "outputId": "beaabd35-7729-4888-869d-bfd58a37d92f"
      },
      "source": [
        "NNNew_table = NNew_table.merge(divorce_1,how='left',left_on='จังหวัด',right_on='จังหวัด') #สร้างตัวแปร NNNew_table มารับการรวมตารางของตาราง NNew_table กับ divorce_1 โดยการใช้คอลัมจังหวัดเป็นคีย์เชื่อมทั้งสองตาราง\n",
        "NNNew_table"
      ],
      "execution_count": null,
      "outputs": [
        {
          "output_type": "execute_result",
          "data": {
            "text/html": [
              "<div>\n",
              "<style scoped>\n",
              "    .dataframe tbody tr th:only-of-type {\n",
              "        vertical-align: middle;\n",
              "    }\n",
              "\n",
              "    .dataframe tbody tr th {\n",
              "        vertical-align: top;\n",
              "    }\n",
              "\n",
              "    .dataframe thead th {\n",
              "        text-align: right;\n",
              "    }\n",
              "</style>\n",
              "<table border=\"1\" class=\"dataframe\">\n",
              "  <thead>\n",
              "    <tr style=\"text-align: right;\">\n",
              "      <th></th>\n",
              "      <th>จังหวัด</th>\n",
              "      <th>avg_debt</th>\n",
              "      <th>avg_income</th>\n",
              "      <th>avg_expenditure</th>\n",
              "      <th>couple_div</th>\n",
              "      <th>C_Divorce</th>\n",
              "    </tr>\n",
              "  </thead>\n",
              "  <tbody>\n",
              "    <tr>\n",
              "      <th>0</th>\n",
              "      <td>กรุงเทพมหานคร 53</td>\n",
              "      <td>207665.0</td>\n",
              "      <td>42380.0</td>\n",
              "      <td>30334.0</td>\n",
              "      <td>16608.0</td>\n",
              "      <td>0</td>\n",
              "    </tr>\n",
              "    <tr>\n",
              "      <th>1</th>\n",
              "      <td>สมุทรปราการ 53</td>\n",
              "      <td>117360.8</td>\n",
              "      <td>23359.0</td>\n",
              "      <td>18450.0</td>\n",
              "      <td>3683.0</td>\n",
              "      <td>0</td>\n",
              "    </tr>\n",
              "    <tr>\n",
              "      <th>2</th>\n",
              "      <td>นนทบุรี 53</td>\n",
              "      <td>240769.0</td>\n",
              "      <td>34626.0</td>\n",
              "      <td>29487.0</td>\n",
              "      <td>2389.0</td>\n",
              "      <td>0</td>\n",
              "    </tr>\n",
              "    <tr>\n",
              "      <th>3</th>\n",
              "      <td>ปทุมธานี 53</td>\n",
              "      <td>220761.2</td>\n",
              "      <td>26686.0</td>\n",
              "      <td>22460.0</td>\n",
              "      <td>2370.0</td>\n",
              "      <td>0</td>\n",
              "    </tr>\n",
              "    <tr>\n",
              "      <th>4</th>\n",
              "      <td>พระนครศรีอยุธยา 53</td>\n",
              "      <td>163424.5</td>\n",
              "      <td>25820.0</td>\n",
              "      <td>20717.0</td>\n",
              "      <td>1981.0</td>\n",
              "      <td>1</td>\n",
              "    </tr>\n",
              "    <tr>\n",
              "      <th>...</th>\n",
              "      <td>...</td>\n",
              "      <td>...</td>\n",
              "      <td>...</td>\n",
              "      <td>...</td>\n",
              "      <td>...</td>\n",
              "      <td>...</td>\n",
              "    </tr>\n",
              "    <tr>\n",
              "      <th>224</th>\n",
              "      <td>ตรัง 55</td>\n",
              "      <td>160207.0</td>\n",
              "      <td>33269.9</td>\n",
              "      <td>20922.3</td>\n",
              "      <td>742.0</td>\n",
              "      <td>1</td>\n",
              "    </tr>\n",
              "    <tr>\n",
              "      <th>225</th>\n",
              "      <td>พัทลุง 55</td>\n",
              "      <td>162248.7</td>\n",
              "      <td>26169.3</td>\n",
              "      <td>16635.7</td>\n",
              "      <td>704.0</td>\n",
              "      <td>0</td>\n",
              "    </tr>\n",
              "    <tr>\n",
              "      <th>226</th>\n",
              "      <td>ปัตตานี 55</td>\n",
              "      <td>109102.5</td>\n",
              "      <td>20199.1</td>\n",
              "      <td>16668.1</td>\n",
              "      <td>255.0</td>\n",
              "      <td>0</td>\n",
              "    </tr>\n",
              "    <tr>\n",
              "      <th>227</th>\n",
              "      <td>ยะลา 55</td>\n",
              "      <td>35828.9</td>\n",
              "      <td>22483.1</td>\n",
              "      <td>12521.7</td>\n",
              "      <td>301.0</td>\n",
              "      <td>0</td>\n",
              "    </tr>\n",
              "    <tr>\n",
              "      <th>228</th>\n",
              "      <td>นราธิวาส 55</td>\n",
              "      <td>44974.1</td>\n",
              "      <td>16772.8</td>\n",
              "      <td>13727.8</td>\n",
              "      <td>225.0</td>\n",
              "      <td>1</td>\n",
              "    </tr>\n",
              "  </tbody>\n",
              "</table>\n",
              "<p>229 rows × 6 columns</p>\n",
              "</div>"
            ],
            "text/plain": [
              "                จังหวัด  avg_debt  ...  couple_div  C_Divorce\n",
              "0      กรุงเทพมหานคร 53  207665.0  ...     16608.0          0\n",
              "1        สมุทรปราการ 53  117360.8  ...      3683.0          0\n",
              "2            นนทบุรี 53  240769.0  ...      2389.0          0\n",
              "3           ปทุมธานี 53  220761.2  ...      2370.0          0\n",
              "4    พระนครศรีอยุธยา 53  163424.5  ...      1981.0          1\n",
              "..                  ...       ...  ...         ...        ...\n",
              "224             ตรัง 55  160207.0  ...       742.0          1\n",
              "225           พัทลุง 55  162248.7  ...       704.0          0\n",
              "226          ปัตตานี 55  109102.5  ...       255.0          0\n",
              "227             ยะลา 55   35828.9  ...       301.0          0\n",
              "228         นราธิวาส 55   44974.1  ...       225.0          1\n",
              "\n",
              "[229 rows x 6 columns]"
            ]
          },
          "metadata": {
            "tags": []
          },
          "execution_count": 89
        }
      ]
    },
    {
      "cell_type": "code",
      "metadata": {
        "id": "m9oomqMrv4Fq",
        "colab": {
          "base_uri": "https://localhost:8080/",
          "height": 419
        },
        "outputId": "e1aa98b2-33ca-4b2c-c7dd-7f013bc29895"
      },
      "source": [
        "X1 = NNNew_table #สร้างตัวแปร x1 รับข้อมูลในตาราง NNNew_table\n",
        "X1"
      ],
      "execution_count": null,
      "outputs": [
        {
          "output_type": "execute_result",
          "data": {
            "text/html": [
              "<div>\n",
              "<style scoped>\n",
              "    .dataframe tbody tr th:only-of-type {\n",
              "        vertical-align: middle;\n",
              "    }\n",
              "\n",
              "    .dataframe tbody tr th {\n",
              "        vertical-align: top;\n",
              "    }\n",
              "\n",
              "    .dataframe thead th {\n",
              "        text-align: right;\n",
              "    }\n",
              "</style>\n",
              "<table border=\"1\" class=\"dataframe\">\n",
              "  <thead>\n",
              "    <tr style=\"text-align: right;\">\n",
              "      <th></th>\n",
              "      <th>จังหวัด</th>\n",
              "      <th>avg_debt</th>\n",
              "      <th>avg_income</th>\n",
              "      <th>avg_expenditure</th>\n",
              "      <th>couple_div</th>\n",
              "      <th>C_Divorce</th>\n",
              "    </tr>\n",
              "  </thead>\n",
              "  <tbody>\n",
              "    <tr>\n",
              "      <th>0</th>\n",
              "      <td>กรุงเทพมหานคร 53</td>\n",
              "      <td>207665.0</td>\n",
              "      <td>42380.0</td>\n",
              "      <td>30334.0</td>\n",
              "      <td>16608.0</td>\n",
              "      <td>0</td>\n",
              "    </tr>\n",
              "    <tr>\n",
              "      <th>1</th>\n",
              "      <td>สมุทรปราการ 53</td>\n",
              "      <td>117360.8</td>\n",
              "      <td>23359.0</td>\n",
              "      <td>18450.0</td>\n",
              "      <td>3683.0</td>\n",
              "      <td>0</td>\n",
              "    </tr>\n",
              "    <tr>\n",
              "      <th>2</th>\n",
              "      <td>นนทบุรี 53</td>\n",
              "      <td>240769.0</td>\n",
              "      <td>34626.0</td>\n",
              "      <td>29487.0</td>\n",
              "      <td>2389.0</td>\n",
              "      <td>0</td>\n",
              "    </tr>\n",
              "    <tr>\n",
              "      <th>3</th>\n",
              "      <td>ปทุมธานี 53</td>\n",
              "      <td>220761.2</td>\n",
              "      <td>26686.0</td>\n",
              "      <td>22460.0</td>\n",
              "      <td>2370.0</td>\n",
              "      <td>0</td>\n",
              "    </tr>\n",
              "    <tr>\n",
              "      <th>4</th>\n",
              "      <td>พระนครศรีอยุธยา 53</td>\n",
              "      <td>163424.5</td>\n",
              "      <td>25820.0</td>\n",
              "      <td>20717.0</td>\n",
              "      <td>1981.0</td>\n",
              "      <td>1</td>\n",
              "    </tr>\n",
              "    <tr>\n",
              "      <th>...</th>\n",
              "      <td>...</td>\n",
              "      <td>...</td>\n",
              "      <td>...</td>\n",
              "      <td>...</td>\n",
              "      <td>...</td>\n",
              "      <td>...</td>\n",
              "    </tr>\n",
              "    <tr>\n",
              "      <th>224</th>\n",
              "      <td>ตรัง 55</td>\n",
              "      <td>160207.0</td>\n",
              "      <td>33269.9</td>\n",
              "      <td>20922.3</td>\n",
              "      <td>742.0</td>\n",
              "      <td>1</td>\n",
              "    </tr>\n",
              "    <tr>\n",
              "      <th>225</th>\n",
              "      <td>พัทลุง 55</td>\n",
              "      <td>162248.7</td>\n",
              "      <td>26169.3</td>\n",
              "      <td>16635.7</td>\n",
              "      <td>704.0</td>\n",
              "      <td>0</td>\n",
              "    </tr>\n",
              "    <tr>\n",
              "      <th>226</th>\n",
              "      <td>ปัตตานี 55</td>\n",
              "      <td>109102.5</td>\n",
              "      <td>20199.1</td>\n",
              "      <td>16668.1</td>\n",
              "      <td>255.0</td>\n",
              "      <td>0</td>\n",
              "    </tr>\n",
              "    <tr>\n",
              "      <th>227</th>\n",
              "      <td>ยะลา 55</td>\n",
              "      <td>35828.9</td>\n",
              "      <td>22483.1</td>\n",
              "      <td>12521.7</td>\n",
              "      <td>301.0</td>\n",
              "      <td>0</td>\n",
              "    </tr>\n",
              "    <tr>\n",
              "      <th>228</th>\n",
              "      <td>นราธิวาส 55</td>\n",
              "      <td>44974.1</td>\n",
              "      <td>16772.8</td>\n",
              "      <td>13727.8</td>\n",
              "      <td>225.0</td>\n",
              "      <td>1</td>\n",
              "    </tr>\n",
              "  </tbody>\n",
              "</table>\n",
              "<p>229 rows × 6 columns</p>\n",
              "</div>"
            ],
            "text/plain": [
              "                จังหวัด  avg_debt  ...  couple_div  C_Divorce\n",
              "0      กรุงเทพมหานคร 53  207665.0  ...     16608.0          0\n",
              "1        สมุทรปราการ 53  117360.8  ...      3683.0          0\n",
              "2            นนทบุรี 53  240769.0  ...      2389.0          0\n",
              "3           ปทุมธานี 53  220761.2  ...      2370.0          0\n",
              "4    พระนครศรีอยุธยา 53  163424.5  ...      1981.0          1\n",
              "..                  ...       ...  ...         ...        ...\n",
              "224             ตรัง 55  160207.0  ...       742.0          1\n",
              "225           พัทลุง 55  162248.7  ...       704.0          0\n",
              "226          ปัตตานี 55  109102.5  ...       255.0          0\n",
              "227             ยะลา 55   35828.9  ...       301.0          0\n",
              "228         นราธิวาส 55   44974.1  ...       225.0          1\n",
              "\n",
              "[229 rows x 6 columns]"
            ]
          },
          "metadata": {
            "tags": []
          },
          "execution_count": 90
        }
      ]
    },
    {
      "cell_type": "code",
      "metadata": {
        "id": "CkN_LCQHWBCA",
        "colab": {
          "base_uri": "https://localhost:8080/",
          "height": 419
        },
        "outputId": "47a7b342-f5f5-4da3-dbeb-e10922273022"
      },
      "source": [
        "Data = X1[['จังหวัด','C_Divorce','avg_debt','avg_income','avg_expenditure']]\n",
        "Data #เลือกเฉพาะคอลัมที่ต้องการได้ดังนี้"
      ],
      "execution_count": null,
      "outputs": [
        {
          "output_type": "execute_result",
          "data": {
            "text/html": [
              "<div>\n",
              "<style scoped>\n",
              "    .dataframe tbody tr th:only-of-type {\n",
              "        vertical-align: middle;\n",
              "    }\n",
              "\n",
              "    .dataframe tbody tr th {\n",
              "        vertical-align: top;\n",
              "    }\n",
              "\n",
              "    .dataframe thead th {\n",
              "        text-align: right;\n",
              "    }\n",
              "</style>\n",
              "<table border=\"1\" class=\"dataframe\">\n",
              "  <thead>\n",
              "    <tr style=\"text-align: right;\">\n",
              "      <th></th>\n",
              "      <th>จังหวัด</th>\n",
              "      <th>C_Divorce</th>\n",
              "      <th>avg_debt</th>\n",
              "      <th>avg_income</th>\n",
              "      <th>avg_expenditure</th>\n",
              "    </tr>\n",
              "  </thead>\n",
              "  <tbody>\n",
              "    <tr>\n",
              "      <th>0</th>\n",
              "      <td>กรุงเทพมหานคร 53</td>\n",
              "      <td>0</td>\n",
              "      <td>207665.0</td>\n",
              "      <td>42380.0</td>\n",
              "      <td>30334.0</td>\n",
              "    </tr>\n",
              "    <tr>\n",
              "      <th>1</th>\n",
              "      <td>สมุทรปราการ 53</td>\n",
              "      <td>0</td>\n",
              "      <td>117360.8</td>\n",
              "      <td>23359.0</td>\n",
              "      <td>18450.0</td>\n",
              "    </tr>\n",
              "    <tr>\n",
              "      <th>2</th>\n",
              "      <td>นนทบุรี 53</td>\n",
              "      <td>0</td>\n",
              "      <td>240769.0</td>\n",
              "      <td>34626.0</td>\n",
              "      <td>29487.0</td>\n",
              "    </tr>\n",
              "    <tr>\n",
              "      <th>3</th>\n",
              "      <td>ปทุมธานี 53</td>\n",
              "      <td>0</td>\n",
              "      <td>220761.2</td>\n",
              "      <td>26686.0</td>\n",
              "      <td>22460.0</td>\n",
              "    </tr>\n",
              "    <tr>\n",
              "      <th>4</th>\n",
              "      <td>พระนครศรีอยุธยา 53</td>\n",
              "      <td>1</td>\n",
              "      <td>163424.5</td>\n",
              "      <td>25820.0</td>\n",
              "      <td>20717.0</td>\n",
              "    </tr>\n",
              "    <tr>\n",
              "      <th>...</th>\n",
              "      <td>...</td>\n",
              "      <td>...</td>\n",
              "      <td>...</td>\n",
              "      <td>...</td>\n",
              "      <td>...</td>\n",
              "    </tr>\n",
              "    <tr>\n",
              "      <th>224</th>\n",
              "      <td>ตรัง 55</td>\n",
              "      <td>1</td>\n",
              "      <td>160207.0</td>\n",
              "      <td>33269.9</td>\n",
              "      <td>20922.3</td>\n",
              "    </tr>\n",
              "    <tr>\n",
              "      <th>225</th>\n",
              "      <td>พัทลุง 55</td>\n",
              "      <td>0</td>\n",
              "      <td>162248.7</td>\n",
              "      <td>26169.3</td>\n",
              "      <td>16635.7</td>\n",
              "    </tr>\n",
              "    <tr>\n",
              "      <th>226</th>\n",
              "      <td>ปัตตานี 55</td>\n",
              "      <td>0</td>\n",
              "      <td>109102.5</td>\n",
              "      <td>20199.1</td>\n",
              "      <td>16668.1</td>\n",
              "    </tr>\n",
              "    <tr>\n",
              "      <th>227</th>\n",
              "      <td>ยะลา 55</td>\n",
              "      <td>0</td>\n",
              "      <td>35828.9</td>\n",
              "      <td>22483.1</td>\n",
              "      <td>12521.7</td>\n",
              "    </tr>\n",
              "    <tr>\n",
              "      <th>228</th>\n",
              "      <td>นราธิวาส 55</td>\n",
              "      <td>1</td>\n",
              "      <td>44974.1</td>\n",
              "      <td>16772.8</td>\n",
              "      <td>13727.8</td>\n",
              "    </tr>\n",
              "  </tbody>\n",
              "</table>\n",
              "<p>229 rows × 5 columns</p>\n",
              "</div>"
            ],
            "text/plain": [
              "                จังหวัด  C_Divorce  avg_debt  avg_income  avg_expenditure\n",
              "0      กรุงเทพมหานคร 53          0  207665.0     42380.0          30334.0\n",
              "1        สมุทรปราการ 53          0  117360.8     23359.0          18450.0\n",
              "2            นนทบุรี 53          0  240769.0     34626.0          29487.0\n",
              "3           ปทุมธานี 53          0  220761.2     26686.0          22460.0\n",
              "4    พระนครศรีอยุธยา 53          1  163424.5     25820.0          20717.0\n",
              "..                  ...        ...       ...         ...              ...\n",
              "224             ตรัง 55          1  160207.0     33269.9          20922.3\n",
              "225           พัทลุง 55          0  162248.7     26169.3          16635.7\n",
              "226          ปัตตานี 55          0  109102.5     20199.1          16668.1\n",
              "227             ยะลา 55          0   35828.9     22483.1          12521.7\n",
              "228         นราธิวาส 55          1   44974.1     16772.8          13727.8\n",
              "\n",
              "[229 rows x 5 columns]"
            ]
          },
          "metadata": {
            "tags": []
          },
          "execution_count": 91
        }
      ]
    },
    {
      "cell_type": "markdown",
      "metadata": {
        "id": "gc-XHTC_dKkn"
      },
      "source": [
        "# KNN"
      ]
    },
    {
      "cell_type": "code",
      "metadata": {
        "id": "_fIaWkxl1boq"
      },
      "source": [
        "from sklearn.model_selection import train_test_split "
      ],
      "execution_count": null,
      "outputs": []
    },
    {
      "cell_type": "markdown",
      "metadata": {
        "id": "p1toUlAL1XQJ"
      },
      "source": [
        "> โดยจะกำหนดแบ่ง train กับ test โดย test size = 0.2 "
      ]
    },
    {
      "cell_type": "code",
      "metadata": {
        "id": "VxjQMPirbFhH"
      },
      "source": [
        "X1 = Data.iloc[:,2:4] #กำหนดค่า X โดยให้เอาทุกแถว ตั้งแต่คอลัมที่ 2 ถึง 5\n",
        "y1 = Data.iloc[:,1] #กำหนดค่า y โดยให้เอาทุกแถว เฉพาะคอลัมที่ 1\n",
        "X_train, X_test, y_train, y_test = train_test_split(X1,y1, test_size=0.2, random_state=1, stratify=y1)"
      ],
      "execution_count": null,
      "outputs": []
    },
    {
      "cell_type": "markdown",
      "metadata": {
        "id": "3nd1Ut6X2hAp"
      },
      "source": [
        "\n",
        ">**Import**"
      ]
    },
    {
      "cell_type": "code",
      "metadata": {
        "id": "eDnf0ybk01jx"
      },
      "source": [
        "from sklearn.neighbors import KNeighborsClassifier"
      ],
      "execution_count": null,
      "outputs": []
    },
    {
      "cell_type": "markdown",
      "metadata": {
        "id": "vYEuMZzg24DV"
      },
      "source": [
        ">**Define** นิยามโมเดล"
      ]
    },
    {
      "cell_type": "code",
      "metadata": {
        "id": "KIq-q99k08OC"
      },
      "source": [
        "myKNN=KNeighborsClassifier(n_neighbors=9) #n_neighbors คือ จำนวนเพื่อนบ้านที่จะพิจารณา"
      ],
      "execution_count": null,
      "outputs": []
    },
    {
      "cell_type": "markdown",
      "metadata": {
        "id": "W4IKort53GJH"
      },
      "source": [
        ">**Train** เพื่อสร้างโมเดล"
      ]
    },
    {
      "cell_type": "code",
      "metadata": {
        "id": "aPVKO5Ff1BVk",
        "colab": {
          "base_uri": "https://localhost:8080/"
        },
        "outputId": "73cc4c34-7d5d-4b9c-c0ea-c2fed3fb69a5"
      },
      "source": [
        "myKNN.fit(X_train,y_train) #input มี2ตัว คือ X และ y \n",
        "#โดยใช้น้ำหนักแต่ละจุดเท่ากัน"
      ],
      "execution_count": null,
      "outputs": [
        {
          "output_type": "execute_result",
          "data": {
            "text/plain": [
              "KNeighborsClassifier(algorithm='auto', leaf_size=30, metric='minkowski',\n",
              "                     metric_params=None, n_jobs=None, n_neighbors=9, p=2,\n",
              "                     weights='uniform')"
            ]
          },
          "metadata": {
            "tags": []
          },
          "execution_count": 111
        }
      ]
    },
    {
      "cell_type": "markdown",
      "metadata": {
        "id": "HunJRDax3oJP"
      },
      "source": [
        ">**Test** ใช้คำสั่ง .predict โดยที่ข้อมูลมากจาก X_test"
      ]
    },
    {
      "cell_type": "code",
      "metadata": {
        "id": "7EWwMJU41JNd",
        "colab": {
          "base_uri": "https://localhost:8080/"
        },
        "outputId": "c952a684-494a-43cf-ce42-67b649dd442b"
      },
      "source": [
        "myKNN.predict(X_test) #โดยใช้ predict ทำนายว่าตัวที่ใกล้สุด 3 ตัวแรก คือ 2"
      ],
      "execution_count": null,
      "outputs": [
        {
          "output_type": "execute_result",
          "data": {
            "text/plain": [
              "array([0, 0, 0, 1, 0, 1, 1, 1, 0, 0, 0, 0, 0, 0, 1, 0, 1, 1, 0, 0, 0, 0,\n",
              "       1, 0, 0, 1, 0, 0, 0, 0, 0, 1, 0, 1, 1, 1, 0, 1, 1, 1, 1, 0, 0, 0,\n",
              "       1, 0], dtype=int32)"
            ]
          },
          "metadata": {
            "tags": []
          },
          "execution_count": 112
        }
      ]
    },
    {
      "cell_type": "markdown",
      "metadata": {
        "id": "msCi_03J38dA"
      },
      "source": [
        ">ใช้คำสั่ง .predict_proba เป็นการคำนวณความน่าจะเป็นว่า ข้อมูลค่าใช้จ่าย รายได้ หนี้สินที่นำเข้าโมเดลนั้นจะอยู่กลุ่มไหนของการหย่ากี่เปอร์เซ็นต์"
      ]
    },
    {
      "cell_type": "code",
      "metadata": {
        "id": "rqm8c_Wb1QQn",
        "colab": {
          "base_uri": "https://localhost:8080/"
        },
        "outputId": "90e44c08-ffe6-4c6b-b072-d7dce26c374a"
      },
      "source": [
        "myKNN.predict_proba(X_test)"
      ],
      "execution_count": null,
      "outputs": [
        {
          "output_type": "execute_result",
          "data": {
            "text/plain": [
              "array([[0.55555556, 0.44444444],\n",
              "       [0.66666667, 0.33333333],\n",
              "       [0.66666667, 0.33333333],\n",
              "       [0.22222222, 0.77777778],\n",
              "       [0.66666667, 0.33333333],\n",
              "       [0.33333333, 0.66666667],\n",
              "       [0.33333333, 0.66666667],\n",
              "       [0.44444444, 0.55555556],\n",
              "       [0.66666667, 0.33333333],\n",
              "       [0.66666667, 0.33333333],\n",
              "       [0.66666667, 0.33333333],\n",
              "       [0.66666667, 0.33333333],\n",
              "       [0.66666667, 0.33333333],\n",
              "       [0.77777778, 0.22222222],\n",
              "       [0.33333333, 0.66666667],\n",
              "       [0.66666667, 0.33333333],\n",
              "       [0.33333333, 0.66666667],\n",
              "       [0.44444444, 0.55555556],\n",
              "       [0.66666667, 0.33333333],\n",
              "       [0.66666667, 0.33333333],\n",
              "       [0.55555556, 0.44444444],\n",
              "       [0.66666667, 0.33333333],\n",
              "       [0.44444444, 0.55555556],\n",
              "       [0.55555556, 0.44444444],\n",
              "       [0.66666667, 0.33333333],\n",
              "       [0.33333333, 0.66666667],\n",
              "       [0.66666667, 0.33333333],\n",
              "       [0.55555556, 0.44444444],\n",
              "       [0.55555556, 0.44444444],\n",
              "       [0.55555556, 0.44444444],\n",
              "       [0.77777778, 0.22222222],\n",
              "       [0.33333333, 0.66666667],\n",
              "       [0.88888889, 0.11111111],\n",
              "       [0.44444444, 0.55555556],\n",
              "       [0.33333333, 0.66666667],\n",
              "       [0.22222222, 0.77777778],\n",
              "       [0.66666667, 0.33333333],\n",
              "       [0.22222222, 0.77777778],\n",
              "       [0.11111111, 0.88888889],\n",
              "       [0.33333333, 0.66666667],\n",
              "       [0.33333333, 0.66666667],\n",
              "       [0.55555556, 0.44444444],\n",
              "       [0.66666667, 0.33333333],\n",
              "       [0.66666667, 0.33333333],\n",
              "       [0.44444444, 0.55555556],\n",
              "       [0.55555556, 0.44444444]])"
            ]
          },
          "metadata": {
            "tags": []
          },
          "execution_count": 113
        }
      ]
    },
    {
      "cell_type": "markdown",
      "metadata": {
        "id": "-tuJSKFA4mEc"
      },
      "source": [
        "> ตรวจสอบความแม่นยำของโมเดล ว่าสามารถจำแจกกลุ่มการหย่า ว่าอยู่กลุ่มมาก กลุ่มน้อย ได้ที่ความแม่นยำกี่เปอร์เซ็นต์"
      ]
    },
    {
      "cell_type": "code",
      "metadata": {
        "id": "9eyri_h52YFc"
      },
      "source": [
        "from sklearn.model_selection import cross_val_score"
      ],
      "execution_count": null,
      "outputs": []
    },
    {
      "cell_type": "code",
      "metadata": {
        "id": "jYMKU83ZfjTK",
        "colab": {
          "base_uri": "https://localhost:8080/"
        },
        "outputId": "30287362-c488-493e-9716-39eafac0b3cf"
      },
      "source": [
        "cross_val_score(myKNN, X_train, y_train, cv=12).mean()"
      ],
      "execution_count": null,
      "outputs": [
        {
          "output_type": "execute_result",
          "data": {
            "text/plain": [
              "0.513888888888889"
            ]
          },
          "metadata": {
            "tags": []
          },
          "execution_count": 116
        }
      ]
    },
    {
      "cell_type": "markdown",
      "metadata": {
        "id": "7j4-MYPEDRxw"
      },
      "source": [
        ">**สรุปได้ว่า** ค่าใช้จ่าย รายรับ หนี้สินโดยเฉลี่ย สามารถทำนายจำนวนคู่หย่าว่าแต่ละจังหวัดจัดอยู่ในกลุ่มมากหรือน้อยได้ ความแม่นยำ 51.38% เมื่อใช้โมเดล KNN"
      ]
    },
    {
      "cell_type": "markdown",
      "metadata": {
        "id": "B3PUXYEc3O-a"
      },
      "source": [
        "#Desition Tree"
      ]
    },
    {
      "cell_type": "markdown",
      "metadata": {
        "id": "J6OyQWhC3zEf"
      },
      "source": [
        ">**Import**"
      ]
    },
    {
      "cell_type": "code",
      "metadata": {
        "id": "hKpp1x2_3NrF"
      },
      "source": [
        "from sklearn.tree import DecisionTreeClassifier"
      ],
      "execution_count": null,
      "outputs": []
    },
    {
      "cell_type": "markdown",
      "metadata": {
        "id": "gDale_PZ34S1"
      },
      "source": [
        ">**Define**"
      ]
    },
    {
      "cell_type": "code",
      "metadata": {
        "id": "YL9-o7yX33lu"
      },
      "source": [
        "myTree=DecisionTreeClassifier(criterion='entropy',max_depth=2)\n",
        "#criterion คือ default เป็น ‘gini’ ซึ่งเราสามารถจะเลือกเป็น ‘entropy’ \n",
        "#max_depth ความลึกของ tree หรือจำนวน level ที่มากที่สุด ของ node ที่จะทำการ split"
      ],
      "execution_count": null,
      "outputs": []
    },
    {
      "cell_type": "markdown",
      "metadata": {
        "id": "SszPyuSV4Huy"
      },
      "source": [
        ">**Train**"
      ]
    },
    {
      "cell_type": "code",
      "metadata": {
        "id": "28pViJPT4HaN",
        "colab": {
          "base_uri": "https://localhost:8080/"
        },
        "outputId": "0ba42097-d63d-4729-d9a7-3ed9677602c3"
      },
      "source": [
        "myTree.fit(X_train,y_train) #กำหนดขอบเขตของข้อมูล"
      ],
      "execution_count": null,
      "outputs": [
        {
          "output_type": "execute_result",
          "data": {
            "text/plain": [
              "DecisionTreeClassifier(ccp_alpha=0.0, class_weight=None, criterion='entropy',\n",
              "                       max_depth=2, max_features=None, max_leaf_nodes=None,\n",
              "                       min_impurity_decrease=0.0, min_impurity_split=None,\n",
              "                       min_samples_leaf=1, min_samples_split=2,\n",
              "                       min_weight_fraction_leaf=0.0, presort='deprecated',\n",
              "                       random_state=None, splitter='best')"
            ]
          },
          "metadata": {
            "tags": []
          },
          "execution_count": 121
        }
      ]
    },
    {
      "cell_type": "markdown",
      "metadata": {
        "id": "M3GofbVf5Emq"
      },
      "source": [
        ">**Test**"
      ]
    },
    {
      "cell_type": "code",
      "metadata": {
        "id": "numvszER4PQo",
        "colab": {
          "base_uri": "https://localhost:8080/"
        },
        "outputId": "22a0f895-ed3e-46d0-88b6-aba02763f8fd"
      },
      "source": [
        "y_pred = myTree.predict(X_test)\n",
        "y_pred"
      ],
      "execution_count": null,
      "outputs": [
        {
          "output_type": "execute_result",
          "data": {
            "text/plain": [
              "array([0, 0, 0, 1, 0, 1, 1, 0, 0, 1, 0, 0, 1, 0, 1, 0, 0, 0, 0, 0, 0, 0,\n",
              "       1, 0, 0, 0, 0, 0, 0, 0, 0, 0, 0, 0, 1, 0, 0, 1, 1, 0, 0, 1, 1, 0,\n",
              "       0, 0], dtype=int32)"
            ]
          },
          "metadata": {
            "tags": []
          },
          "execution_count": 128
        }
      ]
    },
    {
      "cell_type": "markdown",
      "metadata": {
        "id": "dqZBirmw477f"
      },
      "source": [
        ">**Draw Tree**"
      ]
    },
    {
      "cell_type": "code",
      "metadata": {
        "id": "gOneAAYq47nW"
      },
      "source": [
        "from sklearn.tree import plot_tree"
      ],
      "execution_count": null,
      "outputs": []
    },
    {
      "cell_type": "code",
      "metadata": {
        "id": "6AOFGwmF5MTl",
        "colab": {
          "base_uri": "https://localhost:8080/",
          "height": 367
        },
        "outputId": "0d64af23-d39e-463d-b7a6-d13da4bb4ed5"
      },
      "source": [
        "plot_tree(myTree)"
      ],
      "execution_count": null,
      "outputs": [
        {
          "output_type": "execute_result",
          "data": {
            "text/plain": [
              "[Text(167.4, 181.2, 'X[0] <= 150403.047\\nentropy = 1.0\\nsamples = 183\\nvalue = [92, 91]'),\n",
              " Text(83.7, 108.72, 'X[1] <= 16999.4\\nentropy = 0.987\\nsamples = 118\\nvalue = [51, 67]'),\n",
              " Text(41.85, 36.23999999999998, 'entropy = 0.99\\nsamples = 43\\nvalue = [24, 19]'),\n",
              " Text(125.55000000000001, 36.23999999999998, 'entropy = 0.943\\nsamples = 75\\nvalue = [27, 48]'),\n",
              " Text(251.10000000000002, 108.72, 'X[0] <= 157076.602\\nentropy = 0.95\\nsamples = 65\\nvalue = [41, 24]'),\n",
              " Text(209.25, 36.23999999999998, 'entropy = 0.0\\nsamples = 5\\nvalue = [5, 0]'),\n",
              " Text(292.95, 36.23999999999998, 'entropy = 0.971\\nsamples = 60\\nvalue = [36, 24]')]"
            ]
          },
          "metadata": {
            "tags": []
          },
          "execution_count": 131
        },
        {
          "output_type": "display_data",
          "data": {
            "image/png": "[encoded data removed]",
            "text/plain": [
              "<Figure size 432x288 with 1 Axes>"
            ]
          },
          "metadata": {
            "tags": [],
            "needs_background": "light"
          }
        }
      ]
    },
    {
      "cell_type": "markdown",
      "metadata": {
        "id": "M_fsAYKE68QK"
      },
      "source": [
        ">**Evaluation**"
      ]
    },
    {
      "cell_type": "code",
      "metadata": {
        "id": "oYMmM9cP67vF"
      },
      "source": [
        "from sklearn.metrics import classification_report, confusion_matrix"
      ],
      "execution_count": null,
      "outputs": []
    },
    {
      "cell_type": "code",
      "metadata": {
        "id": "kwIdtdRt5PNl",
        "colab": {
          "base_uri": "https://localhost:8080/"
        },
        "outputId": "1bffe2d8-3581-4918-d693-789d994662d0"
      },
      "source": [
        "cross_val_score(myTree, X_train, y_train, cv=12).mean()"
      ],
      "execution_count": null,
      "outputs": [
        {
          "output_type": "execute_result",
          "data": {
            "text/plain": [
              "0.48159722222222223"
            ]
          },
          "metadata": {
            "tags": []
          },
          "execution_count": 138
        }
      ]
    },
    {
      "cell_type": "markdown",
      "metadata": {
        "id": "RbRldmRbBI3M"
      },
      "source": [
        ">**สรุปได้ว่า** ค่าใช้จ่าย รายรับ หนี้สินโดยเฉลี่ย สามารถทำนายจำนวนคู่หย่าว่าแต่ละจังหวัดจัดอยู่ในกลุ่มมากหรือน้อยได้ ความแม่นยำ 48.15% เมื่อใช้โมเดล Decision Tree"
      ]
    },
    {
      "cell_type": "markdown",
      "metadata": {
        "id": "QNbmTejS-oWa"
      },
      "source": [
        "#Random Forest"
      ]
    },
    {
      "cell_type": "code",
      "metadata": {
        "id": "o6N9yQK_8q-m",
        "colab": {
          "base_uri": "https://localhost:8080/"
        },
        "outputId": "e8fafad6-6edf-48a4-f961-ecf0c70c0c5a"
      },
      "source": [
        "from sklearn.ensemble import RandomForestClassifier\n",
        "skRF = RandomForestClassifier(random_state=231)\n",
        "skRF.fit(X_train,y_train)\n",
        "skRF.score(X1,y1)\n",
        "y_predrf = skRF.predict(X_test)\n",
        "y_predrf"
      ],
      "execution_count": null,
      "outputs": [
        {
          "output_type": "execute_result",
          "data": {
            "text/plain": [
              "array([0, 0, 0, 1, 0, 0, 1, 1, 0, 0, 0, 0, 0, 1, 1, 0, 0, 1, 0, 0, 1, 1,\n",
              "       1, 0, 0, 0, 0, 0, 0, 1, 1, 0, 0, 1, 1, 0, 1, 1, 1, 0, 0, 1, 1, 0,\n",
              "       1, 0], dtype=int32)"
            ]
          },
          "metadata": {
            "tags": []
          },
          "execution_count": 135
        }
      ]
    },
    {
      "cell_type": "code",
      "metadata": {
        "colab": {
          "base_uri": "https://localhost:8080/"
        },
        "id": "zJUkbLbb-Nqo",
        "outputId": "d7590d00-c4e5-4cd9-fe05-df901de2d7b5"
      },
      "source": [
        "cross_val_score(skRF, X_train, y_train, cv=12).mean()"
      ],
      "execution_count": null,
      "outputs": [
        {
          "output_type": "execute_result",
          "data": {
            "text/plain": [
              "0.5090277777777779"
            ]
          },
          "metadata": {
            "tags": []
          },
          "execution_count": 137
        }
      ]
    },
    {
      "cell_type": "markdown",
      "metadata": {
        "id": "8bKF-rlrBRhG"
      },
      "source": [
        ">**สรุปได้ว่า** ค่าใช้จ่าย รายรับ หนี้สินโดยเฉลี่ย สามารถทำนายจำนวนคู่หย่าว่าแต่ละจังหวัดจัดอยู่ในกลุ่มมากหรือน้อยได้ ความแม่นยำ 50.90% เมื่อใช้โมเดล RF"
      ]
    },
    {
      "cell_type": "markdown",
      "metadata": {
        "id": "yaZ9lHuTBa4a"
      },
      "source": [
        "\n",
        "\n",
        "---\n",
        "\n",
        "\n",
        "\n",
        "---\n",
        "\n",
        "\n",
        "#จากการทำทั้งสามโมเดลการทำนายพบว่าค่าใช้จ่าย รายรับ หนี้สินโดยเฉลี่ย สามารถทำนายจำนวนคู่หย่าว่าแต่ละจังหวัดจัดอยู่ในกลุ่มมากหรือน้อยได้ ที่มีความความแม่นยำมากที่สุดจากทั้งสามโมเดลคือ KNN โดยมีความแม่นยำ  51.38% \n",
        "\n",
        "---\n",
        "\n"
      ]
    }
  ]
}